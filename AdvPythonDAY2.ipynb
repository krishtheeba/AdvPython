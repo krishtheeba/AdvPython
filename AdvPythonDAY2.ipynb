{
 "cells": [
  {
   "cell_type": "code",
   "execution_count": null,
   "id": "a9b228ee-82ea-4ed7-a47a-4efbf4937e36",
   "metadata": {},
   "outputs": [],
   "source": [
    "#function- required, default,variablelength, keyword arg"
   ]
  },
  {
   "cell_type": "code",
   "execution_count": 1,
   "id": "67c83083-d955-4ba1-9d14-febab050e082",
   "metadata": {},
   "outputs": [
    {
     "ename": "TypeError",
     "evalue": "fx() missing 1 required positional argument: 'a'",
     "output_type": "error",
     "traceback": [
      "\u001b[1;31m---------------------------------------------------------------------------\u001b[0m",
      "\u001b[1;31mTypeError\u001b[0m                                 Traceback (most recent call last)",
      "Cell \u001b[1;32mIn[1], line 4\u001b[0m\n\u001b[0;32m      1\u001b[0m \u001b[38;5;28;01mdef\u001b[39;00m \u001b[38;5;21mfx\u001b[39m(a):\n\u001b[0;32m      2\u001b[0m     \u001b[38;5;28mprint\u001b[39m(a)\n\u001b[1;32m----> 4\u001b[0m fx()\n",
      "\u001b[1;31mTypeError\u001b[0m: fx() missing 1 required positional argument: 'a'"
     ]
    }
   ],
   "source": [
    "def fx(a):\n",
    "    print(a)\n",
    "\n",
    "fx()"
   ]
  },
  {
   "cell_type": "code",
   "execution_count": 3,
   "id": "b5301eb3-2dc3-458f-b8ce-52a053d381b4",
   "metadata": {},
   "outputs": [
    {
     "name": "stdout",
     "output_type": "stream",
     "text": [
      "100\n"
     ]
    }
   ],
   "source": [
    "def fx(a=10):\n",
    "    print(a)\n",
    "fx(100)"
   ]
  },
  {
   "cell_type": "code",
   "execution_count": 5,
   "id": "320fe46e-5c00-4c9e-a599-820336ea5d7b",
   "metadata": {},
   "outputs": [
    {
     "name": "stdout",
     "output_type": "stream",
     "text": [
      "10\n"
     ]
    }
   ],
   "source": [
    "fx()"
   ]
  },
  {
   "cell_type": "code",
   "execution_count": 7,
   "id": "5b8decbd-800b-47f0-a535-e52c4c8e76c8",
   "metadata": {},
   "outputs": [],
   "source": [
    "i=5\n",
    "def fx(a=i):\n",
    "    print(a)\n"
   ]
  },
  {
   "cell_type": "code",
   "execution_count": 9,
   "id": "1d4e3435-8999-4c6e-acb7-cefc24609333",
   "metadata": {},
   "outputs": [
    {
     "name": "stdout",
     "output_type": "stream",
     "text": [
      "5\n"
     ]
    }
   ],
   "source": [
    "i=10\n",
    "fx()"
   ]
  },
  {
   "cell_type": "code",
   "execution_count": null,
   "id": "1a4b5b7d-2d25-4e9e-b88b-1c07d1f7770c",
   "metadata": {},
   "outputs": [],
   "source": [
    "# required arg,default, variablelenth, keyword ar--> order of arg"
   ]
  },
  {
   "cell_type": "code",
   "execution_count": 13,
   "id": "c1c65ab9-9daa-48fb-b00a-af32a3ef0037",
   "metadata": {},
   "outputs": [
    {
     "name": "stdout",
     "output_type": "stream",
     "text": [
      "<class 'function'>\n"
     ]
    }
   ],
   "source": [
    "print(type(fx))"
   ]
  },
  {
   "cell_type": "code",
   "execution_count": 19,
   "id": "f06de955-1a31-44e7-8bf1-409f129d609e",
   "metadata": {},
   "outputs": [],
   "source": [
    "def fx(a1,*a3):   # \n",
    "    print(type(a1), a1)\n",
    "    print(type(a3) , a3)\n"
   ]
  },
  {
   "cell_type": "code",
   "execution_count": 21,
   "id": "c21ecb67-3c7d-4acc-9060-a8eaea31acef",
   "metadata": {},
   "outputs": [
    {
     "name": "stdout",
     "output_type": "stream",
     "text": [
      "<class 'tuple'> (1, 2, 3)\n",
      "<class 'tuple'> ()\n"
     ]
    }
   ],
   "source": [
    "fx((1,2,3))"
   ]
  },
  {
   "cell_type": "code",
   "execution_count": 23,
   "id": "b6895a0e-a14e-4ffe-b540-d588945d3547",
   "metadata": {},
   "outputs": [
    {
     "name": "stdout",
     "output_type": "stream",
     "text": [
      "<class 'tuple'> (1, 2, 3)\n",
      "<class 'tuple'> ('data', 'data1', 'data4')\n"
     ]
    }
   ],
   "source": [
    "fx((1,2,3),\"data\",\"data1\",\"data4\")"
   ]
  },
  {
   "cell_type": "code",
   "execution_count": 25,
   "id": "3581fdca-0654-4231-abe4-e716a60c23f2",
   "metadata": {},
   "outputs": [
    {
     "ename": "NameError",
     "evalue": "name 'VAR' is not defined",
     "output_type": "error",
     "traceback": [
      "\u001b[1;31m---------------------------------------------------------------------------\u001b[0m",
      "\u001b[1;31mNameError\u001b[0m                                 Traceback (most recent call last)",
      "Cell \u001b[1;32mIn[25], line 2\u001b[0m\n\u001b[0;32m      1\u001b[0m var\u001b[38;5;241m=\u001b[39m\u001b[38;5;241m10\u001b[39m\n\u001b[1;32m----> 2\u001b[0m \u001b[38;5;28mprint\u001b[39m(VAR)\n",
      "\u001b[1;31mNameError\u001b[0m: name 'VAR' is not defined"
     ]
    }
   ],
   "source": [
    "var=10\n",
    "print(VAR)"
   ]
  },
  {
   "cell_type": "code",
   "execution_count": 27,
   "id": "1105f269-e108-4409-8bc9-065913c050f2",
   "metadata": {},
   "outputs": [
    {
     "ename": "NameError",
     "evalue": "name 'port' is not defined",
     "output_type": "error",
     "traceback": [
      "\u001b[1;31m---------------------------------------------------------------------------\u001b[0m",
      "\u001b[1;31mNameError\u001b[0m                                 Traceback (most recent call last)",
      "Cell \u001b[1;32mIn[27], line 4\u001b[0m\n\u001b[0;32m      2\u001b[0m     port\u001b[38;5;241m=\u001b[39m\u001b[38;5;241m100\u001b[39m\n\u001b[0;32m      3\u001b[0m fx()\n\u001b[1;32m----> 4\u001b[0m \u001b[38;5;28mprint\u001b[39m(port)\n",
      "\u001b[1;31mNameError\u001b[0m: name 'port' is not defined"
     ]
    }
   ],
   "source": [
    "def fx():\n",
    "    port=100\n",
    "fx()\n",
    "print(port)"
   ]
  },
  {
   "cell_type": "code",
   "execution_count": 29,
   "id": "035027ff-1824-4a4b-9496-8014dbdcf728",
   "metadata": {},
   "outputs": [],
   "source": [
    "def fx():   #  using return data created inside function is available to main script\n",
    "    port=100\n",
    "    print(\"Inside Fx\")\n",
    "    return port\n",
    "\n"
   ]
  },
  {
   "cell_type": "code",
   "execution_count": 33,
   "id": "efb86993-8e64-4a35-a0d4-24d479a04492",
   "metadata": {},
   "outputs": [
    {
     "name": "stdout",
     "output_type": "stream",
     "text": [
      "Inside Fx\n",
      "100\n"
     ]
    }
   ],
   "source": [
    "rv=fx()\n",
    "print(rv)"
   ]
  },
  {
   "cell_type": "code",
   "execution_count": 35,
   "id": "d95846ec-88c5-4811-b218-82904a2cbd63",
   "metadata": {},
   "outputs": [
    {
     "name": "stdout",
     "output_type": "stream",
     "text": [
      "Inside fx\n",
      "100\n"
     ]
    }
   ],
   "source": [
    "def fx():\n",
    "    global port \n",
    "    port=100          # global port=100 - error\n",
    "    print(\"Inside fx\")\n",
    "\n",
    "fx()\n",
    "print(port)"
   ]
  },
  {
   "cell_type": "code",
   "execution_count": 37,
   "id": "7b3b0fb9-323e-4ef6-86db-045ecf5215a1",
   "metadata": {},
   "outputs": [
    {
     "name": "stdout",
     "output_type": "stream",
     "text": [
      "(1, 'Data', 1.222, True) <class 'tuple'>\n"
     ]
    }
   ],
   "source": [
    "def fx():\n",
    "    return 1,\"Data\",1.222,True\n",
    "\n",
    "rv=fx()\n",
    "print(rv, type(rv))"
   ]
  },
  {
   "cell_type": "code",
   "execution_count": 39,
   "id": "d9686be0-3c97-478f-96ac-2ec568f91c68",
   "metadata": {},
   "outputs": [
    {
     "name": "stdout",
     "output_type": "stream",
     "text": [
      "(1,) <class 'tuple'>\n"
     ]
    }
   ],
   "source": [
    "def fx():\n",
    "    return 1,\n",
    "\n",
    "rv=fx()\n",
    "print(rv,type(rv))"
   ]
  },
  {
   "cell_type": "code",
   "execution_count": 41,
   "id": "fefd495a-53f0-4539-9ede-b23012698d82",
   "metadata": {},
   "outputs": [],
   "source": [
    "# mutable type as default arg\n",
    "def fx(a,L=[]):\n",
    "    L.append(a)\n",
    "    return L"
   ]
  },
  {
   "cell_type": "code",
   "execution_count": 43,
   "id": "16971dcc-6392-491d-afd3-d0ae2805ee58",
   "metadata": {},
   "outputs": [
    {
     "data": {
      "text/plain": [
       "[1]"
      ]
     },
     "execution_count": 43,
     "metadata": {},
     "output_type": "execute_result"
    }
   ],
   "source": [
    "fx(1)  # required arg  --> [1]"
   ]
  },
  {
   "cell_type": "code",
   "execution_count": 45,
   "id": "0e877ea8-34d9-400d-8d0e-27b4ca6fa62f",
   "metadata": {},
   "outputs": [
    {
     "data": {
      "text/plain": [
       "[1, 2]"
      ]
     },
     "execution_count": 45,
     "metadata": {},
     "output_type": "execute_result"
    }
   ],
   "source": [
    "fx(2)  # [1,2]"
   ]
  },
  {
   "cell_type": "code",
   "execution_count": 47,
   "id": "d6415316-a973-4ddb-978e-47e6b9285a71",
   "metadata": {},
   "outputs": [],
   "source": [
    "def fx(a,L=None):  # default initialization happens once\n",
    "    if L is None:\n",
    "        L=[]        # happens 1st time\n",
    "    L.append(a)\n",
    "    return L\n",
    "        "
   ]
  },
  {
   "cell_type": "code",
   "execution_count": 49,
   "id": "8ab2c4ef-ae5c-4189-a386-3f62dc480f7d",
   "metadata": {},
   "outputs": [
    {
     "data": {
      "text/plain": [
       "[1]"
      ]
     },
     "execution_count": 49,
     "metadata": {},
     "output_type": "execute_result"
    }
   ],
   "source": [
    "fx(1)"
   ]
  },
  {
   "cell_type": "code",
   "execution_count": 51,
   "id": "7d49eb65-0113-4b26-8fd9-53e5ebc9419f",
   "metadata": {},
   "outputs": [
    {
     "data": {
      "text/plain": [
       "[2]"
      ]
     },
     "execution_count": 51,
     "metadata": {},
     "output_type": "execute_result"
    }
   ],
   "source": [
    "fx(2)"
   ]
  },
  {
   "cell_type": "code",
   "execution_count": 53,
   "id": "cb7b9714-4b2b-4414-9fa2-b4dfa4dc58d7",
   "metadata": {},
   "outputs": [
    {
     "data": {
      "text/plain": [
       "[3]"
      ]
     },
     "execution_count": 53,
     "metadata": {},
     "output_type": "execute_result"
    }
   ],
   "source": [
    "fx(3)"
   ]
  },
  {
   "cell_type": "code",
   "execution_count": null,
   "id": "82e8eb1d-e63e-4b8c-a1cb-043787f2600b",
   "metadata": {},
   "outputs": [],
   "source": [
    "# Default arg initialization happens once\n",
    "# Avoid mutable value as default arg"
   ]
  },
  {
   "cell_type": "code",
   "execution_count": 55,
   "id": "285187d3-1311-4d87-90b5-5a1afc8d6261",
   "metadata": {},
   "outputs": [
    {
     "data": {
      "text/plain": [
       "['C:\\\\Users\\\\theeba\\\\anaconda3\\\\python312.zip',\n",
       " 'C:\\\\Users\\\\theeba\\\\anaconda3\\\\DLLs',\n",
       " 'C:\\\\Users\\\\theeba\\\\anaconda3\\\\Lib',\n",
       " 'C:\\\\Users\\\\theeba\\\\anaconda3',\n",
       " '',\n",
       " 'C:\\\\Users\\\\theeba\\\\anaconda3\\\\Lib\\\\site-packages',\n",
       " 'C:\\\\Users\\\\theeba\\\\anaconda3\\\\Lib\\\\site-packages\\\\win32',\n",
       " 'C:\\\\Users\\\\theeba\\\\anaconda3\\\\Lib\\\\site-packages\\\\win32\\\\lib',\n",
       " 'C:\\\\Users\\\\theeba\\\\anaconda3\\\\Lib\\\\site-packages\\\\Pythonwin']"
      ]
     },
     "execution_count": 55,
     "metadata": {},
     "output_type": "execute_result"
    }
   ],
   "source": [
    "import sys\n",
    "sys.path"
   ]
  },
  {
   "cell_type": "code",
   "execution_count": null,
   "id": "3fde400e-cf62-4a74-bb67-e7a7dc8ceef8",
   "metadata": {},
   "outputs": [],
   "source": [
    "Object oriented style\n",
    "---------------------\n",
    "|\n",
    "class      - type\n",
    "object     - value\n",
    "method      - function\n",
    "\n",
    "10  ==> int type  ===> class int\n",
    "|\n",
    "object/ real entity\n",
    "\n",
    "var=10  # var is namespace/placeholder that maps to existing python object \n",
    "-256 to 256   range int preloaded"
   ]
  },
  {
   "cell_type": "code",
   "execution_count": 57,
   "id": "eb55fdcf-4b49-42a8-bce4-9697951df068",
   "metadata": {},
   "outputs": [
    {
     "data": {
      "text/plain": [
       "140717626317528"
      ]
     },
     "execution_count": 57,
     "metadata": {},
     "output_type": "execute_result"
    }
   ],
   "source": [
    "id(10)"
   ]
  },
  {
   "cell_type": "code",
   "execution_count": 59,
   "id": "66762d32-3eff-4e25-820a-277a3d2b08f3",
   "metadata": {},
   "outputs": [
    {
     "data": {
      "text/plain": [
       "140717626317528"
      ]
     },
     "execution_count": 59,
     "metadata": {},
     "output_type": "execute_result"
    }
   ],
   "source": [
    "a=10 \n",
    "id(a)"
   ]
  },
  {
   "cell_type": "code",
   "execution_count": 61,
   "id": "b7d5511e-af4c-4b2a-a563-f70d628e0447",
   "metadata": {},
   "outputs": [
    {
     "data": {
      "text/plain": [
       "140717626317528"
      ]
     },
     "execution_count": 61,
     "metadata": {},
     "output_type": "execute_result"
    }
   ],
   "source": [
    "b=10\n",
    "id(b)"
   ]
  },
  {
   "cell_type": "code",
   "execution_count": null,
   "id": "e81f9d18-1927-4fdd-ae65-b8a50ddd2e79",
   "metadata": {},
   "outputs": [],
   "source": [
    "a---> [10]\n",
    "b------|"
   ]
  },
  {
   "cell_type": "code",
   "execution_count": 63,
   "id": "3a2cacb2-48a7-4ec6-b1d2-bed80d8f4fa1",
   "metadata": {},
   "outputs": [
    {
     "data": {
      "text/plain": [
       "2488331668080"
      ]
     },
     "execution_count": 63,
     "metadata": {},
     "output_type": "execute_result"
    }
   ],
   "source": [
    "a=260\n",
    "id(a)"
   ]
  },
  {
   "cell_type": "code",
   "execution_count": 65,
   "id": "851b6b1c-b340-4c3e-9e8e-d61ac966d1e9",
   "metadata": {},
   "outputs": [
    {
     "data": {
      "text/plain": [
       "2488331943344"
      ]
     },
     "execution_count": 65,
     "metadata": {},
     "output_type": "execute_result"
    }
   ],
   "source": [
    "b=260\n",
    "id(b)"
   ]
  },
  {
   "cell_type": "code",
   "execution_count": null,
   "id": "888067d8-1bb8-4c4c-968c-a7f398714751",
   "metadata": {},
   "outputs": [],
   "source": [
    "exit() ----> automatic garbage collection-- deallocating object created"
   ]
  },
  {
   "cell_type": "code",
   "execution_count": 67,
   "id": "205ad981-1d4d-40a1-9477-33d498ad7855",
   "metadata": {},
   "outputs": [
    {
     "name": "stdout",
     "output_type": "stream",
     "text": [
      "Help on class str in module builtins:\n",
      "\n",
      "class str(object)\n",
      " |  str(object='') -> str\n",
      " |  str(bytes_or_buffer[, encoding[, errors]]) -> str\n",
      " |\n",
      " |  Create a new string object from the given object. If encoding or\n",
      " |  errors is specified, then the object must expose a data buffer\n",
      " |  that will be decoded using the given encoding and error handler.\n",
      " |  Otherwise, returns the result of object.__str__() (if defined)\n",
      " |  or repr(object).\n",
      " |  encoding defaults to sys.getdefaultencoding().\n",
      " |  errors defaults to 'strict'.\n",
      " |\n",
      " |  Methods defined here:\n",
      " |\n",
      " |  __add__(self, value, /)\n",
      " |      Return self+value.\n",
      " |\n",
      " |  __contains__(self, key, /)\n",
      " |      Return bool(key in self).\n",
      " |\n",
      " |  __eq__(self, value, /)\n",
      " |      Return self==value.\n",
      " |\n",
      " |  __format__(self, format_spec, /)\n",
      " |      Return a formatted version of the string as described by format_spec.\n",
      " |\n",
      " |  __ge__(self, value, /)\n",
      " |      Return self>=value.\n",
      " |\n",
      " |  __getattribute__(self, name, /)\n",
      " |      Return getattr(self, name).\n",
      " |\n",
      " |  __getitem__(self, key, /)\n",
      " |      Return self[key].\n",
      " |\n",
      " |  __getnewargs__(...)\n",
      " |\n",
      " |  __gt__(self, value, /)\n",
      " |      Return self>value.\n",
      " |\n",
      " |  __hash__(self, /)\n",
      " |      Return hash(self).\n",
      " |\n",
      " |  __iter__(self, /)\n",
      " |      Implement iter(self).\n",
      " |\n",
      " |  __le__(self, value, /)\n",
      " |      Return self<=value.\n",
      " |\n",
      " |  __len__(self, /)\n",
      " |      Return len(self).\n",
      " |\n",
      " |  __lt__(self, value, /)\n",
      " |      Return self<value.\n",
      " |\n",
      " |  __mod__(self, value, /)\n",
      " |      Return self%value.\n",
      " |\n",
      " |  __mul__(self, value, /)\n",
      " |      Return self*value.\n",
      " |\n",
      " |  __ne__(self, value, /)\n",
      " |      Return self!=value.\n",
      " |\n",
      " |  __repr__(self, /)\n",
      " |      Return repr(self).\n",
      " |\n",
      " |  __rmod__(self, value, /)\n",
      " |      Return value%self.\n",
      " |\n",
      " |  __rmul__(self, value, /)\n",
      " |      Return value*self.\n",
      " |\n",
      " |  __sizeof__(self, /)\n",
      " |      Return the size of the string in memory, in bytes.\n",
      " |\n",
      " |  __str__(self, /)\n",
      " |      Return str(self).\n",
      " |\n",
      " |  capitalize(self, /)\n",
      " |      Return a capitalized version of the string.\n",
      " |\n",
      " |      More specifically, make the first character have upper case and the rest lower\n",
      " |      case.\n",
      " |\n",
      " |  casefold(self, /)\n",
      " |      Return a version of the string suitable for caseless comparisons.\n",
      " |\n",
      " |  center(self, width, fillchar=' ', /)\n",
      " |      Return a centered string of length width.\n",
      " |\n",
      " |      Padding is done using the specified fill character (default is a space).\n",
      " |\n",
      " |  count(...)\n",
      " |      S.count(sub[, start[, end]]) -> int\n",
      " |\n",
      " |      Return the number of non-overlapping occurrences of substring sub in\n",
      " |      string S[start:end].  Optional arguments start and end are\n",
      " |      interpreted as in slice notation.\n",
      " |\n",
      " |  encode(self, /, encoding='utf-8', errors='strict')\n",
      " |      Encode the string using the codec registered for encoding.\n",
      " |\n",
      " |      encoding\n",
      " |        The encoding in which to encode the string.\n",
      " |      errors\n",
      " |        The error handling scheme to use for encoding errors.\n",
      " |        The default is 'strict' meaning that encoding errors raise a\n",
      " |        UnicodeEncodeError.  Other possible values are 'ignore', 'replace' and\n",
      " |        'xmlcharrefreplace' as well as any other name registered with\n",
      " |        codecs.register_error that can handle UnicodeEncodeErrors.\n",
      " |\n",
      " |  endswith(...)\n",
      " |      S.endswith(suffix[, start[, end]]) -> bool\n",
      " |\n",
      " |      Return True if S ends with the specified suffix, False otherwise.\n",
      " |      With optional start, test S beginning at that position.\n",
      " |      With optional end, stop comparing S at that position.\n",
      " |      suffix can also be a tuple of strings to try.\n",
      " |\n",
      " |  expandtabs(self, /, tabsize=8)\n",
      " |      Return a copy where all tab characters are expanded using spaces.\n",
      " |\n",
      " |      If tabsize is not given, a tab size of 8 characters is assumed.\n",
      " |\n",
      " |  find(...)\n",
      " |      S.find(sub[, start[, end]]) -> int\n",
      " |\n",
      " |      Return the lowest index in S where substring sub is found,\n",
      " |      such that sub is contained within S[start:end].  Optional\n",
      " |      arguments start and end are interpreted as in slice notation.\n",
      " |\n",
      " |      Return -1 on failure.\n",
      " |\n",
      " |  format(...)\n",
      " |      S.format(*args, **kwargs) -> str\n",
      " |\n",
      " |      Return a formatted version of S, using substitutions from args and kwargs.\n",
      " |      The substitutions are identified by braces ('{' and '}').\n",
      " |\n",
      " |  format_map(...)\n",
      " |      S.format_map(mapping) -> str\n",
      " |\n",
      " |      Return a formatted version of S, using substitutions from mapping.\n",
      " |      The substitutions are identified by braces ('{' and '}').\n",
      " |\n",
      " |  index(...)\n",
      " |      S.index(sub[, start[, end]]) -> int\n",
      " |\n",
      " |      Return the lowest index in S where substring sub is found,\n",
      " |      such that sub is contained within S[start:end].  Optional\n",
      " |      arguments start and end are interpreted as in slice notation.\n",
      " |\n",
      " |      Raises ValueError when the substring is not found.\n",
      " |\n",
      " |  isalnum(self, /)\n",
      " |      Return True if the string is an alpha-numeric string, False otherwise.\n",
      " |\n",
      " |      A string is alpha-numeric if all characters in the string are alpha-numeric and\n",
      " |      there is at least one character in the string.\n",
      " |\n",
      " |  isalpha(self, /)\n",
      " |      Return True if the string is an alphabetic string, False otherwise.\n",
      " |\n",
      " |      A string is alphabetic if all characters in the string are alphabetic and there\n",
      " |      is at least one character in the string.\n",
      " |\n",
      " |  isascii(self, /)\n",
      " |      Return True if all characters in the string are ASCII, False otherwise.\n",
      " |\n",
      " |      ASCII characters have code points in the range U+0000-U+007F.\n",
      " |      Empty string is ASCII too.\n",
      " |\n",
      " |  isdecimal(self, /)\n",
      " |      Return True if the string is a decimal string, False otherwise.\n",
      " |\n",
      " |      A string is a decimal string if all characters in the string are decimal and\n",
      " |      there is at least one character in the string.\n",
      " |\n",
      " |  isdigit(self, /)\n",
      " |      Return True if the string is a digit string, False otherwise.\n",
      " |\n",
      " |      A string is a digit string if all characters in the string are digits and there\n",
      " |      is at least one character in the string.\n",
      " |\n",
      " |  isidentifier(self, /)\n",
      " |      Return True if the string is a valid Python identifier, False otherwise.\n",
      " |\n",
      " |      Call keyword.iskeyword(s) to test whether string s is a reserved identifier,\n",
      " |      such as \"def\" or \"class\".\n",
      " |\n",
      " |  islower(self, /)\n",
      " |      Return True if the string is a lowercase string, False otherwise.\n",
      " |\n",
      " |      A string is lowercase if all cased characters in the string are lowercase and\n",
      " |      there is at least one cased character in the string.\n",
      " |\n",
      " |  isnumeric(self, /)\n",
      " |      Return True if the string is a numeric string, False otherwise.\n",
      " |\n",
      " |      A string is numeric if all characters in the string are numeric and there is at\n",
      " |      least one character in the string.\n",
      " |\n",
      " |  isprintable(self, /)\n",
      " |      Return True if the string is printable, False otherwise.\n",
      " |\n",
      " |      A string is printable if all of its characters are considered printable in\n",
      " |      repr() or if it is empty.\n",
      " |\n",
      " |  isspace(self, /)\n",
      " |      Return True if the string is a whitespace string, False otherwise.\n",
      " |\n",
      " |      A string is whitespace if all characters in the string are whitespace and there\n",
      " |      is at least one character in the string.\n",
      " |\n",
      " |  istitle(self, /)\n",
      " |      Return True if the string is a title-cased string, False otherwise.\n",
      " |\n",
      " |      In a title-cased string, upper- and title-case characters may only\n",
      " |      follow uncased characters and lowercase characters only cased ones.\n",
      " |\n",
      " |  isupper(self, /)\n",
      " |      Return True if the string is an uppercase string, False otherwise.\n",
      " |\n",
      " |      A string is uppercase if all cased characters in the string are uppercase and\n",
      " |      there is at least one cased character in the string.\n",
      " |\n",
      " |  join(self, iterable, /)\n",
      " |      Concatenate any number of strings.\n",
      " |\n",
      " |      The string whose method is called is inserted in between each given string.\n",
      " |      The result is returned as a new string.\n",
      " |\n",
      " |      Example: '.'.join(['ab', 'pq', 'rs']) -> 'ab.pq.rs'\n",
      " |\n",
      " |  ljust(self, width, fillchar=' ', /)\n",
      " |      Return a left-justified string of length width.\n",
      " |\n",
      " |      Padding is done using the specified fill character (default is a space).\n",
      " |\n",
      " |  lower(self, /)\n",
      " |      Return a copy of the string converted to lowercase.\n",
      " |\n",
      " |  lstrip(self, chars=None, /)\n",
      " |      Return a copy of the string with leading whitespace removed.\n",
      " |\n",
      " |      If chars is given and not None, remove characters in chars instead.\n",
      " |\n",
      " |  partition(self, sep, /)\n",
      " |      Partition the string into three parts using the given separator.\n",
      " |\n",
      " |      This will search for the separator in the string.  If the separator is found,\n",
      " |      returns a 3-tuple containing the part before the separator, the separator\n",
      " |      itself, and the part after it.\n",
      " |\n",
      " |      If the separator is not found, returns a 3-tuple containing the original string\n",
      " |      and two empty strings.\n",
      " |\n",
      " |  removeprefix(self, prefix, /)\n",
      " |      Return a str with the given prefix string removed if present.\n",
      " |\n",
      " |      If the string starts with the prefix string, return string[len(prefix):].\n",
      " |      Otherwise, return a copy of the original string.\n",
      " |\n",
      " |  removesuffix(self, suffix, /)\n",
      " |      Return a str with the given suffix string removed if present.\n",
      " |\n",
      " |      If the string ends with the suffix string and that suffix is not empty,\n",
      " |      return string[:-len(suffix)]. Otherwise, return a copy of the original\n",
      " |      string.\n",
      " |\n",
      " |  replace(self, old, new, count=-1, /)\n",
      " |      Return a copy with all occurrences of substring old replaced by new.\n",
      " |\n",
      " |        count\n",
      " |          Maximum number of occurrences to replace.\n",
      " |          -1 (the default value) means replace all occurrences.\n",
      " |\n",
      " |      If the optional argument count is given, only the first count occurrences are\n",
      " |      replaced.\n",
      " |\n",
      " |  rfind(...)\n",
      " |      S.rfind(sub[, start[, end]]) -> int\n",
      " |\n",
      " |      Return the highest index in S where substring sub is found,\n",
      " |      such that sub is contained within S[start:end].  Optional\n",
      " |      arguments start and end are interpreted as in slice notation.\n",
      " |\n",
      " |      Return -1 on failure.\n",
      " |\n",
      " |  rindex(...)\n",
      " |      S.rindex(sub[, start[, end]]) -> int\n",
      " |\n",
      " |      Return the highest index in S where substring sub is found,\n",
      " |      such that sub is contained within S[start:end].  Optional\n",
      " |      arguments start and end are interpreted as in slice notation.\n",
      " |\n",
      " |      Raises ValueError when the substring is not found.\n",
      " |\n",
      " |  rjust(self, width, fillchar=' ', /)\n",
      " |      Return a right-justified string of length width.\n",
      " |\n",
      " |      Padding is done using the specified fill character (default is a space).\n",
      " |\n",
      " |  rpartition(self, sep, /)\n",
      " |      Partition the string into three parts using the given separator.\n",
      " |\n",
      " |      This will search for the separator in the string, starting at the end. If\n",
      " |      the separator is found, returns a 3-tuple containing the part before the\n",
      " |      separator, the separator itself, and the part after it.\n",
      " |\n",
      " |      If the separator is not found, returns a 3-tuple containing two empty strings\n",
      " |      and the original string.\n",
      " |\n",
      " |  rsplit(self, /, sep=None, maxsplit=-1)\n",
      " |      Return a list of the substrings in the string, using sep as the separator string.\n",
      " |\n",
      " |        sep\n",
      " |          The separator used to split the string.\n",
      " |\n",
      " |          When set to None (the default value), will split on any whitespace\n",
      " |          character (including \\n \\r \\t \\f and spaces) and will discard\n",
      " |          empty strings from the result.\n",
      " |        maxsplit\n",
      " |          Maximum number of splits.\n",
      " |          -1 (the default value) means no limit.\n",
      " |\n",
      " |      Splitting starts at the end of the string and works to the front.\n",
      " |\n",
      " |  rstrip(self, chars=None, /)\n",
      " |      Return a copy of the string with trailing whitespace removed.\n",
      " |\n",
      " |      If chars is given and not None, remove characters in chars instead.\n",
      " |\n",
      " |  split(self, /, sep=None, maxsplit=-1)\n",
      " |      Return a list of the substrings in the string, using sep as the separator string.\n",
      " |\n",
      " |        sep\n",
      " |          The separator used to split the string.\n",
      " |\n",
      " |          When set to None (the default value), will split on any whitespace\n",
      " |          character (including \\n \\r \\t \\f and spaces) and will discard\n",
      " |          empty strings from the result.\n",
      " |        maxsplit\n",
      " |          Maximum number of splits.\n",
      " |          -1 (the default value) means no limit.\n",
      " |\n",
      " |      Splitting starts at the front of the string and works to the end.\n",
      " |\n",
      " |      Note, str.split() is mainly useful for data that has been intentionally\n",
      " |      delimited.  With natural text that includes punctuation, consider using\n",
      " |      the regular expression module.\n",
      " |\n",
      " |  splitlines(self, /, keepends=False)\n",
      " |      Return a list of the lines in the string, breaking at line boundaries.\n",
      " |\n",
      " |      Line breaks are not included in the resulting list unless keepends is given and\n",
      " |      true.\n",
      " |\n",
      " |  startswith(...)\n",
      " |      S.startswith(prefix[, start[, end]]) -> bool\n",
      " |\n",
      " |      Return True if S starts with the specified prefix, False otherwise.\n",
      " |      With optional start, test S beginning at that position.\n",
      " |      With optional end, stop comparing S at that position.\n",
      " |      prefix can also be a tuple of strings to try.\n",
      " |\n",
      " |  strip(self, chars=None, /)\n",
      " |      Return a copy of the string with leading and trailing whitespace removed.\n",
      " |\n",
      " |      If chars is given and not None, remove characters in chars instead.\n",
      " |\n",
      " |  swapcase(self, /)\n",
      " |      Convert uppercase characters to lowercase and lowercase characters to uppercase.\n",
      " |\n",
      " |  title(self, /)\n",
      " |      Return a version of the string where each word is titlecased.\n",
      " |\n",
      " |      More specifically, words start with uppercased characters and all remaining\n",
      " |      cased characters have lower case.\n",
      " |\n",
      " |  translate(self, table, /)\n",
      " |      Replace each character in the string using the given translation table.\n",
      " |\n",
      " |        table\n",
      " |          Translation table, which must be a mapping of Unicode ordinals to\n",
      " |          Unicode ordinals, strings, or None.\n",
      " |\n",
      " |      The table must implement lookup/indexing via __getitem__, for instance a\n",
      " |      dictionary or list.  If this operation raises LookupError, the character is\n",
      " |      left untouched.  Characters mapped to None are deleted.\n",
      " |\n",
      " |  upper(self, /)\n",
      " |      Return a copy of the string converted to uppercase.\n",
      " |\n",
      " |  zfill(self, width, /)\n",
      " |      Pad a numeric string with zeros on the left, to fill a field of the given width.\n",
      " |\n",
      " |      The string is never truncated.\n",
      " |\n",
      " |  ----------------------------------------------------------------------\n",
      " |  Static methods defined here:\n",
      " |\n",
      " |  __new__(*args, **kwargs)\n",
      " |      Create and return a new object.  See help(type) for accurate signature.\n",
      " |\n",
      " |  maketrans(...)\n",
      " |      Return a translation table usable for str.translate().\n",
      " |\n",
      " |      If there is only one argument, it must be a dictionary mapping Unicode\n",
      " |      ordinals (integers) or characters to Unicode ordinals, strings or None.\n",
      " |      Character keys will be then converted to ordinals.\n",
      " |      If there are two arguments, they must be strings of equal length, and\n",
      " |      in the resulting dictionary, each character in x will be mapped to the\n",
      " |      character at the same position in y. If there is a third argument, it\n",
      " |      must be a string, whose characters will be mapped to None in the result.\n",
      "\n"
     ]
    }
   ],
   "source": [
    "help(str)"
   ]
  },
  {
   "cell_type": "code",
   "execution_count": null,
   "id": "d87e4c4b-3d1b-447b-9315-b24587b28f31",
   "metadata": {},
   "outputs": [],
   "source": [
    "Methods           vs     function\n",
    "str.upper               len\n",
    "str.lower              help\n",
    "str.split               type"
   ]
  },
  {
   "cell_type": "code",
   "execution_count": 69,
   "id": "46ee891b-aa02-4879-a11d-8d20f33f357f",
   "metadata": {},
   "outputs": [
    {
     "name": "stdout",
     "output_type": "stream",
     "text": [
      "Help on list object:\n",
      "\n",
      "class list(object)\n",
      " |  list(iterable=(), /)\n",
      " |\n",
      " |  Built-in mutable sequence.\n",
      " |\n",
      " |  If no argument is given, the constructor creates a new empty list.\n",
      " |  The argument must be an iterable if specified.\n",
      " |\n",
      " |  Methods defined here:\n",
      " |\n",
      " |  __add__(self, value, /)\n",
      " |      Return self+value.\n",
      " |\n",
      " |  __contains__(self, key, /)\n",
      " |      Return bool(key in self).\n",
      " |\n",
      " |  __delitem__(self, key, /)\n",
      " |      Delete self[key].\n",
      " |\n",
      " |  __eq__(self, value, /)\n",
      " |      Return self==value.\n",
      " |\n",
      " |  __ge__(self, value, /)\n",
      " |      Return self>=value.\n",
      " |\n",
      " |  __getattribute__(self, name, /)\n",
      " |      Return getattr(self, name).\n",
      " |\n",
      " |  __getitem__(self, index, /)\n",
      " |      Return self[index].\n",
      " |\n",
      " |  __gt__(self, value, /)\n",
      " |      Return self>value.\n",
      " |\n",
      " |  __iadd__(self, value, /)\n",
      " |      Implement self+=value.\n",
      " |\n",
      " |  __imul__(self, value, /)\n",
      " |      Implement self*=value.\n",
      " |\n",
      " |  __init__(self, /, *args, **kwargs)\n",
      " |      Initialize self.  See help(type(self)) for accurate signature.\n",
      " |\n",
      " |  __iter__(self, /)\n",
      " |      Implement iter(self).\n",
      " |\n",
      " |  __le__(self, value, /)\n",
      " |      Return self<=value.\n",
      " |\n",
      " |  __len__(self, /)\n",
      " |      Return len(self).\n",
      " |\n",
      " |  __lt__(self, value, /)\n",
      " |      Return self<value.\n",
      " |\n",
      " |  __mul__(self, value, /)\n",
      " |      Return self*value.\n",
      " |\n",
      " |  __ne__(self, value, /)\n",
      " |      Return self!=value.\n",
      " |\n",
      " |  __repr__(self, /)\n",
      " |      Return repr(self).\n",
      " |\n",
      " |  __reversed__(self, /)\n",
      " |      Return a reverse iterator over the list.\n",
      " |\n",
      " |  __rmul__(self, value, /)\n",
      " |      Return value*self.\n",
      " |\n",
      " |  __setitem__(self, key, value, /)\n",
      " |      Set self[key] to value.\n",
      " |\n",
      " |  __sizeof__(self, /)\n",
      " |      Return the size of the list in memory, in bytes.\n",
      " |\n",
      " |  append(self, object, /)\n",
      " |      Append object to the end of the list.\n",
      " |\n",
      " |  clear(self, /)\n",
      " |      Remove all items from list.\n",
      " |\n",
      " |  copy(self, /)\n",
      " |      Return a shallow copy of the list.\n",
      " |\n",
      " |  count(self, value, /)\n",
      " |      Return number of occurrences of value.\n",
      " |\n",
      " |  extend(self, iterable, /)\n",
      " |      Extend list by appending elements from the iterable.\n",
      " |\n",
      " |  index(self, value, start=0, stop=9223372036854775807, /)\n",
      " |      Return first index of value.\n",
      " |\n",
      " |      Raises ValueError if the value is not present.\n",
      " |\n",
      " |  insert(self, index, object, /)\n",
      " |      Insert object before index.\n",
      " |\n",
      " |  pop(self, index=-1, /)\n",
      " |      Remove and return item at index (default last).\n",
      " |\n",
      " |      Raises IndexError if list is empty or index is out of range.\n",
      " |\n",
      " |  remove(self, value, /)\n",
      " |      Remove first occurrence of value.\n",
      " |\n",
      " |      Raises ValueError if the value is not present.\n",
      " |\n",
      " |  reverse(self, /)\n",
      " |      Reverse *IN PLACE*.\n",
      " |\n",
      " |  sort(self, /, *, key=None, reverse=False)\n",
      " |      Sort the list in ascending order and return None.\n",
      " |\n",
      " |      The sort is in-place (i.e. the list itself is modified) and stable (i.e. the\n",
      " |      order of two equal elements is maintained).\n",
      " |\n",
      " |      If a key function is given, apply it once to each list item and sort them,\n",
      " |      ascending or descending, according to their function values.\n",
      " |\n",
      " |      The reverse flag can be set to sort in descending order.\n",
      " |\n",
      " |  ----------------------------------------------------------------------\n",
      " |  Class methods defined here:\n",
      " |\n",
      " |  __class_getitem__(...)\n",
      " |      See PEP 585\n",
      " |\n",
      " |  ----------------------------------------------------------------------\n",
      " |  Static methods defined here:\n",
      " |\n",
      " |  __new__(*args, **kwargs)\n",
      " |      Create and return a new object.  See help(type) for accurate signature.\n",
      " |\n",
      " |  ----------------------------------------------------------------------\n",
      " |  Data and other attributes defined here:\n",
      " |\n",
      " |  __hash__ = None\n",
      "\n"
     ]
    }
   ],
   "source": [
    "L=[]\n",
    "help([])"
   ]
  },
  {
   "cell_type": "code",
   "execution_count": null,
   "id": "8af7b610-309d-4e5d-8b8e-b3539f71b5b4",
   "metadata": {},
   "outputs": [],
   "source": [
    "syntax:-\n",
    "======\n",
    "class classname:\n",
    "    <class_attributes>\n",
    "    <class_attributes>\n",
    "\n",
    "classname.class_attributes"
   ]
  },
  {
   "cell_type": "code",
   "execution_count": 71,
   "id": "dd7c36fc-d4b3-42e1-88d2-9e0db7053a1d",
   "metadata": {},
   "outputs": [],
   "source": [
    "fname=\"test.html\"     # procedural style - variable\n",
    "\n",
    "class box:\n",
    "    findex=101     # class attributes\n",
    "    fpath=\"/etc/\"   # class attributes"
   ]
  },
  {
   "cell_type": "code",
   "execution_count": 73,
   "id": "51ec14f0-603d-48d0-bd83-6fa1bb8ed897",
   "metadata": {},
   "outputs": [
    {
     "name": "stdout",
     "output_type": "stream",
     "text": [
      "test.html\n"
     ]
    }
   ],
   "source": [
    "print(fname)"
   ]
  },
  {
   "cell_type": "code",
   "execution_count": 75,
   "id": "3e05f213-03fa-46cc-9ed4-e9c33d67b09a",
   "metadata": {},
   "outputs": [
    {
     "name": "stdout",
     "output_type": "stream",
     "text": [
      "101\n",
      "/etc/\n"
     ]
    }
   ],
   "source": [
    "print(box.findex)  # classname.attributename\n",
    "print(box.fpath)"
   ]
  },
  {
   "cell_type": "code",
   "execution_count": 81,
   "id": "e774c4c5-d61d-43fa-b7bc-3a622f1fa9cf",
   "metadata": {},
   "outputs": [
    {
     "name": "stdout",
     "output_type": "stream",
     "text": [
      "100\n",
      "12.2\n",
      "1\n",
      "2\n",
      "[1, 2, 3, 4]\n",
      "data2\n",
      "v1\n",
      "{'k1', 'k2'}\n"
     ]
    }
   ],
   "source": [
    "class box:\n",
    "    a=100\n",
    "    b=12.2\n",
    "    c=[1,2,3]\n",
    "    d=(\"data1\",\"data2\")\n",
    "    e={\"k1\":\"v1\"}\n",
    "    f={\"k1\",\"k2\"}\n",
    "\n",
    "print(box.a)\n",
    "print(box.b)\n",
    "print(box.c[0])\n",
    "print(box.c[1])\n",
    "box.c.append(4)\n",
    "print(box.c)\n",
    "print(box.d[-1])\n",
    "print(box.e['k1'])\n",
    "print(box.f)"
   ]
  },
  {
   "cell_type": "code",
   "execution_count": 83,
   "id": "3a8dab3d-a2c3-41b7-a8c6-310bf7813ff3",
   "metadata": {},
   "outputs": [
    {
     "ename": "NameError",
     "evalue": "name 'Var' is not defined",
     "output_type": "error",
     "traceback": [
      "\u001b[1;31m---------------------------------------------------------------------------\u001b[0m",
      "\u001b[1;31mNameError\u001b[0m                                 Traceback (most recent call last)",
      "Cell \u001b[1;32mIn[83], line 2\u001b[0m\n\u001b[0;32m      1\u001b[0m var\u001b[38;5;241m=\u001b[39m\u001b[38;5;241m1000\u001b[39m\n\u001b[1;32m----> 2\u001b[0m \u001b[38;5;28mprint\u001b[39m(Var)\n",
      "\u001b[1;31mNameError\u001b[0m: name 'Var' is not defined"
     ]
    }
   ],
   "source": [
    "var=1000\n",
    "print(Var)  # nameError"
   ]
  },
  {
   "cell_type": "code",
   "execution_count": 85,
   "id": "5658eda6-477f-438a-ab6d-a619fff63f3d",
   "metadata": {},
   "outputs": [
    {
     "ename": "AttributeError",
     "evalue": "type object 'Box' has no attribute 'PORT'",
     "output_type": "error",
     "traceback": [
      "\u001b[1;31m---------------------------------------------------------------------------\u001b[0m",
      "\u001b[1;31mAttributeError\u001b[0m                            Traceback (most recent call last)",
      "Cell \u001b[1;32mIn[85], line 3\u001b[0m\n\u001b[0;32m      1\u001b[0m \u001b[38;5;28;01mclass\u001b[39;00m \u001b[38;5;21;01mBox\u001b[39;00m:\n\u001b[0;32m      2\u001b[0m     port\u001b[38;5;241m=\u001b[39m\u001b[38;5;241m1000\u001b[39m\n\u001b[1;32m----> 3\u001b[0m \u001b[38;5;28mprint\u001b[39m(Box\u001b[38;5;241m.\u001b[39mPORT)\n",
      "\u001b[1;31mAttributeError\u001b[0m: type object 'Box' has no attribute 'PORT'"
     ]
    }
   ],
   "source": [
    "class Box:\n",
    "    port=1000\n",
    "print(Box.PORT) # Attribute Error"
   ]
  },
  {
   "cell_type": "code",
   "execution_count": 91,
   "id": "7fa8b001-00ed-4bd2-a1e6-f2147c5c55fc",
   "metadata": {},
   "outputs": [
    {
     "name": "stdout",
     "output_type": "stream",
     "text": [
      "defaultfile\n",
      "1207\n",
      "/var/log/repo/p1.log\n"
     ]
    }
   ],
   "source": [
    "class fsinfo:\n",
    "    fname=\"defaultfile\"\n",
    "\n",
    "print(fsinfo.fname) # using class name   - we can access class attribute\n",
    "\n",
    "# using class name- can modify existing attribute\n",
    "fsinfo.fname=\"/var/log/repo/p1.log\"\n",
    "\n",
    "#using classname- add new class attributes to an existing class\n",
    "fsinfo.findex=1207\n",
    "\n",
    "print(fsinfo.findex)\n",
    "print(fsinfo.fname)"
   ]
  },
  {
   "cell_type": "code",
   "execution_count": 93,
   "id": "6958042d-3906-4e16-a087-2771f427ebc4",
   "metadata": {},
   "outputs": [],
   "source": [
    "class emp:\n",
    "    pass\n",
    "#empty class"
   ]
  },
  {
   "cell_type": "code",
   "execution_count": 95,
   "id": "4b70c320-3f1a-4ea1-969c-59c72a5fd6f3",
   "metadata": {},
   "outputs": [
    {
     "ename": "AttributeError",
     "evalue": "type object 'emp' has no attribute 'ename'",
     "output_type": "error",
     "traceback": [
      "\u001b[1;31m---------------------------------------------------------------------------\u001b[0m",
      "\u001b[1;31mAttributeError\u001b[0m                            Traceback (most recent call last)",
      "Cell \u001b[1;32mIn[95], line 1\u001b[0m\n\u001b[1;32m----> 1\u001b[0m emp\u001b[38;5;241m.\u001b[39mename\n",
      "\u001b[1;31mAttributeError\u001b[0m: type object 'emp' has no attribute 'ename'"
     ]
    }
   ],
   "source": [
    "emp.ename"
   ]
  },
  {
   "cell_type": "code",
   "execution_count": 97,
   "id": "98c51988-88ce-43dd-9295-6a11ed1aeda3",
   "metadata": {},
   "outputs": [],
   "source": [
    "emp.ename=\"Farah\"\n",
    "emp.eno=122"
   ]
  },
  {
   "cell_type": "code",
   "execution_count": 99,
   "id": "ca5171f6-a6e0-482f-9b53-ca218cb9e183",
   "metadata": {},
   "outputs": [
    {
     "data": {
      "text/plain": [
       "'Farah'"
      ]
     },
     "execution_count": 99,
     "metadata": {},
     "output_type": "execute_result"
    }
   ],
   "source": [
    "emp.ename"
   ]
  },
  {
   "cell_type": "raw",
   "id": "b29c5cee-4213-4ede-91a8-475761243df6",
   "metadata": {},
   "source": [
    "|---------------------------------------------|\n",
    "|           []                        white   |\n",
    "|---------------------------------------------|    class-  type- blueprint\n",
    " |                    |\n",
    "B1                B2\n",
    "|                    |\n",
    "bengaluru          pune\n"
   ]
  },
  {
   "cell_type": "code",
   "execution_count": 105,
   "id": "235d7a17-a9dc-4a2e-b600-acfda13986fb",
   "metadata": {},
   "outputs": [
    {
     "name": "stdout",
     "output_type": "stream",
     "text": [
      "<class '__main__.emp'>\n"
     ]
    }
   ],
   "source": [
    "print(emp)   # doesnot any memory"
   ]
  },
  {
   "cell_type": "code",
   "execution_count": null,
   "id": "5f8d9fc8-c233-4cd3-a8b7-4f7d7db78d87",
   "metadata": {},
   "outputs": [],
   "source": [
    "class cname:\n",
    "    ....\n",
    "\n",
    "cname()  - constructor\n",
    "obj1=cname()\n",
    "obj2=cname()"
   ]
  },
  {
   "cell_type": "code",
   "execution_count": 107,
   "id": "2f157f27-d59f-4151-9534-2f44d27e5fac",
   "metadata": {},
   "outputs": [
    {
     "name": "stdout",
     "output_type": "stream",
     "text": [
      "<class '__main__.box'>\n",
      "<__main__.box object at 0x000002435C870860>\n",
      "<__main__.box object at 0x000002435C2497F0>\n"
     ]
    }
   ],
   "source": [
    "class box:\n",
    "    pass\n",
    "obj1=box()\n",
    "obj2=box()\n",
    "\n",
    "print(box)\n",
    "print(obj1)\n",
    "print(obj2)\n",
    "    "
   ]
  },
  {
   "cell_type": "code",
   "execution_count": 109,
   "id": "c4c217bd-f8ab-41c6-95dd-1fa1d6dc3839",
   "metadata": {},
   "outputs": [
    {
     "name": "stdout",
     "output_type": "stream",
     "text": [
      "defaultfilename\n",
      "defaultfilename\n",
      "defaultfilename\n"
     ]
    }
   ],
   "source": [
    "class fsinfo:\n",
    "    fname=\"defaultfilename\"\n",
    "print(fsinfo.fname)   # defaultfilename\n",
    "\n",
    "obj1=fsinfo()\n",
    "obj2=fsinfo()\n",
    "print(obj1.fname)\n",
    "print(obj2.fname)"
   ]
  },
  {
   "cell_type": "code",
   "execution_count": 111,
   "id": "7dd62a5a-e340-4498-a8ec-804ec8076d5e",
   "metadata": {},
   "outputs": [
    {
     "name": "stdout",
     "output_type": "stream",
     "text": [
      "defaultfilename\n",
      "defaultfilename\n",
      "defaultfilename\n",
      "\n",
      "test1.log\n",
      "/var/log.boot.log\n",
      "\n"
     ]
    }
   ],
   "source": [
    "class fsinfo:\n",
    "    fname=\"defaultfilename\"\n",
    "print(fsinfo.fname)   # defaultfilename\n",
    "\n",
    "obj1=fsinfo()\n",
    "obj2=fsinfo()\n",
    "print(obj1.fname)\n",
    "print(obj2.fname)\n",
    "print()\n",
    "obj1.fname=\"test1.log\"      # modifying obj attributes after obj creation\n",
    "obj2.fname=\"/var/log.boot.log\"\n",
    "print(obj1.fname)\n",
    "print(obj2.fname)\n",
    "print()"
   ]
  },
  {
   "cell_type": "code",
   "execution_count": 113,
   "id": "618a5187-cd30-490e-98d0-a9246bc7d6ad",
   "metadata": {},
   "outputs": [
    {
     "name": "stdout",
     "output_type": "stream",
     "text": [
      "defaultfilename\n",
      "defaultfilename\n",
      "defaultfilename\n",
      "\n",
      "defaultfilename\n",
      "test1.log\n",
      "/var/log.boot.log\n",
      "\n",
      "c:\\project\\ab.c\n",
      "test1.log\n",
      "/var/log.boot.log\n"
     ]
    }
   ],
   "source": [
    "class fsinfo:\n",
    "    fname=\"defaultfilename\"\n",
    "print(fsinfo.fname)   # defaultfilename\n",
    "\n",
    "obj1=fsinfo()\n",
    "obj2=fsinfo()\n",
    "print(obj1.fname)\n",
    "print(obj2.fname)\n",
    "print()\n",
    "obj1.fname=\"test1.log\"      # using object ref var, modifying obj attributes after obj creation\n",
    "obj2.fname=\"/var/log.boot.log\"\n",
    "print(fsinfo.fname)\n",
    "print(obj1.fname)\n",
    "print(obj2.fname)\n",
    "print()\n",
    "\n",
    "fsinfo.fname =\"c:\\\\project\\\\ab.c\" # using class name, modifying class attributes\n",
    "print(fsinfo.fname)\n",
    "print(obj1.fname)\n",
    "print(obj2.fname)"
   ]
  },
  {
   "cell_type": "raw",
   "id": "8733464b-fbf8-40fe-aee5-62a4f07a08cc",
   "metadata": {},
   "source": [
    "Task\n",
    "====\n",
    "|----------------|\n",
    "|class -fsinfo   |\n",
    "| attr: fstype   |\n",
    "|       fmount   |\n",
    "|       fpart    |\n",
    "|----------------|\n",
    "\n",
    " - each partition - individual filesystem type\n",
    " - ex:  /dev/sda1 -- ext4\n",
    "        /dev/sda2 --- xfs\n",
    "        /dev/sd3   ---ext3\n",
    " - update filesystem type ext3 to btrfs\n",
    " - update filesystem class with new attribute - findex\n",
    " "
   ]
  },
  {
   "cell_type": "code",
   "execution_count": 121,
   "id": "cd514574-4004-4cb1-95ef-42e6668df54b",
   "metadata": {},
   "outputs": [
    {
     "name": "stdout",
     "output_type": "stream",
     "text": [
      "ext4  /D1\n",
      "xfs  /D2\n",
      "ext3  /D3\n",
      "\n",
      "Updated /dev/sda2 partition details.\n",
      "ext4  /D1 1000\n",
      "xfs  /D2 2000\n",
      "btrfs  /D3 3000\n"
     ]
    }
   ],
   "source": [
    "class fsinfo:\n",
    "    fstype=\"\"\n",
    "    fmount=\"\"\n",
    "    fpart=\"\"\n",
    "obj1=fsinfo()\n",
    "obj1.fstype= \"ext4\"\n",
    "obj1.part=\"/dev/sda1\"\n",
    "obj1.mount=\"/D1\"\n",
    "\n",
    "obj2=fsinfo()\n",
    "obj2.fstype= \"xfs\"\n",
    "obj2.part=\"/dev/sda2\"\n",
    "obj2.mount=\"/D2\"\n",
    "\n",
    "obj3=fsinfo()\n",
    "obj3.fstype= \"ext3\"\n",
    "obj3.part=\"/dev/sda2\"\n",
    "obj3.mount=\"/D3\"\n",
    "\n",
    "print(obj1.fstype, obj1.fpart, obj1.mount)\n",
    "print(obj2.fstype, obj2.fpart, obj2.mount)\n",
    "print(obj3.fstype, obj3.fpart, obj3.mount)\n",
    "\n",
    "#update filesystem type ext3 to btrfs\n",
    "obj3.fstype=\"btrfs\"\n",
    "print(\"\\nUpdated {} partition details.\".format(obj3.part))\n",
    "\n",
    "#update filesystem class with new attribute - findex\n",
    "fsinfo.findex=10  # adding new class attribute\n",
    "obj1.findex=1000\n",
    "obj2.findex=2000\n",
    "obj3.findex=3000\n",
    "\n",
    "print(obj1.fstype, obj1.fpart, obj1.mount, obj1.findex)\n",
    "print(obj2.fstype, obj2.fpart, obj2.mount, obj2.findex)\n",
    "print(obj3.fstype, obj3.fpart, obj3.mount, obj3.findex)"
   ]
  },
  {
   "cell_type": "code",
   "execution_count": 125,
   "id": "fbf62e11-196f-4d40-bfc3-a01cc60679c6",
   "metadata": {},
   "outputs": [
    {
     "name": "stdout",
     "output_type": "stream",
     "text": [
      "100\n",
      "100\n",
      "200\n"
     ]
    }
   ],
   "source": [
    "class box:\n",
    "    a=100\n",
    "\n",
    "print(box.a) # 100\n",
    "obj1=box()\n",
    "print(obj1.a) # 100\n",
    "box.a=200  \n",
    "print(obj1.a)  # 200"
   ]
  },
  {
   "cell_type": "code",
   "execution_count": 127,
   "id": "822b3b38-4840-4ae8-842b-32d4a9bb9c57",
   "metadata": {},
   "outputs": [
    {
     "name": "stdout",
     "output_type": "stream",
     "text": [
      "data\n"
     ]
    }
   ],
   "source": [
    "obj1.a=\"data\"\n",
    "box.a=1000\n",
    "print(obj1.a) # data"
   ]
  },
  {
   "cell_type": "code",
   "execution_count": null,
   "id": "9481c3c8-3a6c-4d2e-a5d4-202d8809c505",
   "metadata": {},
   "outputs": [],
   "source": [
    "class classname:\n",
    "    class_attributes\n",
    "    method"
   ]
  },
  {
   "cell_type": "code",
   "execution_count": 129,
   "id": "61f091b5-74db-4046-b40d-662f11c4ecab",
   "metadata": {},
   "outputs": [
    {
     "data": {
      "text/plain": [
       "['__class__',\n",
       " '__delattr__',\n",
       " '__dict__',\n",
       " '__dir__',\n",
       " '__doc__',\n",
       " '__eq__',\n",
       " '__format__',\n",
       " '__ge__',\n",
       " '__getattribute__',\n",
       " '__getstate__',\n",
       " '__gt__',\n",
       " '__hash__',\n",
       " '__init__',\n",
       " '__init_subclass__',\n",
       " '__le__',\n",
       " '__lt__',\n",
       " '__module__',\n",
       " '__ne__',\n",
       " '__new__',\n",
       " '__reduce__',\n",
       " '__reduce_ex__',\n",
       " '__repr__',\n",
       " '__setattr__',\n",
       " '__sizeof__',\n",
       " '__str__',\n",
       " '__subclasshook__',\n",
       " '__weakref__',\n",
       " 'findex',\n",
       " 'fmount',\n",
       " 'fpart',\n",
       " 'fstype']"
      ]
     },
     "execution_count": 129,
     "metadata": {},
     "output_type": "execute_result"
    }
   ],
   "source": [
    "dir(fsinfo)"
   ]
  },
  {
   "cell_type": "code",
   "execution_count": null,
   "id": "e131a03c-d336-42a3-b72e-c0e38dc0f8af",
   "metadata": {},
   "outputs": [],
   "source": [
    "def functionname():\n",
    "    ...\n",
    "functionname() ==> direct call - function call\n",
    "obj.functionanme() ===> object based call - method call\n",
    "\n",
    "print() len()- functions\n",
    "s.upper()   - methods\n",
    "\n"
   ]
  },
  {
   "cell_type": "code",
   "execution_count": 135,
   "id": "55a74fd1-5a46-42dc-add6-04c33634aac8",
   "metadata": {},
   "outputs": [
    {
     "name": "stdout",
     "output_type": "stream",
     "text": [
      "-- <class 'function'>\n",
      "-- <class 'method'>\n"
     ]
    }
   ],
   "source": [
    "def f1():\n",
    "    print(\"hello\")\n",
    "print(\"--\",type(f1))\n",
    "\n",
    "class box:\n",
    "    def f2():\n",
    "        print(\"hello\")\n",
    "obj=box()\n",
    "print(\"--\",type(obj.f2))"
   ]
  },
  {
   "cell_type": "code",
   "execution_count": 137,
   "id": "7d4f5bb1-2f57-42ef-aa22-ef17cbb00282",
   "metadata": {},
   "outputs": [
    {
     "data": {
      "text/plain": [
       "__main__.box"
      ]
     },
     "execution_count": 137,
     "metadata": {},
     "output_type": "execute_result"
    }
   ],
   "source": [
    "class box:\n",
    "    bname=\"BOX-1\"\n",
    "    bno=101\n",
    "    def fx():\n",
    "        print(\"Inside fx block\")\n",
    "box"
   ]
  },
  {
   "cell_type": "code",
   "execution_count": 139,
   "id": "48972ddd-d264-4de4-a50b-291ebc5421de",
   "metadata": {},
   "outputs": [
    {
     "name": "stdout",
     "output_type": "stream",
     "text": [
      "BOX-1\n",
      "101\n"
     ]
    }
   ],
   "source": [
    "obj=box()\n",
    "print(obj.bname)\n",
    "print(obj.bno)\n"
   ]
  },
  {
   "cell_type": "code",
   "execution_count": 141,
   "id": "794d3290-4f60-45aa-82a9-62433bc43830",
   "metadata": {},
   "outputs": [
    {
     "ename": "TypeError",
     "evalue": "box.fx() takes 0 positional arguments but 1 was given",
     "output_type": "error",
     "traceback": [
      "\u001b[1;31m---------------------------------------------------------------------------\u001b[0m",
      "\u001b[1;31mTypeError\u001b[0m                                 Traceback (most recent call last)",
      "Cell \u001b[1;32mIn[141], line 1\u001b[0m\n\u001b[1;32m----> 1\u001b[0m obj\u001b[38;5;241m.\u001b[39mfx()\n",
      "\u001b[1;31mTypeError\u001b[0m: box.fx() takes 0 positional arguments but 1 was given"
     ]
    }
   ],
   "source": [
    "# obj.fx()   #TypeError: box.fx() takes 0 positional arguments but 1 was given\n",
    "# obj.fx() ---> fx(obj)\n",
    "\n",
    "# obj.fx(10,20,30) ---> fx(obj,10,20,30)"
   ]
  },
  {
   "cell_type": "code",
   "execution_count": 145,
   "id": "512f92a3-6f88-4da6-bbc2-047d4c9622b0",
   "metadata": {},
   "outputs": [
    {
     "name": "stdout",
     "output_type": "stream",
     "text": [
      "self:<__main__.box object at 0x000002435C518740>\n",
      "self:<__main__.box object at 0x000002435C24A210>\n",
      "1--> obj1  <__main__.box object at 0x000002435C518740>\n",
      "2--> obj2  <__main__.box object at 0x000002435C24A210>\n"
     ]
    }
   ],
   "source": [
    "class box:\n",
    "    bname=\"BOX-1\"\n",
    "    bno=101\n",
    "    def fx(self):\n",
    "       # print(\"Inside fx block\")\n",
    "        print(\"self:{}\".format(self))\n",
    "\n",
    "obj1=box()\n",
    "obj2=box()\n",
    "\n",
    "obj1.fx()  # fx(obj1)\n",
    "obj2.fx()  # fx(obj2)\n",
    "\n",
    "print(\"1--> obj1 \",obj1)\n",
    "print(\"2--> obj2 \",obj2)"
   ]
  },
  {
   "cell_type": "code",
   "execution_count": 147,
   "id": "2a965713-df8b-42b7-95ba-599ac719bceb",
   "metadata": {},
   "outputs": [
    {
     "name": "stdout",
     "output_type": "stream",
     "text": [
      "A:test.java\n",
      "B:test.java\n",
      "C:boot.log\n",
      "D:test.java\n"
     ]
    }
   ],
   "source": [
    "class box:\n",
    "    fname=\"test.java\"\n",
    "    def f1(self):    #f1(obj)\n",
    "        print(\"B:{}\".format(self.fname))   # obj.fname  test.java\n",
    "        self.fname=\"boot.log\"\n",
    "\n",
    "obj=box()\n",
    "\n",
    "print(\"A:{}\".format(obj.fname))  # test.java\n",
    "obj.f1()   # f1(obj)\n",
    "print(\"C:{}\".format(obj.fname))   # boot.log\n",
    "\n",
    "print(\"D:{}\".format(box.fname))   # test.java"
   ]
  },
  {
   "cell_type": "code",
   "execution_count": null,
   "id": "945468de-9e5d-4985-a5a1-15a01627ec70",
   "metadata": {},
   "outputs": [],
   "source": [
    "Task\n",
    "====\n",
    "Write a python program for student enrollment.\n",
    "classname--> student\n",
    "class_attributes --> name,dept,dob\n",
    "    method1 -> enroll - student details\n",
    "    method2 -> display - student details\n",
    "    method3 -> update - student working dept\n",
    "    display updated details (call method2)\n"
   ]
  },
  {
   "cell_type": "code",
   "execution_count": 155,
   "id": "0695e320-311f-40e4-b4a9-e42f73059a2f",
   "metadata": {},
   "outputs": [
    {
     "name": "stdout",
     "output_type": "stream",
     "text": [
      "Enrollement Done !!!\n",
      "Enrollement Done !!!\n",
      "Enrollement Done !!!\n"
     ]
    }
   ],
   "source": [
    "class student:\n",
    "    sname=''\n",
    "    sdept=''\n",
    "    sdob=''\n",
    "\n",
    "    def enroll(self, sn, sd, sb):\n",
    "        self.sname=sn\n",
    "        self.sdept=sd\n",
    "        self.sdob=sb\n",
    "        print(\"Enrollement Done !!!\")\n",
    "\n",
    "    def display(self):\n",
    "        print(\"About {} :-\".format(self.sname))\n",
    "        print(\"Name: {} \\t DOB: {} \\t Dept: {}\".format(self.sname,self.sdob,self.sdept))\n",
    "\n",
    "    def update(self,sd):\n",
    "        self.sdept=sd\n",
    "        print(\"Updation Done !!!\")\n",
    "\n",
    "obj1=student()\n",
    "obj1.enroll(\"Atharv\",\"Science\",\"2ndJan\")\n",
    "\n",
    "obj2=student()\n",
    "obj2.enroll(\"Swasthik\",\"Physics\", \"3rdDec\")\n",
    "\n",
    "obj3=student()\n",
    "obj3.enroll(\"Swathi\",\"Biology\", \"11th Oct\")\n"
   ]
  },
  {
   "cell_type": "code",
   "execution_count": 157,
   "id": "01c8e37b-2464-4d81-8f67-2ae9df26f148",
   "metadata": {},
   "outputs": [
    {
     "name": "stdout",
     "output_type": "stream",
     "text": [
      "About Atharv :-\n",
      "Name: Atharv \t DOB: 2ndJan \t Dept: Science\n",
      "About Swasthik :-\n",
      "Name: Swasthik \t DOB: 3rdDec \t Dept: Physics\n",
      "About Swathi :-\n",
      "Name: Swathi \t DOB: 11th Oct \t Dept: Biology\n"
     ]
    }
   ],
   "source": [
    "\n",
    "obj1.display() # display(obj1)\n",
    "obj2.display()\n",
    "obj3.display()\n"
   ]
  },
  {
   "cell_type": "code",
   "execution_count": 159,
   "id": "74eb4929-6225-43bb-bd92-a08559df2dea",
   "metadata": {},
   "outputs": [
    {
     "name": "stdout",
     "output_type": "stream",
     "text": [
      "Updation Done !!!\n"
     ]
    }
   ],
   "source": [
    "\n",
    "obj1.update(\"Mech\")"
   ]
  },
  {
   "cell_type": "code",
   "execution_count": 163,
   "id": "7ec31750-6aca-4fee-902a-ed5dd60021eb",
   "metadata": {},
   "outputs": [
    {
     "name": "stdout",
     "output_type": "stream",
     "text": [
      "About Atharv :-\n",
      "Name: Atharv \t DOB: 2ndJan \t Dept: Mech\n"
     ]
    }
   ],
   "source": [
    "obj1.display()"
   ]
  },
  {
   "cell_type": "code",
   "execution_count": 153,
   "id": "15c853d8-3f21-4b1e-bed2-d994f1f25e64",
   "metadata": {},
   "outputs": [
    {
     "name": "stdout",
     "output_type": "stream",
     "text": [
      "xyz\n",
      "xyz\n",
      "abc\n",
      "abc\n",
      "data\n"
     ]
    },
    {
     "ename": "AttributeError",
     "evalue": "'product' object has no attribute 'feature3'",
     "output_type": "error",
     "traceback": [
      "\u001b[1;31m---------------------------------------------------------------------------\u001b[0m",
      "\u001b[1;31mAttributeError\u001b[0m                            Traceback (most recent call last)",
      "Cell \u001b[1;32mIn[153], line 17\u001b[0m\n\u001b[0;32m     15\u001b[0m cust2\u001b[38;5;241m.\u001b[39mfeature3\u001b[38;5;241m=\u001b[39m\u001b[38;5;124m\"\u001b[39m\u001b[38;5;124mdata\u001b[39m\u001b[38;5;124m\"\u001b[39m\n\u001b[0;32m     16\u001b[0m \u001b[38;5;28mprint\u001b[39m(cust2\u001b[38;5;241m.\u001b[39mfeature3) \u001b[38;5;66;03m#data\u001b[39;00m\n\u001b[1;32m---> 17\u001b[0m \u001b[38;5;28mprint\u001b[39m(cust1\u001b[38;5;241m.\u001b[39mfeature3)\n",
      "\u001b[1;31mAttributeError\u001b[0m: 'product' object has no attribute 'feature3'"
     ]
    }
   ],
   "source": [
    "class product:\n",
    "    feature1=\"xyz\"\n",
    "\n",
    "cust1=product()\n",
    "print(cust1.feature1)\n",
    "\n",
    "cust2=product()\n",
    "print(cust2.feature1)\n",
    "\n",
    "product.feature2=\"abc\" # using classname, new class attributes added\n",
    "\n",
    "print(cust1.feature2) #abc\n",
    "print(cust2.feature2) #abc\n",
    "\n",
    "cust2.feature3=\"data\"  # using object, adding new feature specific to object\n",
    "print(cust2.feature3) #data   \n",
    "print(cust1.feature3) # AttributeError\n"
   ]
  },
  {
   "cell_type": "code",
   "execution_count": null,
   "id": "eeb61d31-75da-4e72-a526-6798abb4056a",
   "metadata": {},
   "outputs": [],
   "source": [
    "valid\n",
    "-----\n",
    "enroll()\n",
    "|\n",
    "display()  / update()\n",
    "\n",
    "display\n",
    "|\n",
    "enroll/ update"
   ]
  },
  {
   "cell_type": "code",
   "execution_count": null,
   "id": "be1846f2-d5c9-4d75-b905-dd80df8d299e",
   "metadata": {},
   "outputs": [],
   "source": [
    "class DBI:\n",
    "    def enrollment(self,..)\n",
    "        ..dbenrollemnt\n",
    "    def method1(self):\n",
    "        query1\n",
    "    ..\n",
    "    def methodn(self):\n",
    "        queryn\n",
    "\n",
    "obj=DBI()\n",
    "obj.enrollment() // valid\n",
    "obj.method1()\n",
    "\n",
    "oops-ok   vs Database- Error\n"
   ]
  },
  {
   "cell_type": "code",
   "execution_count": null,
   "id": "7d831c8f-6e78-48db-b2ca-459a6489bdb0",
   "metadata": {},
   "outputs": [],
   "source": [
    "special method- __init__()  constructor\n",
    "|\n",
    "__len__()  __add__() __sub__()  __call__()\n",
    "    |\n",
    "    builtin attributes/ magic attributes / special attributes"
   ]
  },
  {
   "cell_type": "code",
   "execution_count": null,
   "id": "c3824b5c-9d07-4200-a6f6-ccb7dcb0361f",
   "metadata": {},
   "outputs": [],
   "source": [
    "__init__()----> executed during object creation--> use object instantiation"
   ]
  },
  {
   "cell_type": "code",
   "execution_count": 165,
   "id": "831327d4-9b92-48ff-b4f0-1b89dc4afcf6",
   "metadata": {},
   "outputs": [
    {
     "name": "stdout",
     "output_type": "stream",
     "text": [
      "Enrollement Done !!!\n",
      "Enrollement Done !!!\n",
      "Enrollement Done !!!\n"
     ]
    }
   ],
   "source": [
    "class student:\n",
    "    sname=''\n",
    "    sdept=''\n",
    "    sdob=''\n",
    "\n",
    "    def __init__(self, sn, sd, sb):\n",
    "        self.sname=sn\n",
    "        self.sdept=sd\n",
    "        self.sdob=sb\n",
    "        print(\"Enrollement Done !!!\")\n",
    "\n",
    "    def display(self):\n",
    "        print(\"About {} :-\".format(self.sname))\n",
    "        print(\"Name: {} \\t DOB: {} \\t Dept: {}\".format(self.sname,self.sdob,self.sdept))\n",
    "\n",
    "    def update(self,sd):\n",
    "        self.sdept=sd\n",
    "        print(\"Updation Done !!!\")\n",
    "\n",
    "obj1=student(\"Atharv\",\"Science\",\"2ndJan\")  # implicit call to construction during object creation\n",
    "\n",
    "obj2=student(\"Swasthik\",\"Physics\", \"3rdDec\")\n",
    "\n",
    "obj3=student(\"Swathi\",\"Biology\", \"11th Oct\")\n"
   ]
  },
  {
   "cell_type": "code",
   "execution_count": 169,
   "id": "39537691-0369-4248-9004-b943d1ebf225",
   "metadata": {},
   "outputs": [
    {
     "name": "stdout",
     "output_type": "stream",
     "text": [
      "About Atharv :-\n",
      "Name: Atharv \t DOB: 2ndJan \t Dept: Science\n",
      "About Swasthik :-\n",
      "Name: Swasthik \t DOB: 3rdDec \t Dept: Physics\n",
      "About Swathi :-\n",
      "Name: Swathi \t DOB: 11th Oct \t Dept: Biology\n"
     ]
    }
   ],
   "source": [
    "obj1.display()\n",
    "obj2.display()\n",
    "obj3.display()"
   ]
  },
  {
   "cell_type": "code",
   "execution_count": 171,
   "id": "1e97aefe-489e-4e6b-ae98-3d486cafaac2",
   "metadata": {},
   "outputs": [
    {
     "name": "stdout",
     "output_type": "stream",
     "text": [
      "Updation Done !!!\n"
     ]
    }
   ],
   "source": [
    "obj1.update(\"Civil\")"
   ]
  },
  {
   "cell_type": "code",
   "execution_count": 173,
   "id": "87666263-2f7a-4eae-840d-6b617f871e06",
   "metadata": {},
   "outputs": [
    {
     "name": "stdout",
     "output_type": "stream",
     "text": [
      "About Atharv :-\n",
      "Name: Atharv \t DOB: 2ndJan \t Dept: Civil\n"
     ]
    }
   ],
   "source": [
    "obj1.display()"
   ]
  },
  {
   "cell_type": "code",
   "execution_count": null,
   "id": "e27f8f52-062c-4aa0-a056-e8e98a5325a7",
   "metadata": {},
   "outputs": [],
   "source": [
    "task\n",
    "====\n",
    "modify fsinfo class \n",
    "__init__() --> Initialize fstype, fpart, fmount attributes\n",
    "\n",
    "display() --> display fsinfo details\n",
    "\n",
    "update() --> update fstype \n"
   ]
  },
  {
   "cell_type": "code",
   "execution_count": 177,
   "id": "6f5ddc09-50fa-4e56-a8a7-50139d7857f6",
   "metadata": {},
   "outputs": [
    {
     "name": "stdout",
     "output_type": "stream",
     "text": [
      "ext4 /dev/sda1 /\n"
     ]
    }
   ],
   "source": [
    "class fsinfo:\n",
    "    def __init__(self,fstype,fpart,fmount=\"/\"):\n",
    "        self.fstype=fstype\n",
    "        self.fpart=fpart\n",
    "        self.fmount=fmount\n",
    "    def display(self):\n",
    "        print(self.fstype,self.fpart,self.fmount)\n",
    "    def update(self,fstype):\n",
    "        self.fstype=fstype\n",
    "        return self.fstype\n",
    "    def WriteOperation(self):\n",
    "        WH=open(\"C:\\\\Users\\\\theeba\\\\fs.log\",\"a\")\n",
    "        WH.write(\"Filesystem Type:{}\\t Partition:{}\\t MountPoint:{}\\n\".format(self.fstype,self.fpart,self.fmount))\n",
    "        WH.write(\"---------------\\n\")\n",
    "obj1=fsinfo(\"ext4\",\"/dev/sda1\")\n",
    "obj2=fsinfo(\"xfs\",\"/dev/sda2\",\"/boot\")\n",
    "obj3=fsinfo(\"ext3\",\"/dev/sda3\",\"/D1\")\n",
    "\n",
    "obj1.display()"
   ]
  },
  {
   "cell_type": "code",
   "execution_count": 179,
   "id": "10b18162-2676-4915-b3e3-34d8517f16bb",
   "metadata": {},
   "outputs": [
    {
     "data": {
      "text/plain": [
       "'btrfs'"
      ]
     },
     "execution_count": 179,
     "metadata": {},
     "output_type": "execute_result"
    }
   ],
   "source": [
    "obj1.update(\"btrfs\")"
   ]
  },
  {
   "cell_type": "code",
   "execution_count": 181,
   "id": "5ffa53b0-c285-4a9a-959f-7373ff3ad7c4",
   "metadata": {},
   "outputs": [
    {
     "name": "stdout",
     "output_type": "stream",
     "text": [
      "btrfs /dev/sda1 /\n"
     ]
    }
   ],
   "source": [
    "obj1.display()"
   ]
  },
  {
   "cell_type": "code",
   "execution_count": 183,
   "id": "6a164bdf-bd5b-4df9-b75a-d1c15497bc77",
   "metadata": {},
   "outputs": [],
   "source": [
    "class box:\n",
    "    pass\n",
    "\n",
    "obj=box()\n"
   ]
  },
  {
   "cell_type": "code",
   "execution_count": 185,
   "id": "8031e5e8-2647-4c45-b63b-a4576d57c9d0",
   "metadata": {},
   "outputs": [
    {
     "data": {
      "text/plain": [
       "<__main__.box at 0x2435ad14b60>"
      ]
     },
     "execution_count": 185,
     "metadata": {},
     "output_type": "execute_result"
    }
   ],
   "source": [
    "obj"
   ]
  },
  {
   "cell_type": "code",
   "execution_count": 187,
   "id": "b178a970-f97c-48d7-8fb2-bc013ba0a490",
   "metadata": {},
   "outputs": [
    {
     "ename": "TypeError",
     "evalue": "object of type 'box' has no len()",
     "output_type": "error",
     "traceback": [
      "\u001b[1;31m---------------------------------------------------------------------------\u001b[0m",
      "\u001b[1;31mTypeError\u001b[0m                                 Traceback (most recent call last)",
      "Cell \u001b[1;32mIn[187], line 1\u001b[0m\n\u001b[1;32m----> 1\u001b[0m \u001b[38;5;28mlen\u001b[39m(obj)\n",
      "\u001b[1;31mTypeError\u001b[0m: object of type 'box' has no len()"
     ]
    }
   ],
   "source": [
    "len(obj)"
   ]
  },
  {
   "cell_type": "code",
   "execution_count": 189,
   "id": "f74512db-cb9b-4ab5-a311-5da537cecc8c",
   "metadata": {},
   "outputs": [
    {
     "data": {
      "text/plain": [
       "['__class__',\n",
       " '__delattr__',\n",
       " '__dict__',\n",
       " '__dir__',\n",
       " '__doc__',\n",
       " '__eq__',\n",
       " '__format__',\n",
       " '__ge__',\n",
       " '__getattribute__',\n",
       " '__getstate__',\n",
       " '__gt__',\n",
       " '__hash__',\n",
       " '__init__',\n",
       " '__init_subclass__',\n",
       " '__le__',\n",
       " '__lt__',\n",
       " '__module__',\n",
       " '__ne__',\n",
       " '__new__',\n",
       " '__reduce__',\n",
       " '__reduce_ex__',\n",
       " '__repr__',\n",
       " '__setattr__',\n",
       " '__sizeof__',\n",
       " '__str__',\n",
       " '__subclasshook__',\n",
       " '__weakref__']"
      ]
     },
     "execution_count": 189,
     "metadata": {},
     "output_type": "execute_result"
    }
   ],
   "source": [
    "dir(obj)"
   ]
  },
  {
   "cell_type": "code",
   "execution_count": null,
   "id": "e0c7e3ed-9c8a-4e7a-a330-9ff0b2fe6e69",
   "metadata": {},
   "outputs": [],
   "source": [
    "__len__()     ---> len()"
   ]
  },
  {
   "cell_type": "code",
   "execution_count": 195,
   "id": "fc29c841-20b5-4b05-abd3-89ce021885a9",
   "metadata": {},
   "outputs": [
    {
     "data": {
      "text/plain": [
       "10"
      ]
     },
     "execution_count": 195,
     "metadata": {},
     "output_type": "execute_result"
    }
   ],
   "source": [
    "class box:\n",
    "    def __len__(self):\n",
    "        return 10\n",
    "obj=box()\n",
    "len(obj)"
   ]
  },
  {
   "cell_type": "code",
   "execution_count": 197,
   "id": "1be2d6fc-a109-4b2a-a491-d64f622fdc0f",
   "metadata": {},
   "outputs": [
    {
     "data": {
      "text/plain": [
       "30"
      ]
     },
     "execution_count": 197,
     "metadata": {},
     "output_type": "execute_result"
    }
   ],
   "source": [
    "a=10\n",
    "b=20\n",
    "a+b    __add__"
   ]
  },
  {
   "cell_type": "code",
   "execution_count": 199,
   "id": "23eea11b-f51b-4e65-a49a-53280c4ec4c9",
   "metadata": {},
   "outputs": [],
   "source": [
    "class box:\n",
    "    def __init__(self,a):\n",
    "        self.a=a\n",
    "\n",
    "obj=box(\"hello\")"
   ]
  },
  {
   "cell_type": "code",
   "execution_count": 201,
   "id": "627a3e1a-358f-4012-ab75-f801cc5c348a",
   "metadata": {},
   "outputs": [
    {
     "data": {
      "text/plain": [
       "'<__main__.box object at 0x000002435C5836B0>'"
      ]
     },
     "execution_count": 201,
     "metadata": {},
     "output_type": "execute_result"
    }
   ],
   "source": [
    "str(obj)"
   ]
  },
  {
   "cell_type": "code",
   "execution_count": 203,
   "id": "411ae9db-eb39-4576-8a65-d8febc0a91e5",
   "metadata": {},
   "outputs": [
    {
     "data": {
      "text/plain": [
       "'hello'"
      ]
     },
     "execution_count": 203,
     "metadata": {},
     "output_type": "execute_result"
    }
   ],
   "source": [
    "class box:\n",
    "    \n",
    "    def __init__(self,a):\n",
    "        self.a=a          \n",
    "    def __str__(self):\n",
    "        return self.a\n",
    "obj=box(\"hello\")\n",
    "str(obj)"
   ]
  },
  {
   "cell_type": "code",
   "execution_count": 231,
   "id": "66650775-5eed-4cfe-a91f-0e1baa9a989f",
   "metadata": {},
   "outputs": [],
   "source": [
    "class box:\n",
    "    a=''  # global\n",
    "    def __init__(self,a):\n",
    "        self.a=a  #    a=10   # local\n",
    "\n",
    "obj=box(10)"
   ]
  },
  {
   "cell_type": "code",
   "execution_count": 233,
   "id": "a08043c4-8136-4002-a607-f1a4fe00c59b",
   "metadata": {},
   "outputs": [
    {
     "data": {
      "text/plain": [
       "['__class__',\n",
       " '__delattr__',\n",
       " '__dict__',\n",
       " '__dir__',\n",
       " '__doc__',\n",
       " '__eq__',\n",
       " '__format__',\n",
       " '__ge__',\n",
       " '__getattribute__',\n",
       " '__getstate__',\n",
       " '__gt__',\n",
       " '__hash__',\n",
       " '__init__',\n",
       " '__init_subclass__',\n",
       " '__le__',\n",
       " '__lt__',\n",
       " '__module__',\n",
       " '__ne__',\n",
       " '__new__',\n",
       " '__reduce__',\n",
       " '__reduce_ex__',\n",
       " '__repr__',\n",
       " '__setattr__',\n",
       " '__sizeof__',\n",
       " '__str__',\n",
       " '__subclasshook__',\n",
       " '__weakref__',\n",
       " 'a']"
      ]
     },
     "execution_count": 233,
     "metadata": {},
     "output_type": "execute_result"
    }
   ],
   "source": [
    "dir(obj)"
   ]
  },
  {
   "cell_type": "code",
   "execution_count": 211,
   "id": "cdd58665-35ff-4446-9a5f-c9046e656a1b",
   "metadata": {},
   "outputs": [],
   "source": [
    "class box:\n",
    "    pass\n",
    "obj=box()\n"
   ]
  },
  {
   "cell_type": "code",
   "execution_count": 213,
   "id": "372c8ecd-66d7-42f4-8566-a4db50cbc841",
   "metadata": {},
   "outputs": [],
   "source": [
    "def f1():\n",
    "    pass\n",
    "\n",
    "f1()"
   ]
  },
  {
   "cell_type": "code",
   "execution_count": 215,
   "id": "18bd5395-43a0-455d-91a8-75c77b245721",
   "metadata": {},
   "outputs": [
    {
     "data": {
      "text/plain": [
       "True"
      ]
     },
     "execution_count": 215,
     "metadata": {},
     "output_type": "execute_result"
    }
   ],
   "source": [
    "callable(f1)  # True- f1 is callable"
   ]
  },
  {
   "cell_type": "code",
   "execution_count": 217,
   "id": "3e87bde1-6082-46e7-a610-ce74555d6b97",
   "metadata": {},
   "outputs": [
    {
     "data": {
      "text/plain": [
       "False"
      ]
     },
     "execution_count": 217,
     "metadata": {},
     "output_type": "execute_result"
    }
   ],
   "source": [
    "callable(obj)   # False - obj is not callable"
   ]
  },
  {
   "cell_type": "code",
   "execution_count": 223,
   "id": "a1846c80-1477-4c70-83eb-b13ee9737700",
   "metadata": {},
   "outputs": [
    {
     "data": {
      "text/plain": [
       "True"
      ]
     },
     "execution_count": 223,
     "metadata": {},
     "output_type": "execute_result"
    }
   ],
   "source": [
    "class box:\n",
    "    def __call__(self):\n",
    "        return \"Hello\"\n",
    "obj=box()\n",
    "callable(obj)"
   ]
  },
  {
   "cell_type": "code",
   "execution_count": 225,
   "id": "8cad1e58-1b07-4de5-b3c3-fadd36dac877",
   "metadata": {},
   "outputs": [
    {
     "data": {
      "text/plain": [
       "'Hello'"
      ]
     },
     "execution_count": 225,
     "metadata": {},
     "output_type": "execute_result"
    }
   ],
   "source": [
    "obj()"
   ]
  },
  {
   "cell_type": "code",
   "execution_count": 227,
   "id": "fe4846a4-2434-486a-9975-de91a6937c0f",
   "metadata": {},
   "outputs": [
    {
     "data": {
      "text/plain": [
       "['__annotations__',\n",
       " '__builtins__',\n",
       " '__call__',\n",
       " '__class__',\n",
       " '__closure__',\n",
       " '__code__',\n",
       " '__defaults__',\n",
       " '__delattr__',\n",
       " '__dict__',\n",
       " '__dir__',\n",
       " '__doc__',\n",
       " '__eq__',\n",
       " '__format__',\n",
       " '__ge__',\n",
       " '__get__',\n",
       " '__getattribute__',\n",
       " '__getstate__',\n",
       " '__globals__',\n",
       " '__gt__',\n",
       " '__hash__',\n",
       " '__init__',\n",
       " '__init_subclass__',\n",
       " '__kwdefaults__',\n",
       " '__le__',\n",
       " '__lt__',\n",
       " '__module__',\n",
       " '__name__',\n",
       " '__ne__',\n",
       " '__new__',\n",
       " '__qualname__',\n",
       " '__reduce__',\n",
       " '__reduce_ex__',\n",
       " '__repr__',\n",
       " '__setattr__',\n",
       " '__sizeof__',\n",
       " '__str__',\n",
       " '__subclasshook__',\n",
       " '__type_params__']"
      ]
     },
     "execution_count": 227,
     "metadata": {},
     "output_type": "execute_result"
    }
   ],
   "source": [
    "dir(f1)"
   ]
  },
  {
   "cell_type": "code",
   "execution_count": 229,
   "id": "56802b15-20c5-4dd5-861b-a450a2903372",
   "metadata": {},
   "outputs": [
    {
     "data": {
      "text/plain": [
       "['__call__',\n",
       " '__class__',\n",
       " '__delattr__',\n",
       " '__dict__',\n",
       " '__dir__',\n",
       " '__doc__',\n",
       " '__eq__',\n",
       " '__format__',\n",
       " '__ge__',\n",
       " '__getattribute__',\n",
       " '__getstate__',\n",
       " '__gt__',\n",
       " '__hash__',\n",
       " '__init__',\n",
       " '__init_subclass__',\n",
       " '__le__',\n",
       " '__lt__',\n",
       " '__module__',\n",
       " '__ne__',\n",
       " '__new__',\n",
       " '__reduce__',\n",
       " '__reduce_ex__',\n",
       " '__repr__',\n",
       " '__setattr__',\n",
       " '__sizeof__',\n",
       " '__str__',\n",
       " '__subclasshook__',\n",
       " '__weakref__']"
      ]
     },
     "execution_count": 229,
     "metadata": {},
     "output_type": "execute_result"
    }
   ],
   "source": [
    "dir(obj)"
   ]
  },
  {
   "cell_type": "code",
   "execution_count": 243,
   "id": "338479c5-a743-4e00-b54c-561dc6d53588",
   "metadata": {},
   "outputs": [
    {
     "name": "stdout",
     "output_type": "stream",
     "text": [
      "Object Initialized\n"
     ]
    }
   ],
   "source": [
    "class box:\n",
    "    def __init__(self):\n",
    "        print(\"Object Initialized\")\n",
    "        \n",
    "    def __del__(self):\n",
    "        print(\"Thankyou\")\n",
    "\n",
    "obj=box()\n"
   ]
  },
  {
   "cell_type": "code",
   "execution_count": 237,
   "id": "e3ff1e94-4112-4f34-ab0a-fc03ba3fed33",
   "metadata": {},
   "outputs": [
    {
     "name": "stdout",
     "output_type": "stream",
     "text": [
      "Thankyou\n"
     ]
    }
   ],
   "source": [
    "del(obj)"
   ]
  },
  {
   "cell_type": "code",
   "execution_count": null,
   "id": "28dea21d-5eb0-47a1-a79a-253d9d8d7eab",
   "metadata": {},
   "outputs": [],
   "source": [
    "scope--> private --> __var\n",
    "\n",
    "__var=100   # ordinary var\n",
    "\n",
    "class box:\n",
    "    __f=222  # private var"
   ]
  },
  {
   "cell_type": "code",
   "execution_count": 239,
   "id": "ad339bb6-dd9b-401e-93d2-611a25649955",
   "metadata": {},
   "outputs": [
    {
     "data": {
      "text/plain": [
       "['__class__',\n",
       " '__del__',\n",
       " '__delattr__',\n",
       " '__dict__',\n",
       " '__dir__',\n",
       " '__doc__',\n",
       " '__eq__',\n",
       " '__format__',\n",
       " '__ge__',\n",
       " '__getattribute__',\n",
       " '__getstate__',\n",
       " '__gt__',\n",
       " '__hash__',\n",
       " '__init__',\n",
       " '__init_subclass__',\n",
       " '__le__',\n",
       " '__lt__',\n",
       " '__module__',\n",
       " '__ne__',\n",
       " '__new__',\n",
       " '__reduce__',\n",
       " '__reduce_ex__',\n",
       " '__repr__',\n",
       " '__setattr__',\n",
       " '__sizeof__',\n",
       " '__str__',\n",
       " '__subclasshook__',\n",
       " '__weakref__']"
      ]
     },
     "execution_count": 239,
     "metadata": {},
     "output_type": "execute_result"
    }
   ],
   "source": [
    "dir(box)"
   ]
  },
  {
   "cell_type": "code",
   "execution_count": 253,
   "id": "1781e396-a29f-4247-be35-0e30deb3e7f4",
   "metadata": {},
   "outputs": [
    {
     "name": "stdout",
     "output_type": "stream",
     "text": [
      "Object Initialized\n"
     ]
    }
   ],
   "source": [
    "class box:\n",
    "    fname=\"Saturn\"\n",
    "    __fsize=12121\n",
    "    def __init__(self):\n",
    "        print(\"Object Initialized\")\n",
    "        \n",
    "obj=box()\n"
   ]
  },
  {
   "cell_type": "code",
   "execution_count": 255,
   "id": "25ebb426-b68c-48c0-b76c-65a723d70250",
   "metadata": {},
   "outputs": [
    {
     "data": {
      "text/plain": [
       "['__class__',\n",
       " '__delattr__',\n",
       " '__dict__',\n",
       " '__dir__',\n",
       " '__doc__',\n",
       " '__eq__',\n",
       " '__format__',\n",
       " '__ge__',\n",
       " '__getattribute__',\n",
       " '__getstate__',\n",
       " '__gt__',\n",
       " '__hash__',\n",
       " '__init__',\n",
       " '__init_subclass__',\n",
       " '__le__',\n",
       " '__lt__',\n",
       " '__module__',\n",
       " '__ne__',\n",
       " '__new__',\n",
       " '__reduce__',\n",
       " '__reduce_ex__',\n",
       " '__repr__',\n",
       " '__setattr__',\n",
       " '__sizeof__',\n",
       " '__str__',\n",
       " '__subclasshook__',\n",
       " '__weakref__',\n",
       " '_box__fsize',\n",
       " 'fname']"
      ]
     },
     "execution_count": 255,
     "metadata": {},
     "output_type": "execute_result"
    }
   ],
   "source": [
    "dir(obj)   # list of class attributes"
   ]
  },
  {
   "cell_type": "code",
   "execution_count": 277,
   "id": "0fec0d80-977f-4204-aef9-986a0e5853f6",
   "metadata": {},
   "outputs": [],
   "source": [
    "class box:\n",
    "    __fname=\"saturn\"\n",
    "    __fno=6\n"
   ]
  },
  {
   "cell_type": "code",
   "execution_count": 279,
   "id": "d7e72e2b-fdd7-48a4-b0fe-72a6be83548a",
   "metadata": {},
   "outputs": [
    {
     "data": {
      "text/plain": [
       "mappingproxy({'__module__': '__main__',\n",
       "              '_box__fname': 'saturn',\n",
       "              '_box__fno': 6,\n",
       "              '__dict__': <attribute '__dict__' of 'box' objects>,\n",
       "              '__weakref__': <attribute '__weakref__' of 'box' objects>,\n",
       "              '__doc__': None})"
      ]
     },
     "execution_count": 279,
     "metadata": {},
     "output_type": "execute_result"
    }
   ],
   "source": [
    "box.__dict__  # classname.__dict__"
   ]
  },
  {
   "cell_type": "code",
   "execution_count": 281,
   "id": "7c947d0d-7210-482a-b53e-9f0e9f1e298b",
   "metadata": {},
   "outputs": [
    {
     "ename": "AttributeError",
     "evalue": "'box' object has no attribute 'fname'",
     "output_type": "error",
     "traceback": [
      "\u001b[1;31m---------------------------------------------------------------------------\u001b[0m",
      "\u001b[1;31mAttributeError\u001b[0m                            Traceback (most recent call last)",
      "Cell \u001b[1;32mIn[281], line 2\u001b[0m\n\u001b[0;32m      1\u001b[0m obj\u001b[38;5;241m=\u001b[39mbox()\n\u001b[1;32m----> 2\u001b[0m \u001b[38;5;28mprint\u001b[39m(obj\u001b[38;5;241m.\u001b[39mfname) \n\u001b[0;32m      3\u001b[0m \u001b[38;5;28mprint\u001b[39m(obj\u001b[38;5;241m.\u001b[39mfno)\n",
      "\u001b[1;31mAttributeError\u001b[0m: 'box' object has no attribute 'fname'"
     ]
    }
   ],
   "source": [
    "obj=box()\n",
    "print(obj.fname)  # private\n",
    "print(obj.fno)  # private"
   ]
  },
  {
   "cell_type": "code",
   "execution_count": 285,
   "id": "77437b24-3ad6-42d2-ac24-e14fa97d87f1",
   "metadata": {},
   "outputs": [
    {
     "name": "stdout",
     "output_type": "stream",
     "text": [
      "saturn\n",
      "6\n"
     ]
    }
   ],
   "source": [
    "print(box._box__fname)\n",
    "print(box._box__fno)"
   ]
  },
  {
   "cell_type": "code",
   "execution_count": 287,
   "id": "3d0c81a6-6af8-408f-bd6a-5a90002a6d03",
   "metadata": {},
   "outputs": [
    {
     "name": "stdout",
     "output_type": "stream",
     "text": [
      "saturn\n"
     ]
    }
   ],
   "source": [
    "print(obj._box__fname)"
   ]
  },
  {
   "cell_type": "code",
   "execution_count": null,
   "id": "4c28eb15-d188-4b9a-b3ee-d50ae5cc85e9",
   "metadata": {},
   "outputs": [],
   "source": [
    "vendor-> class -> vendorname,vendor_id, vendor_productname, product_cost ---> enrollment  (1)\n",
    "   method -> billing \n",
    "                |-- read no. of qty of product\n",
    "                |-- total (with 18%gst)\n",
    "                |-- call another method WriteTofile\n",
    "  method -> writeToFile \n",
    "                vendorname,vendorid,productname,cost,qty,total   ---> vendorbilling.log"
   ]
  },
  {
   "cell_type": "code",
   "execution_count": 317,
   "id": "f21832de-1647-4bf3-b023-e23f6318cca8",
   "metadata": {},
   "outputs": [],
   "source": [
    "class vendor:\n",
    "    def __init__(self, vid,vname,product,cost=0.0):\n",
    "        self.__vid=vid\n",
    "        self.__vname=vname\n",
    "        self.__product=product\n",
    "        self.__cost=cost\n",
    "        print(\"vendor :{} Successfully enrolled\".format(self.__vname))\n",
    "\n",
    "    def billing(self):\n",
    "        qty=int(input(\"Enter the quantity:\"))\n",
    "        self.__qty=qty    # new attribute creation\n",
    "        self.__total=self.__cost * self.__qty\n",
    "        self.__tgst=self.__total *0.18 +self.__total\n",
    "\n",
    "        self.writeTofile()  # function to another method - nested call\n",
    "        print(\"Updated to File\")\n",
    "\n",
    "    def writeTofile(self):\n",
    "        wh=open(\"C:\\\\Users\\\\Theeba\\\\vendor_log.log\",\"a\")\n",
    "        wh.write(\"Vendor name:{}\\t Id:{}\\t Product:{}\\t Qty:{}\\t Total:{}\".format(self.__vname,self.__vid,self.__product,self.__qty,self.__tgst))\n",
    "        wh.write(\"\\n\")\n",
    "        wh.close()\n",
    "\n",
    "        \n",
    "        "
   ]
  },
  {
   "cell_type": "code",
   "execution_count": 319,
   "id": "4da3d3a6-8902-4a57-ad7a-f10cfe0ecdff",
   "metadata": {},
   "outputs": [
    {
     "name": "stdout",
     "output_type": "stream",
     "text": [
      "vendor :Vname-1 Successfully enrolled\n",
      "vendor :Vname-2 Successfully enrolled\n"
     ]
    }
   ],
   "source": [
    "vendor1= vendor('V101','Vname-1','Prod-1',1000) \n",
    "vendor2= vendor('V102','Vname-2','Prod-3',2000)\n"
   ]
  },
  {
   "cell_type": "code",
   "execution_count": 321,
   "id": "0c323175-39c0-4142-a51f-734e7fe51254",
   "metadata": {},
   "outputs": [
    {
     "name": "stdin",
     "output_type": "stream",
     "text": [
      "Enter the quantity: 3\n"
     ]
    },
    {
     "name": "stdout",
     "output_type": "stream",
     "text": [
      "Updated to File\n"
     ]
    }
   ],
   "source": [
    "vendor1.billing()"
   ]
  },
  {
   "cell_type": "code",
   "execution_count": 323,
   "id": "2b2bda6c-df39-4e63-85a9-ddd01796e163",
   "metadata": {},
   "outputs": [
    {
     "name": "stdin",
     "output_type": "stream",
     "text": [
      "Enter the quantity: 4\n"
     ]
    },
    {
     "name": "stdout",
     "output_type": "stream",
     "text": [
      "Updated to File\n"
     ]
    }
   ],
   "source": [
    "vendor2.billing()"
   ]
  },
  {
   "cell_type": "code",
   "execution_count": 325,
   "id": "f620217d-a7f8-4088-a54c-4c6334c42395",
   "metadata": {},
   "outputs": [
    {
     "name": "stdout",
     "output_type": "stream",
     "text": [
      "Vendor name:Vname-2\t Id:V102\t Product:Prod-3\t Qty:5\t Total:10000\n",
      "Vendor name:Vname-1\t Id:V101\t Product:Prod-1\t Qty:3\t Total:3000\n",
      "Vendor name:Vname-2\t Id:V102\t Product:Prod-3\t Qty:3\t Total:6000\n",
      "Vendor name:Vname-1\t Id:V101\t Product:Prod-1\t Qty:3\t Total:3540.0\n",
      "Vendor name:Vname-2\t Id:V102\t Product:Prod-3\t Qty:4\t Total:9440.0\n",
      "\n"
     ]
    }
   ],
   "source": [
    "fh=open(\"C:\\\\Users\\\\Theeba\\\\vendor_log.log\")\n",
    "print(fh.read())"
   ]
  },
  {
   "cell_type": "code",
   "execution_count": 329,
   "id": "97fdf0f5-2cee-4cb6-9d29-29e9fa9e2708",
   "metadata": {},
   "outputs": [
    {
     "ename": "AttributeError",
     "evalue": "'vendor' object has no attribute 'vid'",
     "output_type": "error",
     "traceback": [
      "\u001b[1;31m---------------------------------------------------------------------------\u001b[0m",
      "\u001b[1;31mAttributeError\u001b[0m                            Traceback (most recent call last)",
      "Cell \u001b[1;32mIn[329], line 1\u001b[0m\n\u001b[1;32m----> 1\u001b[0m vendor1\u001b[38;5;241m.\u001b[39mvid\n",
      "\u001b[1;31mAttributeError\u001b[0m: 'vendor' object has no attribute 'vid'"
     ]
    }
   ],
   "source": [
    "vendor1.vid  # private attr"
   ]
  },
  {
   "cell_type": "code",
   "execution_count": null,
   "id": "33f7401e-4a0b-4c0c-8a10-5dbbc29b9113",
   "metadata": {},
   "outputs": [],
   "source": [
    "Inheritance\n",
    "===========\n",
    "\n",
    "class A:\n",
    "    ...\n",
    "A() - can access class A attr\n",
    "\n",
    "class B:\n",
    "    ..\n",
    "B()  - can access class B attr\n",
    "\n",
    "parent    A  - attr\n",
    "|\n",
    "child     B   - attr\n",
    "\n",
    "class A:\n",
    "    ...\n",
    "class B(A):    #Inheritance \n",
    "    ...\n"
   ]
  },
  {
   "cell_type": "code",
   "execution_count": 331,
   "id": "6f6ef695-1ed6-4f9a-9a41-96aab12aa45a",
   "metadata": {},
   "outputs": [
    {
     "name": "stdout",
     "output_type": "stream",
     "text": [
      "100 Item-A custA 1999\n"
     ]
    }
   ],
   "source": [
    "class product:\n",
    "    pid=100\n",
    "    pname=\"Item-A\"\n",
    "\n",
    "class sales(product) : # inheritance\n",
    "    customer=\"custA\"\n",
    "    price=1999\n",
    "\n",
    "obj=sales()\n",
    "print(obj.pid,obj.pname,obj.customer,obj.price)"
   ]
  },
  {
   "cell_type": "code",
   "execution_count": 333,
   "id": "2933ebc3-e81a-42f0-90c8-4c43dd969894",
   "metadata": {},
   "outputs": [
    {
     "name": "stdout",
     "output_type": "stream",
     "text": [
      "500\n"
     ]
    }
   ],
   "source": [
    "class product:\n",
    "    pid=100\n",
    "    pname=\"Item-A\"\n",
    "\n",
    "class sales(product) : # inheritance\n",
    "    pid=500\n",
    "\n",
    "obj=sales()\n",
    "print(obj.pid)  # parent class attribute is overwritten by child class attribute "
   ]
  },
  {
   "cell_type": "code",
   "execution_count": 335,
   "id": "299b6135-f775-4fe9-88e9-1829e52e97e2",
   "metadata": {},
   "outputs": [
    {
     "name": "stdout",
     "output_type": "stream",
     "text": [
      "500 100\n"
     ]
    }
   ],
   "source": [
    "class product:\n",
    "    pid=100\n",
    "    pname=\"Item-A\"\n",
    "\n",
    "class sales(product) : # inheritance\n",
    "    pid=500\n",
    "    x=product.pid\n",
    "\n",
    "obj=sales()\n",
    "print(obj.pid,obj.x) "
   ]
  },
  {
   "cell_type": "code",
   "execution_count": 337,
   "id": "a90cef68-203d-4203-b3de-60c898d90a7c",
   "metadata": {},
   "outputs": [
    {
     "name": "stdout",
     "output_type": "stream",
     "text": [
      "fx block- child class\n"
     ]
    }
   ],
   "source": [
    "class product:\n",
    "    def fx(self):\n",
    "        print(\"fx block- product class\")\n",
    "class sales(product):\n",
    "    def fx(self):\n",
    "        print(\"fx block- child class\")\n",
    "\n",
    "obj=sales()\n",
    "obj.fx()"
   ]
  },
  {
   "cell_type": "code",
   "execution_count": 339,
   "id": "ee1343b7-9048-4abd-ba8d-b4791cd5a66f",
   "metadata": {},
   "outputs": [
    {
     "name": "stdout",
     "output_type": "stream",
     "text": [
      "fx block- child class\n",
      "fx block- product class\n"
     ]
    }
   ],
   "source": [
    "class product:\n",
    "    def fx(self):\n",
    "        print(\"fx block- product class\")\n",
    "class sales(product):\n",
    "    def fx(self):\n",
    "        print(\"fx block- child class\")\n",
    "        super().fx()    # call parent class method\n",
    "obj=sales()\n",
    "obj.fx()"
   ]
  },
  {
   "cell_type": "code",
   "execution_count": 341,
   "id": "d973742c-0b5c-4800-99d8-999e525180eb",
   "metadata": {},
   "outputs": [
    {
     "name": "stdout",
     "output_type": "stream",
     "text": [
      "fx block- child class\n",
      "fx block- product class\n"
     ]
    }
   ],
   "source": [
    "class product:\n",
    "    def fx(self):\n",
    "        print(\"fx block- product class\")\n",
    "class sales(product):\n",
    "    def fx(self):\n",
    "        print(\"fx block- child class\")\n",
    "        product.fx(self)    # call parent class method\n",
    "obj=sales()\n",
    "obj.fx()"
   ]
  },
  {
   "cell_type": "code",
   "execution_count": null,
   "id": "52c24954-4985-4637-9f52-0f50f3db1a44",
   "metadata": {},
   "outputs": [],
   "source": [
    "Multilevel inheritance\n",
    "========================\n",
    "class A:\n",
    "    pass\n",
    "class B(A):\n",
    "    pass\n",
    "class C(B):\n",
    "    pass\n",
    "\n",
    "file:ab.py                         file: sab.py                         file:p1.py\n",
    "==========                          ============                        ============\n",
    "class box:                         import ab                           import sab \n",
    "    def f1(self):                  class Fax(ab.box):                  class Max(sab.Fax)\n",
    "    def f2(self):                       def fx(self):                     ....\n",
    "    def f3(self):                       def fy(self):                   obj=Max()\n",
    "                                                                        obj.f1()\n",
    "                                                                        obj.f2()\n",
    "                                                                        obj.f3()\n",
    "                                                                        obj.fx()\n",
    "                                                                        obj.fy()\n",
    "\n",
    "python 2.x                           python 3.x\n",
    "============                        ============\n",
    "class box(object):                 class box:\n",
    "    var=100                           var=200\n",
    "\n",
    "Multiple inheritance\n",
    "=====================\n",
    "class  A:\n",
    "    pass\n",
    "class B:\n",
    "    pass\n",
    "class C(A,B):\n",
    "    pass  \n"
   ]
  }
 ],
 "metadata": {
  "kernelspec": {
   "display_name": "Python 3 (ipykernel)",
   "language": "python",
   "name": "python3"
  },
  "language_info": {
   "codemirror_mode": {
    "name": "ipython",
    "version": 3
   },
   "file_extension": ".py",
   "mimetype": "text/x-python",
   "name": "python",
   "nbconvert_exporter": "python",
   "pygments_lexer": "ipython3",
   "version": "3.12.3"
  }
 },
 "nbformat": 4,
 "nbformat_minor": 5
}
