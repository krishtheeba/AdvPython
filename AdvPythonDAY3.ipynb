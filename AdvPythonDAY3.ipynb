{
 "cells": [
  {
   "cell_type": "code",
   "execution_count": null,
   "id": "52ca9d49-cfb8-44d2-b079-63035f163b74",
   "metadata": {},
   "outputs": [],
   "source": [
    "decorator\n",
    "---------\n",
    "|-- metaprogramming - adding more features to existing code\n",
    "|--  functionname(function)()    (or) @function"
   ]
  },
  {
   "cell_type": "code",
   "execution_count": 23,
   "id": "bb8cc4de-10d3-40fe-b4de-4620c17d48f2",
   "metadata": {},
   "outputs": [
    {
     "data": {
      "text/plain": [
       "<function __main__.f1.<locals>.f2()>"
      ]
     },
     "execution_count": 23,
     "metadata": {},
     "output_type": "execute_result"
    }
   ],
   "source": [
    "def f1():\n",
    "    def f2():\n",
    "        def app1():\n",
    "            print(\"appl-1\")\n",
    "        def app2():\n",
    "            print(\"appl-2\")\n",
    "        app1()\n",
    "        app2()\n",
    "    return f2\n",
    "\n",
    "f1()"
   ]
  },
  {
   "cell_type": "code",
   "execution_count": 25,
   "id": "87df78c7-c95c-4e9c-9407-0dd3706a0b62",
   "metadata": {},
   "outputs": [
    {
     "name": "stdout",
     "output_type": "stream",
     "text": [
      "appl-1\n",
      "appl-2\n"
     ]
    }
   ],
   "source": [
    "f1()()"
   ]
  },
  {
   "cell_type": "code",
   "execution_count": 27,
   "id": "a101f8f8-6694-45a8-b1f1-e49d48d3f93f",
   "metadata": {},
   "outputs": [
    {
     "name": "stdout",
     "output_type": "stream",
     "text": [
      "appl-1\n",
      "appl-2\n"
     ]
    }
   ],
   "source": [
    "r=f1()\n",
    "r()"
   ]
  },
  {
   "cell_type": "code",
   "execution_count": 33,
   "id": "3b88bc13-afcf-43e2-97bb-c41555b73645",
   "metadata": {},
   "outputs": [],
   "source": [
    "def f1(a):    # decorator    a= fx\n",
    "    def f2():     # wrapper function\n",
    "        def app1():\n",
    "            print(\"appl-1\")\n",
    "        def app2():\n",
    "            print(\"appl-2\")\n",
    "        app1()\n",
    "        app2()\n",
    "        a()    # fx()\n",
    "    return f2\n"
   ]
  },
  {
   "cell_type": "code",
   "execution_count": 35,
   "id": "e7897e6a-b2ab-479d-9e8c-cb1b6925adeb",
   "metadata": {},
   "outputs": [
    {
     "name": "stdout",
     "output_type": "stream",
     "text": [
      "appl-1\n",
      "appl-2\n",
      "App-3- Updated\n"
     ]
    }
   ],
   "source": [
    "def fx():\n",
    "    print(\"App-3- Updated\")\n",
    "\n",
    "r=f1(fx)\n",
    "r()"
   ]
  },
  {
   "cell_type": "code",
   "execution_count": 37,
   "id": "9f5a9a2c-213b-405e-96b7-6c567e00a688",
   "metadata": {},
   "outputs": [
    {
     "name": "stdout",
     "output_type": "stream",
     "text": [
      "appl-1\n",
      "appl-2\n",
      "This is fy- Updated\n"
     ]
    }
   ],
   "source": [
    "@f1 \n",
    "def fy():\n",
    "    print(\"This is fy- Updated\")\n",
    "\n",
    "fy()    # fy()---> f1(fy)()"
   ]
  },
  {
   "cell_type": "code",
   "execution_count": 41,
   "id": "c0eeb012-f057-4de1-9fda-16a8e3d91f32",
   "metadata": {},
   "outputs": [
    {
     "name": "stdout",
     "output_type": "stream",
     "text": [
      "City-1\n",
      "City-2\n"
     ]
    }
   ],
   "source": [
    "def news(a):\n",
    "    def fwrapper():\n",
    "        a()\n",
    "    return fwrapper\n",
    "\n",
    "@news\n",
    "def city1():\n",
    "    print(\"City-1\")\n",
    "\n",
    "@news\n",
    "def city2():\n",
    "    print(\"City-2\")\n",
    "\n",
    "def city3():   \n",
    "    print(\"city-3\")   # direct function call\n",
    "    \n",
    "city1()    #  news(city1)()\n",
    "city2()\n",
    "\n"
   ]
  },
  {
   "cell_type": "code",
   "execution_count": null,
   "id": "cb649ba6-3322-42ca-8951-78f66e0f0c17",
   "metadata": {},
   "outputs": [],
   "source": [
    "Home  AboutUs     News    contactUs\n",
    "                   |---City1\n",
    "                   |-- City2\n",
    "                   |-- City3\n",
    "\n",
    "@news    f1\n",
    "def city4():\n",
    "    ....\n",
    "\n",
    "@news\n",
    "    def city5():\n",
    "        ...\n",
    "city1()\n",
    "city2()\n",
    "city3()\n",
    "city4()\n",
    "city5()"
   ]
  },
  {
   "cell_type": "code",
   "execution_count": null,
   "id": "9a9176e4-e4db-4916-b058-c0915a331c88",
   "metadata": {},
   "outputs": [],
   "source": [
    "class cname:\n",
    "    def method1(self):\n",
    "        print(\"object based method\")\n",
    "\n",
    "obj=cname()\n",
    "obj.method1()   #  method1(obj)   # instance methods\n",
    "\n",
    "obj1 =cname()\n",
    "obj1.method1()  # method1(obj1)\n",
    "\n",
    "cname.method1()   --->  method1(cname)   #instance not  class method"
   ]
  },
  {
   "cell_type": "code",
   "execution_count": null,
   "id": "cd8bdcac-a637-4c99-ab11-8ae2d48966b8",
   "metadata": {},
   "outputs": [],
   "source": [
    "class cname:\n",
    "    @classmethod\n",
    "    def f1(cls):\n",
    "        print(\"This is class method\")\n",
    "\n",
    "cname.f1()   # ---> f1(cname)"
   ]
  },
  {
   "cell_type": "code",
   "execution_count": 43,
   "id": "1e3f1e73-3299-4357-b52c-869b43df0de4",
   "metadata": {},
   "outputs": [
    {
     "name": "stdout",
     "output_type": "stream",
     "text": [
      "101\n",
      "501 Item-A\n"
     ]
    }
   ],
   "source": [
    "class box:\n",
    "    bid=101\n",
    "\n",
    "print(box.bid)\n",
    "box.bid=501 # overwrite\n",
    "box.bname=\"Item-A\"  # add new attr\n",
    "\n",
    "print(box.bid,box.bname)"
   ]
  },
  {
   "cell_type": "code",
   "execution_count": 45,
   "id": "16f0764e-1f54-4131-b67f-4d5b19b9ad18",
   "metadata": {},
   "outputs": [
    {
     "name": "stdout",
     "output_type": "stream",
     "text": [
      "A-->101\n",
      "101\n",
      "B-->501\n"
     ]
    }
   ],
   "source": [
    "class box:\n",
    "    bid=101\n",
    "    @classmethod\n",
    "    def fx(cls):\n",
    "        print(box.bid)\n",
    "        box.bid=501 # overwrite\n",
    "        box.bname=\"Item-A\"  # add new attr\n",
    "\n",
    "print(\"A-->{}\".format(box.bid))\n",
    "box.fx()   # fx(box)\n",
    "print(\"B-->{}\".format(box.bid,box.bname))"
   ]
  },
  {
   "cell_type": "code",
   "execution_count": 53,
   "id": "fed12178-f93c-4d1b-8811-2f0673a2e1db",
   "metadata": {},
   "outputs": [
    {
     "name": "stdout",
     "output_type": "stream",
     "text": [
      "101\n",
      "501 Item-A\n"
     ]
    }
   ],
   "source": [
    "class box:\n",
    "    __bid=101\n",
    "    @classmethod\n",
    "    def fx(cls):\n",
    "        print(cls.__bid)\n",
    "        cls.__bid=501 # overwrite\n",
    "        cls.__bname=\"Item-A\"  # add new attr         # class based initialization\n",
    "\n",
    "    def fy(self):\n",
    "        print(self.__bid,self.__bname)\n",
    "    def fz(self):\n",
    "        self.__bid=1000\n",
    "        self.__bname=\"mybox-1\"\n",
    "        # object based initialization\n",
    "\n",
    "box.fx()   # class method   -> fx(box)\n",
    "\n",
    "obj=box()\n",
    "obj.fy()"
   ]
  },
  {
   "cell_type": "code",
   "execution_count": 55,
   "id": "b6a6fad9-1cc4-4d23-bdad-24fe87a75fcf",
   "metadata": {},
   "outputs": [
    {
     "name": "stdout",
     "output_type": "stream",
     "text": [
      "1000 mybox-1\n"
     ]
    }
   ],
   "source": [
    "obj.fz() # fz(obj)\n",
    "obj.fy()"
   ]
  },
  {
   "cell_type": "code",
   "execution_count": 85,
   "id": "c8975c50-c0a4-40c2-8110-c63e604d46f1",
   "metadata": {},
   "outputs": [],
   "source": [
    "class enrollment:\n",
    "\n",
    "    @classmethod\n",
    "    def f1(cls):\n",
    "        cls.__name=\"\"\n",
    "        cls.__dob=\"\"\n",
    "    def f2(self,en,edob):\n",
    "        self.__name=en\n",
    "        self.__dob=edob\n",
    "    def f3(self):\n",
    "        print(\"Emp name : {}\\t Emp DOB : {}\".format(self.__name,self.__dob))\n",
    "    @classmethod\n",
    "    def f4(cls):\n",
    "        cls.__place=\"\"\n",
    "    def f5(self):\n",
    "        p=input(\"Enter the place\")\n",
    "        self.__place=p\n",
    "    def f6(self):\n",
    "        print(\"Emp Name :{}\\t Emp DOB : {}\\t Emp Working Place : {}\".format(self.__name,self.__dob,self.__place))\n",
    "        "
   ]
  },
  {
   "cell_type": "code",
   "execution_count": 87,
   "id": "2f9562ce-e32e-4db0-a2e7-0b2c74291874",
   "metadata": {},
   "outputs": [
    {
     "name": "stdout",
     "output_type": "stream",
     "text": [
      "Emp name : Harish\t Emp DOB : 2nd Jan\n"
     ]
    }
   ],
   "source": [
    "enrollment.f1()  # classmethod call\n",
    "\n",
    "obj1=enrollment() \n",
    "obj1.f2(\"Harish\",\"2nd Jan\")\n",
    "obj1.f3()"
   ]
  },
  {
   "cell_type": "code",
   "execution_count": 89,
   "id": "8e1e731e-c737-434f-907d-2c8748ecf80c",
   "metadata": {},
   "outputs": [
    {
     "name": "stdout",
     "output_type": "stream",
     "text": [
      "Emp name : Banu\t Emp DOB : 1st Dec\n"
     ]
    }
   ],
   "source": [
    "obj2=enrollment()\n",
    "obj2.f2(\"Banu\",\"1st Dec\")\n",
    "obj2.f3()"
   ]
  },
  {
   "cell_type": "code",
   "execution_count": 91,
   "id": "4ad75e38-ea82-4e48-842d-76f91c348c4c",
   "metadata": {},
   "outputs": [],
   "source": [
    "enrollment.f4()"
   ]
  },
  {
   "cell_type": "code",
   "execution_count": 103,
   "id": "c7342705-254e-4840-868c-34cfcf19d0ba",
   "metadata": {},
   "outputs": [
    {
     "name": "stdin",
     "output_type": "stream",
     "text": [
      "Enter the place Bengaluru\n"
     ]
    }
   ],
   "source": [
    "obj1.f5()"
   ]
  },
  {
   "cell_type": "code",
   "execution_count": 101,
   "id": "ca142f7d-2fb7-4f7a-8b22-3ef0039cfb43",
   "metadata": {},
   "outputs": [
    {
     "name": "stdin",
     "output_type": "stream",
     "text": [
      "Enter the place Pune\n"
     ]
    }
   ],
   "source": [
    "obj2.f5()"
   ]
  },
  {
   "cell_type": "code",
   "execution_count": 105,
   "id": "cf817d98-c6d6-4480-b6a7-d4b6b1d9be88",
   "metadata": {},
   "outputs": [
    {
     "name": "stdout",
     "output_type": "stream",
     "text": [
      "Emp Name :Harish\t Emp DOB : 2nd Jan\t Emp Working Place : Bengaluru\n",
      "Emp Name :Banu\t Emp DOB : 1st Dec\t Emp Working Place : Pune\n"
     ]
    }
   ],
   "source": [
    "obj1.f6()\n",
    "obj2.f6()\n"
   ]
  },
  {
   "cell_type": "code",
   "execution_count": null,
   "id": "e5a6fec5-e560-401f-83a7-d023c3b6f837",
   "metadata": {},
   "outputs": [],
   "source": [
    "@staticmethod\n",
    "def f()\n",
    "    ..\n",
    "\n",
    "classname.f()\n",
    "obj.f()\n"
   ]
  },
  {
   "cell_type": "code",
   "execution_count": 107,
   "id": "961b3c3e-66ad-4e7c-99f7-0738e68c17ea",
   "metadata": {},
   "outputs": [],
   "source": [
    "class cname:\n",
    "    __var=100\n",
    "\n",
    "    @classmethod\n",
    "    def f1(cls):\n",
    "        print(cls.__var)\n",
    "        print(\"cls method\")\n",
    "\n",
    "    def f2(self):\n",
    "        print(self.__var)\n",
    "        print(\"Object/ instance method\")\n",
    "\n",
    "    @staticmethod\n",
    "    def f3():\n",
    "        print(\"static method\")\n",
    "        "
   ]
  },
  {
   "cell_type": "code",
   "execution_count": 109,
   "id": "f550449b-70b9-4c1c-846a-c0b1c84f83c0",
   "metadata": {},
   "outputs": [
    {
     "name": "stdout",
     "output_type": "stream",
     "text": [
      "static method\n"
     ]
    }
   ],
   "source": [
    "cname.f3()"
   ]
  },
  {
   "cell_type": "code",
   "execution_count": 111,
   "id": "c98d3e02-d0e3-4a8a-ae00-b3c800688ec3",
   "metadata": {},
   "outputs": [
    {
     "name": "stdout",
     "output_type": "stream",
     "text": [
      "static method\n"
     ]
    }
   ],
   "source": [
    "obj=cname()\n",
    "obj.f3()"
   ]
  },
  {
   "cell_type": "code",
   "execution_count": null,
   "id": "5d9fd249-49b1-4ec9-a123-edfa34a77a35",
   "metadata": {},
   "outputs": [],
   "source": [
    "class fsinfo:\n",
    "    def __int__(self,a):\n",
    "        self.__fstype=a\n",
    "    def method(self):\n",
    "        print(self.__fstype)\n",
    "        part_info(self)\n",
    "    @staticmethod\n",
    "    def part_info():\n",
    "        print(\"static method\")\n",
    "        import os\n",
    "        os.system(\"df -Th\")\n",
    "    "
   ]
  },
  {
   "cell_type": "code",
   "execution_count": null,
   "id": "4f85c6c1-c5dd-43d8-94c9-a140df58d4af",
   "metadata": {},
   "outputs": [],
   "source": [
    "class fsinfo:\n",
    "    def __init__(self,a):\n",
    "        self.__fstype=a\n",
    "\n",
    "    def method(self):\n",
    "        print(self.__fstype)\n"
   ]
  },
  {
   "cell_type": "code",
   "execution_count": 117,
   "id": "ca4cb05f-9413-40cf-b994-dedc60685a5c",
   "metadata": {},
   "outputs": [],
   "source": [
    "\n",
    "class  fsinfo:\n",
    "    def __init__(self,a):\n",
    "        self.__fstype = a   # obj creation\n",
    "    @property\n",
    "    def method(self):       # getter\n",
    "        print(\"Getter method\")\n",
    "        return self.__fstype\n",
    "    @method.setter\n",
    "    def method(self,a):     # setter\n",
    "        print(\"Setter method\")\n",
    "        self.__fstype = a"
   ]
  },
  {
   "cell_type": "code",
   "execution_count": 125,
   "id": "786fb9ab-3b8f-4f33-afa1-4efc72b08eda",
   "metadata": {},
   "outputs": [
    {
     "name": "stdout",
     "output_type": "stream",
     "text": [
      "Getter method\n"
     ]
    },
    {
     "data": {
      "text/plain": [
       "'ext3'"
      ]
     },
     "execution_count": 125,
     "metadata": {},
     "output_type": "execute_result"
    }
   ],
   "source": [
    "obj=fsinfo(\"ext3\")\n",
    "obj.method    # getter method call"
   ]
  },
  {
   "cell_type": "code",
   "execution_count": 123,
   "id": "5af8cd20-64d3-4412-a130-eec32ea0cdf8",
   "metadata": {},
   "outputs": [
    {
     "name": "stdout",
     "output_type": "stream",
     "text": [
      "Setter method\n"
     ]
    }
   ],
   "source": [
    "obj.method=\"xfs\"    # setter method call"
   ]
  },
  {
   "cell_type": "code",
   "execution_count": null,
   "id": "ad12c143-c242-4cd4-be0b-a235272dc395",
   "metadata": {},
   "outputs": [],
   "source": [
    "Functional style programming\n",
    "============================\n",
    "    -> inline expression  (or) single line code\n",
    "\n",
    "1.generator\n",
    "2.enumerator\n",
    "3.lambda\n",
    "4.comprehension\n",
    "|\n",
    "5. map, filter, reduce\n"
   ]
  },
  {
   "cell_type": "code",
   "execution_count": 127,
   "id": "a969ca2c-a655-4f3b-bf23-0f744fa0f0cd",
   "metadata": {},
   "outputs": [
    {
     "name": "stdout",
     "output_type": "stream",
     "text": [
      "0x7ffb60215ad8\n"
     ]
    }
   ],
   "source": [
    "print(hex(id(10)))"
   ]
  },
  {
   "cell_type": "code",
   "execution_count": 129,
   "id": "ba71abaf-98b1-41cc-b9c1-25ad931bceec",
   "metadata": {},
   "outputs": [
    {
     "name": "stdout",
     "output_type": "stream",
     "text": [
      "0x7ffb60215ad8 0x7ffb60215ad8 0x7ffb60215ad8\n"
     ]
    }
   ],
   "source": [
    "a=10\n",
    "b=5+5\n",
    "c=2+8\n",
    "c=5*2\n",
    "\n",
    "print(hex(id(a)),hex(id(b)),hex(id(c)))"
   ]
  },
  {
   "cell_type": "code",
   "execution_count": 133,
   "id": "2601dcc6-9e3b-485b-b05a-f0060b906073",
   "metadata": {},
   "outputs": [
    {
     "name": "stdout",
     "output_type": "stream",
     "text": [
      "a= 0x7ffb602250d8\n",
      "a= 0x7ffb602250d8\n"
     ]
    }
   ],
   "source": [
    "s=\"abcabc\"         #  s | a| b| c| a | b | c\n",
    "                   #       0  1 2   3   4   5\n",
    "print(\"a=\",hex(id(s[0])))\n",
    "print(\"a=\",hex(id(s[3])))\n"
   ]
  },
  {
   "cell_type": "code",
   "execution_count": 145,
   "id": "1e7f75fc-ac06-40d1-b7d7-ec436cc3a2fa",
   "metadata": {},
   "outputs": [],
   "source": [
    "obj=iter(s)"
   ]
  },
  {
   "cell_type": "code",
   "execution_count": 147,
   "id": "c7d434ab-9ef9-4088-8626-7c981a93211a",
   "metadata": {},
   "outputs": [
    {
     "name": "stdout",
     "output_type": "stream",
     "text": [
      "<str_ascii_iterator object at 0x0000023069BEF460>\n"
     ]
    }
   ],
   "source": [
    "print(obj)"
   ]
  },
  {
   "cell_type": "code",
   "execution_count": null,
   "id": "732bb0f1-8fc3-4cfa-b579-b3e16dffc617",
   "metadata": {},
   "outputs": [],
   "source": [
    "# to open & traverse  --> 1. manual way   ->  next(obj)\n",
    "        #                  2. automatic way -> for loop"
   ]
  },
  {
   "cell_type": "code",
   "execution_count": 149,
   "id": "98a622b2-7084-4dd5-8e6f-a46e69b4a603",
   "metadata": {},
   "outputs": [
    {
     "name": "stdout",
     "output_type": "stream",
     "text": [
      "a\n",
      "b\n",
      "c\n",
      "a\n",
      "b\n",
      "c\n"
     ]
    }
   ],
   "source": [
    "print(next(obj))\n",
    "print(next(obj))\n",
    "print(next(obj))\n",
    "print(next(obj))\n",
    "print(next(obj))\n",
    "print(next(obj))"
   ]
  },
  {
   "cell_type": "code",
   "execution_count": 151,
   "id": "4f782594-6743-4881-b94b-2a9405079182",
   "metadata": {},
   "outputs": [
    {
     "ename": "StopIteration",
     "evalue": "",
     "output_type": "error",
     "traceback": [
      "\u001b[1;31m---------------------------------------------------------------------------\u001b[0m",
      "\u001b[1;31mStopIteration\u001b[0m                             Traceback (most recent call last)",
      "Cell \u001b[1;32mIn[151], line 1\u001b[0m\n\u001b[1;32m----> 1\u001b[0m \u001b[38;5;28mprint\u001b[39m(\u001b[38;5;28mnext\u001b[39m(obj))\n",
      "\u001b[1;31mStopIteration\u001b[0m: "
     ]
    }
   ],
   "source": [
    "print(next(obj))"
   ]
  },
  {
   "cell_type": "code",
   "execution_count": 153,
   "id": "bafdd5c3-0849-40b6-9641-2ec310db5911",
   "metadata": {},
   "outputs": [
    {
     "name": "stdout",
     "output_type": "stream",
     "text": [
      "a\n",
      "b\n",
      "c\n",
      "a\n",
      "b\n",
      "c\n"
     ]
    }
   ],
   "source": [
    "obj=iter(s)\n",
    "for i in obj:\n",
    "    print(i)"
   ]
  },
  {
   "cell_type": "code",
   "execution_count": 155,
   "id": "966d98ef-b402-4a3a-a16e-f768ee757d90",
   "metadata": {},
   "outputs": [
    {
     "data": {
      "text/plain": [
       "10"
      ]
     },
     "execution_count": 155,
     "metadata": {},
     "output_type": "execute_result"
    }
   ],
   "source": [
    "# generator - function that returns an iterator\n",
    "                #|-------------------------->   yield\n",
    "def f1():\n",
    "    return 10  # exit with value 10\n",
    "    print(\"Hello\")\n",
    "f1()"
   ]
  },
  {
   "cell_type": "code",
   "execution_count": 157,
   "id": "d8edce8d-0e3d-4ad3-ba8b-0e8daccd3f1b",
   "metadata": {},
   "outputs": [
    {
     "data": {
      "text/plain": [
       "<generator object f1 at 0x0000023069F404C0>"
      ]
     },
     "execution_count": 157,
     "metadata": {},
     "output_type": "execute_result"
    }
   ],
   "source": [
    "def f1():\n",
    "    yield 10\n",
    "    print(\"Hello\")\n",
    "\n",
    "f1()"
   ]
  },
  {
   "cell_type": "code",
   "execution_count": 161,
   "id": "c923cc89-6a9e-4688-860c-0ce525a1d188",
   "metadata": {},
   "outputs": [
    {
     "name": "stdout",
     "output_type": "stream",
     "text": [
      "<class 'generator'>\n",
      "10\n",
      "Hello\n"
     ]
    }
   ],
   "source": [
    "robj=f1()\n",
    "print(type(robj))\n",
    "for i in robj:\n",
    "    print(i)"
   ]
  },
  {
   "cell_type": "code",
   "execution_count": 163,
   "id": "0401bbfb-f4b8-4e81-b9b0-3b6418911c74",
   "metadata": {},
   "outputs": [
    {
     "data": {
      "text/plain": [
       "<generator object f1 at 0x0000023069F40640>"
      ]
     },
     "execution_count": 163,
     "metadata": {},
     "output_type": "execute_result"
    }
   ],
   "source": [
    "def f1():\n",
    "    yield 10\n",
    "    print(\"Hello\")\n",
    "    yield 20\n",
    "    yield \"d1\",\"d2\",\"d3\"\n",
    "f1()"
   ]
  },
  {
   "cell_type": "code",
   "execution_count": 165,
   "id": "e5675c9e-b3f1-4274-9108-6a307c521280",
   "metadata": {},
   "outputs": [
    {
     "name": "stdout",
     "output_type": "stream",
     "text": [
      "10\n",
      "Hello\n",
      "20\n",
      "('d1', 'd2', 'd3')\n"
     ]
    }
   ],
   "source": [
    "for i in f1():\n",
    "    print(i)"
   ]
  },
  {
   "cell_type": "code",
   "execution_count": null,
   "id": "2c2e8a2c-3a77-4882-b5d6-cc28c819f718",
   "metadata": {},
   "outputs": [],
   "source": [
    "obj=f1()\n",
    "print(next(obj))\n"
   ]
  },
  {
   "cell_type": "code",
   "execution_count": 167,
   "id": "1d04124b-8732-44de-adf6-dbfbc4972501",
   "metadata": {},
   "outputs": [
    {
     "name": "stdout",
     "output_type": "stream",
     "text": [
      "(0, 'a')\n",
      "(1, 'b')\n",
      "(2, 'c')\n",
      "(3, 'd')\n"
     ]
    }
   ],
   "source": [
    "obj=enumerate('abcd')\n",
    "for i in obj:\n",
    "    print(i)"
   ]
  },
  {
   "cell_type": "code",
   "execution_count": 169,
   "id": "befec630-fde1-4d18-92a0-f8a6256f3f80",
   "metadata": {},
   "outputs": [
    {
     "name": "stdout",
     "output_type": "stream",
     "text": [
      "(5, 'a')\n",
      "(6, 'b')\n",
      "(7, 'c')\n",
      "(8, 'd')\n"
     ]
    }
   ],
   "source": [
    "obj=enumerate('abcd',start=5)\n",
    "for i in obj:\n",
    "    print(i)"
   ]
  },
  {
   "cell_type": "code",
   "execution_count": 175,
   "id": "bf470c8c-22f5-4ea0-8d8d-70a1285a63e5",
   "metadata": {},
   "outputs": [],
   "source": [
    "fobj=open(\"C:\\\\Users\\\\theeba\\\\emp.csv\")   # --> iterator"
   ]
  },
  {
   "cell_type": "code",
   "execution_count": 181,
   "id": "42556441-a3d3-4bd8-8998-8c7a3061aa43",
   "metadata": {},
   "outputs": [
    {
     "name": "stdout",
     "output_type": "stream",
     "text": [
      "104,paul,sales,bglore,3200\n",
      "\n",
      "423,zio,sales,pune,3420\n",
      "\n",
      "142,anu,prod,chennai,4300\n",
      "\n",
      "949,karthik,sales,bglore,3100\n",
      "\n"
     ]
    }
   ],
   "source": [
    "print(next(fobj))\n",
    "print(next(fobj))\n",
    "print(next(fobj))\n",
    "print(next(fobj))"
   ]
  },
  {
   "cell_type": "code",
   "execution_count": 185,
   "id": "0ff6423e-aebf-47a0-9e43-ac2e90068675",
   "metadata": {},
   "outputs": [
    {
     "name": "stdout",
     "output_type": "stream",
     "text": [
      "1----->101,ram,sales,pune,1000\n",
      "2----->102,leo,prod,bglore,2000\n",
      "3----->103,anu,HR,hyd,3000\n",
      "4----->104,paul,sales,bglore,3200\n",
      "5----->423,zio,sales,pune,3420\n",
      "6----->142,anu,prod,chennai,4300\n",
      "7----->949,karthik,sales,bglore,3100\n",
      "8----->848,tom,hr,chennai,3940\n",
      "9----->931,vijay,prod,chennai,3411\n"
     ]
    }
   ],
   "source": [
    "for v in enumerate(open(\"C:\\\\Users\\\\Theeba\\\\emp.csv\"),start=1):\n",
    "    print(\"{}----->{}\".format(v[0],v[1].strip()))"
   ]
  },
  {
   "cell_type": "code",
   "execution_count": null,
   "id": "26206d25-970f-4dec-a797-2b0485a2f3b0",
   "metadata": {},
   "outputs": [],
   "source": [
    "task\n",
    "====\n",
    "1. modify the code to display line 3, 4, 5\n",
    "2. modify the code to display by ignoring line 3,4,5"
   ]
  },
  {
   "cell_type": "code",
   "execution_count": 187,
   "id": "5ffa5464-3121-4cfe-8132-63720f893119",
   "metadata": {},
   "outputs": [
    {
     "name": "stdout",
     "output_type": "stream",
     "text": [
      "3----->103,anu,HR,hyd,3000\n",
      "4----->104,paul,sales,bglore,3200\n",
      "5----->423,zio,sales,pune,3420\n"
     ]
    }
   ],
   "source": [
    "for v in enumerate(open(\"C:\\\\Users\\\\Theeba\\\\emp.csv\"),start=1):\n",
    "    if(v[0] > 2 and v[0]< 6):\n",
    "        print(\"{}----->{}\".format(v[0],v[1].strip()))"
   ]
  },
  {
   "cell_type": "code",
   "execution_count": 189,
   "id": "eb71b355-556d-4195-a2a5-3feff9a621f4",
   "metadata": {},
   "outputs": [
    {
     "name": "stdout",
     "output_type": "stream",
     "text": [
      "1----->101,ram,sales,pune,1000\n",
      "2----->102,leo,prod,bglore,2000\n",
      "6----->142,anu,prod,chennai,4300\n",
      "7----->949,karthik,sales,bglore,3100\n",
      "8----->848,tom,hr,chennai,3940\n",
      "9----->931,vijay,prod,chennai,3411\n"
     ]
    }
   ],
   "source": [
    "for v in enumerate(open(\"C:\\\\Users\\\\Theeba\\\\emp.csv\"),start=1):\n",
    "    if not(v[0] > 2 and v[0]< 6):\n",
    "        print(\"{}----->{}\".format(v[0],v[1].strip()))"
   ]
  },
  {
   "cell_type": "code",
   "execution_count": null,
   "id": "5322572b-b097-40b3-ac67-df1fa18b9821",
   "metadata": {},
   "outputs": [],
   "source": [
    "lambda - unnamed function \n",
    "def functionname(arg):      vs   lambda list_of_args : <operation>\n",
    "    codeblock"
   ]
  },
  {
   "cell_type": "code",
   "execution_count": 191,
   "id": "840567ec-ed0d-4a5a-943d-35c6ced8799d",
   "metadata": {},
   "outputs": [
    {
     "data": {
      "text/plain": [
       "30"
      ]
     },
     "execution_count": 191,
     "metadata": {},
     "output_type": "execute_result"
    }
   ],
   "source": [
    "def f1(a1,a2):\n",
    "    return a1+a2\n",
    "f1(10,20)"
   ]
  },
  {
   "cell_type": "code",
   "execution_count": 197,
   "id": "fc0088dc-5fc7-4492-a45b-75793835c31d",
   "metadata": {},
   "outputs": [
    {
     "data": {
      "text/plain": [
       "30"
      ]
     },
     "execution_count": 197,
     "metadata": {},
     "output_type": "execute_result"
    }
   ],
   "source": [
    "f2=lambda a1,a2:a1+a2\n",
    "f2(10,20)"
   ]
  },
  {
   "cell_type": "code",
   "execution_count": 199,
   "id": "8286f9ec-ea0f-41e1-b8a1-aa140cb7d111",
   "metadata": {},
   "outputs": [
    {
     "data": {
      "text/plain": [
       "'data1data2'"
      ]
     },
     "execution_count": 199,
     "metadata": {},
     "output_type": "execute_result"
    }
   ],
   "source": [
    "f1(\"data1\",\"data2\")"
   ]
  },
  {
   "cell_type": "code",
   "execution_count": 201,
   "id": "90f2a346-2b96-41d0-9dce-6017f6bd5203",
   "metadata": {},
   "outputs": [
    {
     "data": {
      "text/plain": [
       "False"
      ]
     },
     "execution_count": 201,
     "metadata": {},
     "output_type": "execute_result"
    }
   ],
   "source": [
    "def f2(a1):\n",
    "    return a1>100\n",
    "f2(100)"
   ]
  },
  {
   "cell_type": "code",
   "execution_count": 203,
   "id": "ea0780a0-3707-4829-ab85-80c1324e3669",
   "metadata": {},
   "outputs": [
    {
     "data": {
      "text/plain": [
       "False"
      ]
     },
     "execution_count": 203,
     "metadata": {},
     "output_type": "execute_result"
    }
   ],
   "source": [
    "f2=lambda a1: a1>100\n",
    "f2(100)"
   ]
  },
  {
   "cell_type": "code",
   "execution_count": 205,
   "id": "3a9ea57a-67f5-47de-9bea-de527e7e4d22",
   "metadata": {},
   "outputs": [
    {
     "data": {
      "text/plain": [
       "'ABC'"
      ]
     },
     "execution_count": 205,
     "metadata": {},
     "output_type": "execute_result"
    }
   ],
   "source": [
    "f2=lambda a:a.upper()\n",
    "f2('abc')"
   ]
  },
  {
   "cell_type": "code",
   "execution_count": 209,
   "id": "bc644938-ad05-40cc-b109-1f1d125593ee",
   "metadata": {},
   "outputs": [
    {
     "data": {
      "text/plain": [
       "110"
      ]
     },
     "execution_count": 209,
     "metadata": {},
     "output_type": "execute_result"
    }
   ],
   "source": [
    "def fx(a):\n",
    "    return a+100\n",
    "f2=lambda a1:fx(a1)\n",
    "f2(10)"
   ]
  },
  {
   "cell_type": "code",
   "execution_count": 211,
   "id": "ce3cfa30-84c2-417b-bc9b-0fd7ff4f5d48",
   "metadata": {},
   "outputs": [
    {
     "ename": "TypeError",
     "evalue": "<lambda>() missing 1 required positional argument: 'a1'",
     "output_type": "error",
     "traceback": [
      "\u001b[1;31m---------------------------------------------------------------------------\u001b[0m",
      "\u001b[1;31mTypeError\u001b[0m                                 Traceback (most recent call last)",
      "Cell \u001b[1;32mIn[211], line 1\u001b[0m\n\u001b[1;32m----> 1\u001b[0m f2()\n",
      "\u001b[1;31mTypeError\u001b[0m: <lambda>() missing 1 required positional argument: 'a1'"
     ]
    }
   ],
   "source": [
    "f2()  # error"
   ]
  },
  {
   "cell_type": "code",
   "execution_count": 215,
   "id": "24a80c69-ab64-45f3-b39c-d5b25c63a34f",
   "metadata": {},
   "outputs": [
    {
     "data": {
      "text/plain": [
       "200"
      ]
     },
     "execution_count": 215,
     "metadata": {},
     "output_type": "execute_result"
    }
   ],
   "source": [
    "def fx(a):\n",
    "    return a+100\n",
    "f2=lambda a1=100:fx(a1)  # default arg\n",
    "\n",
    "f2()"
   ]
  },
  {
   "cell_type": "code",
   "execution_count": null,
   "id": "466823a2-db81-48d9-9f7f-ee9cb9a896c7",
   "metadata": {},
   "outputs": [],
   "source": [
    "#lamda-to pass function as an arg "
   ]
  },
  {
   "cell_type": "code",
   "execution_count": 217,
   "id": "af642fd4-83d1-4c23-a67d-727f54964002",
   "metadata": {},
   "outputs": [
    {
     "data": {
      "text/plain": [
       "[110, 120, 130, 140]"
      ]
     },
     "execution_count": 217,
     "metadata": {},
     "output_type": "execute_result"
    }
   ],
   "source": [
    "#list comprehension   --> list creation\n",
    "\n",
    "L=[]\n",
    "for v in [10,20,30,40]:\n",
    "    r=v+100\n",
    "    L.append(r)\n",
    "L                      # procedural style"
   ]
  },
  {
   "cell_type": "code",
   "execution_count": 221,
   "id": "2e382d30-6b16-437c-9318-36df23ef01b4",
   "metadata": {},
   "outputs": [
    {
     "data": {
      "text/plain": [
       "[110, 120, 130, 140]"
      ]
     },
     "execution_count": 221,
     "metadata": {},
     "output_type": "execute_result"
    }
   ],
   "source": [
    "[i+100 for i in [10,20,30,40]]    # functional style"
   ]
  },
  {
   "cell_type": "code",
   "execution_count": null,
   "id": "53f060b5-eedd-43a1-b6c1-f0a8d75e6cb0",
   "metadata": {},
   "outputs": [],
   "source": [
    "[code for member in AnotherList] # syntax-list comprehension"
   ]
  },
  {
   "cell_type": "code",
   "execution_count": 223,
   "id": "3e6a1dfe-aa1f-46a3-a644-583997bfc1f3",
   "metadata": {},
   "outputs": [
    {
     "data": {
      "text/plain": [
       "[510, 520, 130, 140]"
      ]
     },
     "execution_count": 223,
     "metadata": {},
     "output_type": "execute_result"
    }
   ],
   "source": [
    "L=[]\n",
    "for v in [10,20,30,40]:\n",
    "    if v>25:\n",
    "        r=v+100\n",
    "    else:\n",
    "        r=v+500\n",
    "    L.append(r)\n",
    "L "
   ]
  },
  {
   "cell_type": "code",
   "execution_count": 225,
   "id": "ae017e57-888a-4226-9258-78139044a8c6",
   "metadata": {},
   "outputs": [
    {
     "data": {
      "text/plain": [
       "[510, 520, 130, 140]"
      ]
     },
     "execution_count": 225,
     "metadata": {},
     "output_type": "execute_result"
    }
   ],
   "source": [
    "[v+100 if v>25 else v+500 for v in [10,20,30,40]]"
   ]
  },
  {
   "cell_type": "code",
   "execution_count": null,
   "id": "491adfed-d682-4589-bef4-833530491d6c",
   "metadata": {},
   "outputs": [],
   "source": [
    "[true_expression if condition else false_Expression for member in List]"
   ]
  },
  {
   "cell_type": "code",
   "execution_count": 229,
   "id": "311b96b1-8315-4a6b-824c-abe35846f744",
   "metadata": {},
   "outputs": [
    {
     "data": {
      "text/plain": [
       "['101,RAM,SALES,PUNE,1000',\n",
       " '102,LEO,PROD,BGLORE,2000',\n",
       " '103,ANU,HR,HYD,3000',\n",
       " '104,PAUL,SALES,BGLORE,3200',\n",
       " '423,ZIO,SALES,PUNE,3420',\n",
       " '142,ANU,PROD,CHENNAI,4300',\n",
       " '949,KARTHIK,SALES,BGLORE,3100',\n",
       " '848,TOM,HR,CHENNAI,3940',\n",
       " '931,VIJAY,PROD,CHENNAI,3411']"
      ]
     },
     "execution_count": 229,
     "metadata": {},
     "output_type": "execute_result"
    }
   ],
   "source": [
    "[v.strip().upper()  for v in open(\"C:\\\\Users\\\\theeba\\\\emp.csv\")]"
   ]
  },
  {
   "cell_type": "code",
   "execution_count": null,
   "id": "085b72ba-b6ed-431a-a53e-2be02800c18d",
   "metadata": {},
   "outputs": [],
   "source": [
    "Task\n",
    "====\n",
    "create an empty dict\n",
    "with key--> 'filename'\n",
    "     value ---> [.....]"
   ]
  },
  {
   "cell_type": "code",
   "execution_count": 235,
   "id": "a1043e64-accd-465f-bb51-712ce34cb46b",
   "metadata": {},
   "outputs": [],
   "source": [
    "d={}\n",
    "fname=\"C:\\\\Users\\\\theeba\\\\emp.csv\"\n",
    "d[fname]=[v.strip().upper() for v in open(fname)]"
   ]
  },
  {
   "cell_type": "code",
   "execution_count": 237,
   "id": "d095f7eb-ae52-4c05-a2b5-d09c38901b6e",
   "metadata": {},
   "outputs": [
    {
     "data": {
      "text/plain": [
       "{'C:\\\\Users\\\\theeba\\\\emp.csv': ['101,RAM,SALES,PUNE,1000',\n",
       "  '102,LEO,PROD,BGLORE,2000',\n",
       "  '103,ANU,HR,HYD,3000',\n",
       "  '104,PAUL,SALES,BGLORE,3200',\n",
       "  '423,ZIO,SALES,PUNE,3420',\n",
       "  '142,ANU,PROD,CHENNAI,4300',\n",
       "  '949,KARTHIK,SALES,BGLORE,3100',\n",
       "  '848,TOM,HR,CHENNAI,3940',\n",
       "  '931,VIJAY,PROD,CHENNAI,3411']}"
      ]
     },
     "execution_count": 237,
     "metadata": {},
     "output_type": "execute_result"
    }
   ],
   "source": [
    "d"
   ]
  },
  {
   "cell_type": "code",
   "execution_count": null,
   "id": "2a18f13f-5980-4a21-94fa-f25d5b7785a3",
   "metadata": {},
   "outputs": [],
   "source": [
    "#iterator\n",
    "#generator\n",
    "#enumerate\n",
    "#lambda\n",
    "#comprehension\n",
    "\n",
    "map,filter,reduce  \n",
    "\n",
    "#map(function,collection)---> generator\n",
    "#     |          |\n",
    "#    lambda     comprehension (or) iterable obj\n",
    "\n"
   ]
  },
  {
   "cell_type": "code",
   "execution_count": 239,
   "id": "abcccf53-c99e-482c-bcd5-9a0864e42950",
   "metadata": {},
   "outputs": [
    {
     "data": {
      "text/plain": [
       "[200, 300, 400, 500, 600]"
      ]
     },
     "execution_count": 239,
     "metadata": {},
     "output_type": "execute_result"
    }
   ],
   "source": [
    "L=[]\n",
    "def f1(a):\n",
    "    return a+100\n",
    "\n",
    "for v in [100,200,300,400,500]:\n",
    "    r=f1(v)\n",
    "    L.append(r)\n",
    "\n",
    "L"
   ]
  },
  {
   "cell_type": "code",
   "execution_count": null,
   "id": "49225563-eb4e-4b1c-9233-32bff803050c",
   "metadata": {},
   "outputs": [],
   "source": [
    "map--> does code logic in each & every element in my collection\n",
    "   --> generator\n",
    "          |---next(obj)\n",
    "          |--- for loop\n",
    "          |--- list(obj) \n"
   ]
  },
  {
   "cell_type": "code",
   "execution_count": 241,
   "id": "9a84567f-6a19-4631-9cc7-7997dc16d0c6",
   "metadata": {},
   "outputs": [
    {
     "data": {
      "text/plain": [
       "<map at 0x2306a223eb0>"
      ]
     },
     "execution_count": 241,
     "metadata": {},
     "output_type": "execute_result"
    }
   ],
   "source": [
    "#map(function,collection)\n",
    "map( lambda a: a+100 , [100,200,300,400,500])"
   ]
  },
  {
   "cell_type": "code",
   "execution_count": 245,
   "id": "3bfbee8f-431d-405e-b3b3-f6cb379917a8",
   "metadata": {},
   "outputs": [
    {
     "data": {
      "text/plain": [
       "[200, 300, 400, 500, 600]"
      ]
     },
     "execution_count": 245,
     "metadata": {},
     "output_type": "execute_result"
    }
   ],
   "source": [
    "#map(function,collection)\n",
    "rv=map( lambda a: a+100 , [100,200,300,400,500])\n",
    "list(rv)"
   ]
  },
  {
   "cell_type": "code",
   "execution_count": 247,
   "id": "5560e3ef-92bb-4eae-b090-b6bc74dc6c93",
   "metadata": {},
   "outputs": [
    {
     "data": {
      "text/plain": [
       "[200, 300, 400, 500, 600]"
      ]
     },
     "execution_count": 247,
     "metadata": {},
     "output_type": "execute_result"
    }
   ],
   "source": [
    "list(map(lambda a: a+100, [100,200,300,400,500]))"
   ]
  },
  {
   "cell_type": "code",
   "execution_count": 249,
   "id": "39fd610e-4d1d-4ced-9db1-6a82f62b04ae",
   "metadata": {},
   "outputs": [
    {
     "name": "stdout",
     "output_type": "stream",
     "text": [
      "200\n",
      "300\n",
      "400\n",
      "500\n",
      "600\n"
     ]
    }
   ],
   "source": [
    "gen_obj=map( lambda a: a+100 , [100,200,300,400,500])\n",
    "print(next(gen_obj))\n",
    "print(next(gen_obj))\n",
    "print(next(gen_obj))\n",
    "print(next(gen_obj))\n",
    "print(next(gen_obj))"
   ]
  },
  {
   "cell_type": "code",
   "execution_count": 251,
   "id": "0acd2417-da39-44b0-b913-dc33d9424370",
   "metadata": {},
   "outputs": [
    {
     "ename": "StopIteration",
     "evalue": "",
     "output_type": "error",
     "traceback": [
      "\u001b[1;31m---------------------------------------------------------------------------\u001b[0m",
      "\u001b[1;31mStopIteration\u001b[0m                             Traceback (most recent call last)",
      "Cell \u001b[1;32mIn[251], line 1\u001b[0m\n\u001b[1;32m----> 1\u001b[0m \u001b[38;5;28mprint\u001b[39m(\u001b[38;5;28mnext\u001b[39m(gen_obj))\n",
      "\u001b[1;31mStopIteration\u001b[0m: "
     ]
    }
   ],
   "source": [
    "print(next(gen_obj))"
   ]
  },
  {
   "cell_type": "code",
   "execution_count": 253,
   "id": "fcd165bf-b2a7-4dfa-9733-8e479c7a4820",
   "metadata": {},
   "outputs": [
    {
     "name": "stdout",
     "output_type": "stream",
     "text": [
      "200\n",
      "300\n",
      "400\n",
      "500\n",
      "600\n"
     ]
    }
   ],
   "source": [
    "gen_obj=map( lambda a: a+100 , [100,200,300,400,500])\n",
    "for i in gen_obj:\n",
    "    print(i)"
   ]
  },
  {
   "cell_type": "code",
   "execution_count": 255,
   "id": "79edc089-c93b-4c6d-9bd2-f5db15bce6f6",
   "metadata": {},
   "outputs": [],
   "source": [
    "def fx():\n",
    "    yield 10\n",
    "    yield 10+500\n",
    "    yield \"STDOUT\",\"STDIN\"\n",
    "    yield \"D1\",{\"k1\":\"v1\",\"k2\":\"v2\"},[1,23,4]\n",
    "\n",
    "gen_obj=fx()"
   ]
  },
  {
   "cell_type": "code",
   "execution_count": 257,
   "id": "b0b9bb1a-d09f-4013-ae3b-2b49fc1dfced",
   "metadata": {},
   "outputs": [
    {
     "name": "stdout",
     "output_type": "stream",
     "text": [
      "<generator object fx at 0x0000023069F40AC0>\n"
     ]
    }
   ],
   "source": [
    "print(gen_obj)"
   ]
  },
  {
   "cell_type": "code",
   "execution_count": 259,
   "id": "693a06ca-046f-476c-a948-a01f6bae82a2",
   "metadata": {},
   "outputs": [
    {
     "data": {
      "text/plain": [
       "[10, 510, ('STDOUT', 'STDIN'), ('D1', {'k1': 'v1', 'k2': 'v2'}, [1, 23, 4])]"
      ]
     },
     "execution_count": 259,
     "metadata": {},
     "output_type": "execute_result"
    }
   ],
   "source": [
    "list(gen_obj)"
   ]
  },
  {
   "cell_type": "code",
   "execution_count": 261,
   "id": "a7bc8d52-87fc-49a3-80fe-bb7cc8c02e39",
   "metadata": {},
   "outputs": [
    {
     "data": {
      "text/plain": [
       "['RAM', 'LEO', 'ANU', 'PAUL', 'ZIO', 'ANU', 'KARTHIK', 'TOM', 'VIJAY']"
      ]
     },
     "execution_count": 261,
     "metadata": {},
     "output_type": "execute_result"
    }
   ],
   "source": [
    "Users=[]\n",
    "f=open(\"emp.csv\")\n",
    "for var in f:\n",
    "    L=var.split(\",\")\n",
    "    Users.append(L[1].upper())\n",
    "f.close()\n",
    "Users"
   ]
  },
  {
   "cell_type": "code",
   "execution_count": 263,
   "id": "1c948a4c-5fba-4e13-917f-c50543318a3a",
   "metadata": {},
   "outputs": [
    {
     "data": {
      "text/plain": [
       "['RAM', 'LEO', 'ANU', 'PAUL', 'ZIO', 'ANU', 'KARTHIK', 'TOM', 'VIJAY']"
      ]
     },
     "execution_count": 263,
     "metadata": {},
     "output_type": "execute_result"
    }
   ],
   "source": [
    "list(map(lambda a: a.split(\",\")[1].upper(), open(\"C:\\\\Users\\\\Theeba\\\\emp.csv\")))"
   ]
  },
  {
   "cell_type": "code",
   "execution_count": 265,
   "id": "98ec7006-eb49-4b22-af1e-316229a9be87",
   "metadata": {},
   "outputs": [
    {
     "name": "stdout",
     "output_type": "stream",
     "text": [
      "[False, False, False, True, False, True]\n"
     ]
    }
   ],
   "source": [
    "L=[]\n",
    "def fx(a):\n",
    "    if a> 100:\n",
    "        return True\n",
    "    else:\n",
    "        return False\n",
    "\n",
    "for var in [10,40,100,300,20,500]:\n",
    "    r=fx(var)\n",
    "    L.append(r)\n",
    "\n",
    "print(L)\n",
    "\n",
    "    "
   ]
  },
  {
   "cell_type": "code",
   "execution_count": 267,
   "id": "b2002d33-35ee-49e4-97e4-6d8e7b823cd9",
   "metadata": {},
   "outputs": [
    {
     "data": {
      "text/plain": [
       "[False, False, False, True, False, True]"
      ]
     },
     "execution_count": 267,
     "metadata": {},
     "output_type": "execute_result"
    }
   ],
   "source": [
    "list(map(lambda a: a>100,[10,40,100,300,20,500]))  # returns all elemnts"
   ]
  },
  {
   "cell_type": "code",
   "execution_count": 269,
   "id": "beca1e81-87ba-4688-907f-0c01bf99649a",
   "metadata": {},
   "outputs": [
    {
     "data": {
      "text/plain": [
       "[300, 500]"
      ]
     },
     "execution_count": 269,
     "metadata": {},
     "output_type": "execute_result"
    }
   ],
   "source": [
    "list(filter(lambda a: a>100,[10,40,100,300,20,500]))  #-> returns generator with true elemts"
   ]
  },
  {
   "cell_type": "code",
   "execution_count": 273,
   "id": "8afa544c-f51c-458b-9abd-a866883f11db",
   "metadata": {},
   "outputs": [
    {
     "data": {
      "text/plain": [
       "False"
      ]
     },
     "execution_count": 273,
     "metadata": {},
     "output_type": "execute_result"
    }
   ],
   "source": [
    "import os\n",
    "\"p1.log\" in os.listdir(\"C:\\\\\")"
   ]
  },
  {
   "cell_type": "code",
   "execution_count": 275,
   "id": "03818afd-443f-481a-b75b-733676fd73c3",
   "metadata": {},
   "outputs": [
    {
     "data": {
      "text/plain": [
       "True"
      ]
     },
     "execution_count": 275,
     "metadata": {},
     "output_type": "execute_result"
    }
   ],
   "source": [
    "\"Users\" in os.listdir(\"C:\\\\\")"
   ]
  },
  {
   "cell_type": "code",
   "execution_count": 277,
   "id": "b848e12e-9e5d-40f9-8423-5dfaed356ca7",
   "metadata": {},
   "outputs": [
    {
     "data": {
      "text/plain": [
       "['Users']"
      ]
     },
     "execution_count": 277,
     "metadata": {},
     "output_type": "execute_result"
    }
   ],
   "source": [
    "list(filter(lambda a : a in os.listdir(\"C:\\\\\"),[\"p1.log\",\"Users\"]))"
   ]
  },
  {
   "cell_type": "code",
   "execution_count": null,
   "id": "ebf9d9de-b3e2-4d2b-977a-e2ceb38ed3f3",
   "metadata": {},
   "outputs": [],
   "source": [
    "#task\n",
    "=====\n",
    "Extract only sales dept employee."
   ]
  },
  {
   "cell_type": "code",
   "execution_count": 291,
   "id": "e3b7eb11-978f-4e6b-893d-159ccba55c04",
   "metadata": {},
   "outputs": [
    {
     "data": {
      "text/plain": [
       "['101,ram,sales,pune,1000\\n',\n",
       " '104,paul,sales,bglore,3200\\n',\n",
       " '423,zio,sales,pune,3420\\n',\n",
       " '949,karthik,sales,bglore,3100\\n']"
      ]
     },
     "execution_count": 291,
     "metadata": {},
     "output_type": "execute_result"
    }
   ],
   "source": [
    "L=list(filter(lambda a:\"SALES\" in a.upper(), open(\"C:\\\\Users\\\\Theeba\\\\emp.csv\")))\n",
    "L"
   ]
  },
  {
   "cell_type": "code",
   "execution_count": 303,
   "id": "7d8659ac-5bdb-4c9c-a951-023331598743",
   "metadata": {},
   "outputs": [
    {
     "data": {
      "text/plain": [
       "['ram', 'paul', 'zio', 'karthik']"
      ]
     },
     "execution_count": 303,
     "metadata": {},
     "output_type": "execute_result"
    }
   ],
   "source": [
    "[ i.split(\",\")[1] for i in L]"
   ]
  },
  {
   "cell_type": "code",
   "execution_count": 305,
   "id": "b5374d9f-c08e-43a4-8a5c-702f4bb0dd67",
   "metadata": {},
   "outputs": [
    {
     "data": {
      "text/plain": [
       "['ram', 'paul', 'zio', 'karthik']"
      ]
     },
     "execution_count": 305,
     "metadata": {},
     "output_type": "execute_result"
    }
   ],
   "source": [
    "[ i.strip().split(\",\")[1] for i in list(filter(lambda a:\"SALES\" in a.upper(), open(\"C:\\\\Users\\\\Theeba\\\\emp.csv\")))]\n"
   ]
  },
  {
   "cell_type": "code",
   "execution_count": null,
   "id": "ccff1b65-2c35-4d7a-9dbe-130767a20720",
   "metadata": {},
   "outputs": [],
   "source": [
    "reduce()---> python 2.x\n",
    "\n",
    "In Python 3.x,\n",
    "\n",
    "import functools\n",
    "functools.reduce\n",
    "(or)\n",
    "\n",
    "from functools import reduce\n",
    "\n",
    "reduce"
   ]
  },
  {
   "cell_type": "code",
   "execution_count": 307,
   "id": "04f3cf50-f15f-4258-a9d0-d8c41408b1d2",
   "metadata": {},
   "outputs": [
    {
     "data": {
      "text/plain": [
       "<function _functools.reduce>"
      ]
     },
     "execution_count": 307,
     "metadata": {},
     "output_type": "execute_result"
    }
   ],
   "source": [
    "from functools import reduce\n",
    "reduce"
   ]
  },
  {
   "cell_type": "code",
   "execution_count": null,
   "id": "15c71e8d-b38b-4791-a039-655e8009460b",
   "metadata": {},
   "outputs": [],
   "source": [
    "map(lambda, collection)----> generator\n",
    "filter(lambda, collection) ---> generator\n",
    "\n",
    "reduce(lambda,collection)-----> single value"
   ]
  },
  {
   "cell_type": "code",
   "execution_count": 309,
   "id": "7c0ff0e3-4b15-413d-a050-502e2b3e6457",
   "metadata": {},
   "outputs": [
    {
     "name": "stdout",
     "output_type": "stream",
     "text": [
      "28.1\n"
     ]
    }
   ],
   "source": [
    "L=[10.22,4.66,10.78,2.44]\n",
    "\n",
    "t=0\n",
    "for var in L:\n",
    "    t+=var # t=t+var\n",
    "else:\n",
    "    print(t)"
   ]
  },
  {
   "cell_type": "code",
   "execution_count": 313,
   "id": "87a149ea-93ec-4101-95dd-6367369fdcc8",
   "metadata": {},
   "outputs": [
    {
     "data": {
      "text/plain": [
       "28.1"
      ]
     },
     "execution_count": 313,
     "metadata": {},
     "output_type": "execute_result"
    }
   ],
   "source": [
    "from functools import reduce\n",
    "reduce(lambda a,b:a+b,L)                 # functools.reducelambda,collection"
   ]
  },
  {
   "cell_type": "code",
   "execution_count": null,
   "id": "34c61782-3f39-4432-8190-9d46cb66021c",
   "metadata": {},
   "outputs": [],
   "source": [
    "[1   2   3   4  5]\n",
    "a   b\n",
    "     3\n",
    "     a   b\n",
    "     -----\n",
    "         6 \n",
    "         a   b\n",
    "         -----\n",
    "         10\n",
    "          a     b\n",
    "          -------\n",
    "            15"
   ]
  },
  {
   "cell_type": "code",
   "execution_count": 315,
   "id": "836d3fac-a599-4994-b06d-cb7476ba7c2b",
   "metadata": {},
   "outputs": [
    {
     "name": "stdout",
     "output_type": "stream",
     "text": [
      "High\n"
     ]
    }
   ],
   "source": [
    "if reduce(lambda a,b:a+b,L) > 20.10:\n",
    "    print(\"High\")\n",
    "else:\n",
    "    print(\"Low\")"
   ]
  },
  {
   "cell_type": "code",
   "execution_count": 319,
   "id": "5d462cab-fce4-443e-8e93-ef165ca90eef",
   "metadata": {},
   "outputs": [
    {
     "data": {
      "text/plain": [
       "'abctest-1.log'"
      ]
     },
     "execution_count": 319,
     "metadata": {},
     "output_type": "execute_result"
    }
   ],
   "source": [
    "fname=reduce(lambda a,b:(a+b).lower(), ['A','B','C'] )+\"test-1\"+\".log\"\n",
    "fname"
   ]
  },
  {
   "cell_type": "code",
   "execution_count": 323,
   "id": "199dac12-86c1-4130-91ed-2c432127a585",
   "metadata": {},
   "outputs": [
    {
     "name": "stdout",
     "output_type": "stream",
     "text": [
      "Sum of Sales Employee Cost :10720\n"
     ]
    }
   ],
   "source": [
    "f=open(\"C:\\\\Users\\\\Theeba\\\\emp.csv\")\n",
    "total=0\n",
    "for var in f.readlines():\n",
    "    if 'sales' in var:\n",
    "        cost=var.strip().split(\",\")[-1]\n",
    "        total= total + int(cost)\n",
    "else:\n",
    "    print(\"Sum of Sales Employee Cost :{}\".format(total))\n"
   ]
  },
  {
   "cell_type": "code",
   "execution_count": null,
   "id": "8832e632-b96c-4de5-89e5-061621f8cc8f",
   "metadata": {},
   "outputs": [],
   "source": [
    "['101,RAM,SALES,PUNE,1000',\n",
    "  '102,LEO,PROD,BGLORE,2000',\n",
    "  '103,ANU,HR,HYD,3000',\n",
    "  '104,PAUL,SALES,BGLORE,3200',\n",
    "  '423,ZIO,SALES,PUNE,3420',\n",
    "  '142,ANU,PROD,CHENNAI,4300',\n",
    "  '949,KARTHIK,SALES,BGLORE,3100',\n",
    "  '848,TOM,HR,CHENNAI,3940',\n",
    "  '931,VIJAY,PROD,CHENNAI,3411']"
   ]
  },
  {
   "cell_type": "code",
   "execution_count": 325,
   "id": "18e188e3-eaec-4a68-a922-1f030d8c3f12",
   "metadata": {},
   "outputs": [
    {
     "data": {
      "text/plain": [
       "['101,ram,sales,pune,1000\\n',\n",
       " '104,paul,sales,bglore,3200\\n',\n",
       " '423,zio,sales,pune,3420\\n',\n",
       " '949,karthik,sales,bglore,3100\\n']"
      ]
     },
     "execution_count": 325,
     "metadata": {},
     "output_type": "execute_result"
    }
   ],
   "source": [
    "list(filter(lambda a: \"SALES\" in a.upper(), open(\"C:\\\\Users\\\\Theeba\\\\emp.csv\")))"
   ]
  },
  {
   "cell_type": "code",
   "execution_count": 331,
   "id": "a8fcbb0c-8371-413d-80e8-d66ece3dfb1d",
   "metadata": {},
   "outputs": [
    {
     "data": {
      "text/plain": [
       "['1000', '3200', '3420', '3100']"
      ]
     },
     "execution_count": 331,
     "metadata": {},
     "output_type": "execute_result"
    }
   ],
   "source": [
    "list(map(lambda a:a.strip().split(\",\")[-1],\n",
    "         list(filter(lambda a: \"SALES\" in a.upper(), open(\"C:\\\\Users\\\\Theeba\\\\emp.csv\")))))"
   ]
  },
  {
   "cell_type": "code",
   "execution_count": 333,
   "id": "cedbab96-dafe-4fb1-893b-c087ce5428b8",
   "metadata": {},
   "outputs": [
    {
     "data": {
      "text/plain": [
       "10720"
      ]
     },
     "execution_count": 333,
     "metadata": {},
     "output_type": "execute_result"
    }
   ],
   "source": [
    "from functools import reduce\n",
    "reduce(lambda a,b:int(a)+int(b),list(map(lambda a:a.strip().split(\",\")[-1],\n",
    "         list(filter(lambda a: \"SALES\" in a.upper(), open(\"C:\\\\Users\\\\Theeba\\\\emp.csv\"))))) )"
   ]
  },
  {
   "cell_type": "code",
   "execution_count": 335,
   "id": "29660c91-3a4a-4fe8-a345-86da096a71a8",
   "metadata": {},
   "outputs": [
    {
     "data": {
      "text/plain": [
       "openpyxl.workbook.workbook.Workbook"
      ]
     },
     "execution_count": 335,
     "metadata": {},
     "output_type": "execute_result"
    }
   ],
   "source": [
    "import openpyxl\n",
    "openpyxl.Workbook  #class"
   ]
  },
  {
   "cell_type": "code",
   "execution_count": 347,
   "id": "f8af3235-3ec2-4396-9810-fc7b5caaa2e1",
   "metadata": {},
   "outputs": [
    {
     "data": {
      "text/plain": [
       "<openpyxl.workbook.workbook.Workbook at 0x2306a8ef7d0>"
      ]
     },
     "execution_count": 347,
     "metadata": {},
     "output_type": "execute_result"
    }
   ],
   "source": [
    "wobj=openpyxl.Workbook()\n",
    "wobj"
   ]
  },
  {
   "cell_type": "code",
   "execution_count": 343,
   "id": "3eae76ee-afc5-48bf-8c69-87f2b1365cff",
   "metadata": {},
   "outputs": [],
   "source": [
    "sh1=wobj.active  # property decorator  sheet"
   ]
  },
  {
   "cell_type": "code",
   "execution_count": 345,
   "id": "4bde7eca-78dd-48bb-bddc-084b17a7690f",
   "metadata": {},
   "outputs": [],
   "source": [
    "sh1[\"A1\"]=100\n",
    "sh1[\"A2\"]=\"data\"\n",
    "wobj.save(\"Test.xlsx\")"
   ]
  },
  {
   "cell_type": "code",
   "execution_count": null,
   "id": "f5cab7e6-f9c0-43ee-b47f-097049eaf911",
   "metadata": {},
   "outputs": [],
   "source": [
    "Multithreading\n",
    "==============\n",
    "\n",
    "File,Process\n",
    "\n",
    "File-- Data under storage \n",
    "Process--- Data under CPU\n",
    "                        |--1. fetch data from memory\n",
    "                         |-- 2. store in reg\n",
    "                          |-- 3. execute // Process is created\n",
    "\n",
    "process= data+ Address\n",
    "\n",
    "P1  -> PID, PAddress, Pstate.... // PCB (process control Block)\n",
    "\n",
    "P1 (Parent) \n",
    "|\n",
    "P2 (Child)\n",
    "\n",
    "C:\\> # parent process Active\n",
    "C:\\>Python    # parent--> Waiting   child --> Active \n",
    "....\n",
    ">>>\n",
    ">>>exit()  child terminate \n",
    "#parent resumes\n",
    "\n",
    "\n"
   ]
  },
  {
   "cell_type": "code",
   "execution_count": null,
   "id": "347c045f-7987-4a7d-b67a-f13ffeba1dbd",
   "metadata": {},
   "outputs": [],
   "source": [
    "file1: p1.py\n",
    "===========\n",
    "import time\n",
    "def f1():\n",
    "    ...\n",
    "    time.sleep(80)\n",
    "def f2():\n",
    "    ...\n",
    "    ..\n",
    "print(\"mainscript\")\n"
   ]
  },
  {
   "cell_type": "code",
   "execution_count": null,
   "id": "58b9a7f0-b58a-46e9-98ec-d8fd34146a52",
   "metadata": {},
   "outputs": [],
   "source": [
    "process= Data + Address\n",
    "|\n",
    "Thread = Data\n",
    "\n",
    "p1 --> 0x1234\n",
    "|\n",
    "t1 t2 t3\n",
    "\n",
    "P1 -R+ -> Waiting     ---R+               T1---R+\n",
    "|                       |           vs     |\n",
    "P2 - -------R+ ---------exit              T2---R+\n",
    "                                threadid, stackpointer,..ParentProcessPointer (PPP)--PCB\n",
    "\n"
   ]
  },
  {
   "cell_type": "code",
   "execution_count": null,
   "id": "9193eda3-10e5-402f-ae05-c73c95602a85",
   "metadata": {},
   "outputs": [],
   "source": [
    "In Python, - cpython - GlobalInterpreterLock(GIL)-enabled - \n",
    "\n",
    "jpython\n",
    "ipython\n",
    "pypy\n",
    "--------------- GIL - disabled - CPU intensive task "
   ]
  },
  {
   "cell_type": "code",
   "execution_count": null,
   "id": "e53978e7-706b-42e2-a3e7-ea41a3a77aee",
   "metadata": {},
   "outputs": [],
   "source": [
    "Thread creation\n",
    "Thread syntchronization- lock/unlock"
   ]
  },
  {
   "cell_type": "code",
   "execution_count": null,
   "id": "0753ec6d-5212-48f4-b75c-85d36ebd58ae",
   "metadata": {},
   "outputs": [],
   "source": [
    "Threading - module\n",
    "|\n",
    "Thread  - class - constructor-  keyword argument -> (target=<ThreadName>, args=(tuple,))\n",
    "|\n",
    "start()            ---> Thread.run()"
   ]
  },
  {
   "cell_type": "code",
   "execution_count": null,
   "id": "d7c88813-4be7-406a-a884-712fdaf2b3ed",
   "metadata": {},
   "outputs": [],
   "source": [
    "import threading\n",
    "obj=Threading.Thread(target=thread)\n",
    "obj.start()"
   ]
  },
  {
   "cell_type": "code",
   "execution_count": null,
   "id": "4b531d3d-463f-4a93-8b73-77711b8e235a",
   "metadata": {},
   "outputs": [],
   "source": [
    "t1 t2 ...tn\n",
    "\n",
    "[]\n",
    "\n",
    "c=1\n",
    "[t1]\n",
    "c--\n",
    "c=0  [t1]\n",
    "[]\n",
    "c++\n",
    "c=1 []\n",
    "\n",
    "c=(0,1)\n",
    "\n",
    "lockobject -> lock a thread--> cs-> release a thread\n",
    "              lock a thread--> cs --> release a thread\n",
    "...\n",
    "\n",
    "Lock_obj= threading.lock()\n",
    "\n",
    "Lock_obj.acquire()   --> Lock\n",
    "Lock_obj.release()  ---> unlock"
   ]
  },
  {
   "cell_type": "code",
   "execution_count": null,
   "id": "2681e768-cdbb-4e5f-b6b1-3af1b02b48cf",
   "metadata": {},
   "outputs": [],
   "source": [
    "import threading\n",
    "\n",
    "def f1():\n",
    "    basic operation\n",
    "def f2():\n",
    "    basic operation\n",
    "def f3():\n",
    "    lock.acquire()\n",
    "    basic operation\n",
    "    lock.release()\n",
    "\n",
    "threading.Thread(<target=<>)"
   ]
  },
  {
   "cell_type": "code",
   "execution_count": null,
   "id": "57ebb33c-2ddf-4f01-b639-42002c651d84",
   "metadata": {},
   "outputs": [],
   "source": [
    "module asyncio\n",
    "\n",
    "async def f1():\n",
    "    await"
   ]
  },
  {
   "cell_type": "code",
   "execution_count": null,
   "id": "dd748aa5-3d28-487d-a64f-2bd34f35b6f5",
   "metadata": {},
   "outputs": [],
   "source": []
  },
  {
   "cell_type": "code",
   "execution_count": null,
   "id": "b1715eb1-5bbf-4c34-9751-edd0d35a55e4",
   "metadata": {},
   "outputs": [],
   "source": []
  },
  {
   "cell_type": "code",
   "execution_count": null,
   "id": "9a003c94-d36a-4108-a8b2-f27c7e883b63",
   "metadata": {},
   "outputs": [],
   "source": []
  },
  {
   "cell_type": "code",
   "execution_count": null,
   "id": "b7a9d3fd-fd4d-4540-ab7d-4d0eb065e9d9",
   "metadata": {},
   "outputs": [],
   "source": []
  },
  {
   "cell_type": "code",
   "execution_count": null,
   "id": "05ef6719-b481-4940-86d9-ee14eda62bc4",
   "metadata": {},
   "outputs": [],
   "source": []
  },
  {
   "cell_type": "code",
   "execution_count": 141,
   "id": "02c3564d-9e0c-4456-9a2b-65c828a5c78c",
   "metadata": {},
   "outputs": [
    {
     "name": "stdout",
     "output_type": "stream",
     "text": [
      "b\n"
     ]
    }
   ],
   "source": []
  },
  {
   "cell_type": "code",
   "execution_count": null,
   "id": "5ec96190-b4f3-4086-9b34-d1d8ba9d0c24",
   "metadata": {},
   "outputs": [],
   "source": []
  },
  {
   "cell_type": "code",
   "execution_count": null,
   "id": "c3fca8bd-4aa7-4178-916f-35133871a74f",
   "metadata": {},
   "outputs": [],
   "source": []
  },
  {
   "cell_type": "code",
   "execution_count": null,
   "id": "46538cdd-6b34-4638-a3f1-53ec9221cddc",
   "metadata": {},
   "outputs": [],
   "source": []
  },
  {
   "cell_type": "code",
   "execution_count": null,
   "id": "7ecb5ca1-36df-485f-972b-6e2b67518eaa",
   "metadata": {},
   "outputs": [],
   "source": []
  }
 ],
 "metadata": {
  "kernelspec": {
   "display_name": "Python 3 (ipykernel)",
   "language": "python",
   "name": "python3"
  },
  "language_info": {
   "codemirror_mode": {
    "name": "ipython",
    "version": 3
   },
   "file_extension": ".py",
   "mimetype": "text/x-python",
   "name": "python",
   "nbconvert_exporter": "python",
   "pygments_lexer": "ipython3",
   "version": "3.12.3"
  }
 },
 "nbformat": 4,
 "nbformat_minor": 5
}
