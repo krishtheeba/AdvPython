{
 "cells": [
  {
   "cell_type": "code",
   "execution_count": null,
   "id": "0d8ff0ce-cb52-4906-bb57-3f656a7738b3",
   "metadata": {},
   "outputs": [],
   "source": [
    "Regx\n",
    "====\n",
    "import re\n",
    "---------\n",
    "--> search\n",
    "--> substitute\n",
    "---> findall\n"
   ]
  },
  {
   "cell_type": "code",
   "execution_count": 1,
   "id": "aed28f85-da16-486e-8091-b6068a6fb7ad",
   "metadata": {},
   "outputs": [
    {
     "name": "stdout",
     "output_type": "stream",
     "text": [
      "101,ram,sales,pune,1000\n",
      "104,paul,sales,bglore,3200\n",
      "423,zio,sales,pune,3420\n",
      "949,karthik,sales,bglore,3100\n"
     ]
    }
   ],
   "source": [
    "for i in open(\"C:\\\\Users\\\\Theeba\\\\emp.csv\"):\n",
    "    if \"sales\" in i:\n",
    "        print(i.strip())"
   ]
  },
  {
   "cell_type": "code",
   "execution_count": 5,
   "id": "ec12192b-4b5a-4aab-9bf1-6e1f37bdf3a7",
   "metadata": {},
   "outputs": [],
   "source": [
    "import re\n",
    "for i in open(\"C:\\\\Users\\\\Theeba\\\\emp.csv\"):\n",
    "    if re.search(\"^sales\",i):                # re.search(pattern, input)\n",
    "        print(i.strip())\n",
    "\n",
    "# lines that starts with sales.."
   ]
  },
  {
   "cell_type": "code",
   "execution_count": 7,
   "id": "cd7b383b-7f02-4baa-9b9b-32bd79ad8da3",
   "metadata": {},
   "outputs": [
    {
     "name": "stdout",
     "output_type": "stream",
     "text": [
      "101,ram,sales,pune,1000\n",
      "104,paul,sales,bglore,3200\n",
      "423,zio,sales,pune,3420\n",
      "949,karthik,sales,bglore,3100\n"
     ]
    }
   ],
   "source": [
    "import re\n",
    "for i in open(\"C:\\\\Users\\\\Theeba\\\\emp.csv\"):\n",
    "    if re.search(\"sales\",i):                # re.search(pattern, input)\n",
    "        print(i.strip())"
   ]
  },
  {
   "cell_type": "code",
   "execution_count": null,
   "id": "c63c9148-1edf-4dc9-9ce9-cbb382d525c5",
   "metadata": {},
   "outputs": [],
   "source": [
    "re.search(pattern,input)---> <ack> /None\n",
    "|\n",
    "re.findall(\"pattern\",input) ---> [result_output] / None"
   ]
  },
  {
   "cell_type": "code",
   "execution_count": 9,
   "id": "28c3f883-8594-49fb-bce6-b3ad6f6bcb75",
   "metadata": {},
   "outputs": [
    {
     "name": "stdout",
     "output_type": "stream",
     "text": [
      "101,ram,sales,pune,1000\n",
      "104,paul,sales,bglore,3200\n",
      "423,zio,sales,pune,3420\n",
      "949,karthik,sales,bglore,3100\n"
     ]
    }
   ],
   "source": [
    "import re\n",
    "for i in open(\"C:\\\\Users\\\\Theeba\\\\emp.csv\"):\n",
    "    if re.findall(\"sales\",i, re.I):                # re.search(pattern, input)\n",
    "        print(i.strip())"
   ]
  },
  {
   "cell_type": "code",
   "execution_count": null,
   "id": "c11b75b3-97f5-4a8a-a51d-ed729775e03e",
   "metadata": {},
   "outputs": [],
   "source": [
    "re.search()--> filter"
   ]
  },
  {
   "cell_type": "code",
   "execution_count": 29,
   "id": "44397663-8658-4dbd-ac71-a0880abd062b",
   "metadata": {},
   "outputs": [
    {
     "data": {
      "text/plain": [
       "'101,Harish,Sales,Pune,1000'"
      ]
     },
     "execution_count": 29,
     "metadata": {},
     "output_type": "execute_result"
    }
   ],
   "source": [
    "#re.sub(\"oldpattern\",\"newpattern\",input,count,re.I)  -> string\n",
    "s=\"101,Harish,Sales,Pune,1000\"\n",
    "re.sub(\"sales\",\"HR\",s)"
   ]
  },
  {
   "cell_type": "code",
   "execution_count": 19,
   "id": "c85a30d0-63ce-48b6-924e-f58043f2c61c",
   "metadata": {},
   "outputs": [
    {
     "data": {
      "text/plain": [
       "'101,Harish,HR,Pune,1000'"
      ]
     },
     "execution_count": 19,
     "metadata": {},
     "output_type": "execute_result"
    }
   ],
   "source": [
    "s=\"101,Harish,sales,Pune,1000\"\n",
    "re.sub('sales','HR',s,re.I)"
   ]
  },
  {
   "cell_type": "code",
   "execution_count": 21,
   "id": "d6bc324f-014d-453f-92ea-2b8d5e80dbfd",
   "metadata": {},
   "outputs": [
    {
     "data": {
      "text/plain": [
       "'root:x:ksh:/bin/ksh:bash:shell=bash'"
      ]
     },
     "execution_count": 21,
     "metadata": {},
     "output_type": "execute_result"
    }
   ],
   "source": [
    "s=\"root:x:bash:/bin/bash:bash:shell=bash\"\n",
    "re.sub(\"bash\",\"ksh\",s,2)"
   ]
  },
  {
   "cell_type": "code",
   "execution_count": 25,
   "id": "f80fb195-ea1b-422c-bad9-8e3341b000e1",
   "metadata": {},
   "outputs": [
    {
     "data": {
      "text/plain": [
       "'101,Harish,,Pune,1000'"
      ]
     },
     "execution_count": 25,
     "metadata": {},
     "output_type": "execute_result"
    }
   ],
   "source": [
    "s=\"101,Harish,sales,Pune,1000\"\n",
    "re.sub(\"sales\",\"\",s)  # delete"
   ]
  },
  {
   "cell_type": "code",
   "execution_count": 27,
   "id": "672c7ba4-3c05-442e-b057-a68229f55d65",
   "metadata": {},
   "outputs": [
    {
     "data": {
      "text/plain": [
       "'101,Harish,Pune,1000'"
      ]
     },
     "execution_count": 27,
     "metadata": {},
     "output_type": "execute_result"
    }
   ],
   "source": [
    "s=\"101,Harish,sales,Pune,1000\"\n",
    "re.sub(\"sales.\",\"\",s)"
   ]
  },
  {
   "cell_type": "code",
   "execution_count": null,
   "id": "2727409a-73bf-4124-b267-3d01a4d3a9ce",
   "metadata": {},
   "outputs": [],
   "source": [
    "TAsk\n",
    "====\n",
    "1. replace sales with Hr in emp.csv\n",
    "2. create a new file with updatde data\n",
    "\n",
    "TAsk\n",
    "====\n",
    "1. read the list of files under D:\\\\\n",
    "2. search all .txt file \n",
    "3. replace .txt with .html \n",
    "4. display \n",
    "\n",
    "Task\n",
    "====\n",
    "1. get list of all services\n",
    "2. filter the Running service\n",
    "3. display\n",
    "\n",
    "Task\n",
    "====\n",
    "1. get list of all services\n",
    "2. filter the Running Network service\n",
    "3. display\n",
    "\n",
    "Task\n",
    "====\n",
    "Given size=['150GB', '100GB', '500KB', '240GB']\n",
    "Calculate sum of size"
   ]
  },
  {
   "cell_type": "code",
   "execution_count": 37,
   "id": "38fbf3b7-262e-40e4-820d-b433fece3b48",
   "metadata": {},
   "outputs": [
    {
     "name": "stdout",
     "output_type": "stream",
     "text": [
      "101,ram,HR,pune,1000\n",
      "102,leo,prod,bglore,2000\n",
      "103,anu,HR,hyd,3000\n",
      "104,paul,HR,bglore,3200\n",
      "423,zio,HR,pune,3420\n",
      "142,anu,prod,chennai,4300\n",
      "949,karthik,HR,bglore,3100\n",
      "848,tom,hr,chennai,3940\n",
      "931,vijay,prod,chennai,3411\n"
     ]
    }
   ],
   "source": [
    "for var in open(\"C:\\\\Users\\\\Theeba\\\\emp.csv\"):\n",
    "    var=re.sub(\"sales\",\"HR\",var)\n",
    "    print(var.strip())"
   ]
  },
  {
   "cell_type": "code",
   "execution_count": 58,
   "id": "11a8f633-6f47-4f34-a9dd-79736aca1e84",
   "metadata": {},
   "outputs": [],
   "source": [
    "WH=open(\"C:\\\\Users\\\\Theeba\\\\updated_emp.csv\",'w')\n",
    "for var in open(\"C:\\\\Users\\\\Theeba\\\\emp.csv\"):\n",
    "    var=re.sub(\"sales\",\"HR\",var)\n",
    "    #print(var.strip())\n",
    "    WH.write(var)\n",
    "WH.close()\n",
    "    "
   ]
  },
  {
   "cell_type": "code",
   "execution_count": 60,
   "id": "3217b9b4-1be6-4d94-a622-996ff72e41d5",
   "metadata": {},
   "outputs": [
    {
     "name": "stdout",
     "output_type": "stream",
     "text": [
      "101,ram,HR,pune,1000\n",
      "\n",
      "102,leo,prod,bglore,2000\n",
      "\n",
      "103,anu,HR,hyd,3000\n",
      "\n",
      "104,paul,HR,bglore,3200\n",
      "\n",
      "423,zio,HR,pune,3420\n",
      "\n",
      "142,anu,prod,chennai,4300\n",
      "\n",
      "949,karthik,HR,bglore,3100\n",
      "\n",
      "848,tom,hr,chennai,3940\n",
      "\n",
      "931,vijay,prod,chennai,3411\n"
     ]
    }
   ],
   "source": [
    "FH=open(\"C:\\\\Users\\\\Theeba\\\\updated_emp.csv\",'r')\n",
    "for i in FH:\n",
    "    print(i)\n",
    "FH.close()"
   ]
  },
  {
   "cell_type": "code",
   "execution_count": 62,
   "id": "2429d756-e0cd-4e90-9fc8-51996144a484",
   "metadata": {},
   "outputs": [
    {
     "name": "stdout",
     "output_type": "stream",
     "text": [
      "Advanc_Python_email_id.txt\n",
      "package_concept.txt\n"
     ]
    }
   ],
   "source": [
    "import os\n",
    "for v in os.listdir(\"C:\\\\Users\\\\Theeba\\\\Desktop\"):\n",
    "    if re.search(\"txt$\",v):\n",
    "        print(v)"
   ]
  },
  {
   "cell_type": "code",
   "execution_count": 64,
   "id": "6886b742-6af9-4194-9412-25b8e3b176b3",
   "metadata": {},
   "outputs": [
    {
     "name": "stdout",
     "output_type": "stream",
     "text": [
      "Advanc_Python_email_id.html\n",
      "package_concept.html\n"
     ]
    }
   ],
   "source": [
    "import os\n",
    "for v in os.listdir(\"C:\\\\Users\\\\Theeba\\\\Desktop\"):\n",
    "    if re.search(\"txt$\",v):\n",
    "        print(re.sub(\".txt$\",\".html\",v))\n",
    "        "
   ]
  },
  {
   "cell_type": "code",
   "execution_count": 72,
   "id": "3a175538-7c6a-4da9-b4df-d79d6557234c",
   "metadata": {},
   "outputs": [
    {
     "name": "stdout",
     "output_type": "stream",
     "text": [
      "Running  Appinfo            Application Information\n",
      "Running  AppXSvc            AppX Deployment Service (AppXSVC)\n",
      "Running  AudioEndpointBu... Windows Audio Endpoint Builder\n",
      "Running  Audiosrv           Windows Audio\n",
      "Running  BDESVC             BitLocker Drive Encryption Service\n",
      "Running  BFE                Base Filtering Engine\n",
      "Running  BITS               Background Intelligent Transfer Ser...\n",
      "Running  BrokerInfrastru... Background Tasks Infrastructure Ser...\n",
      "Running  camsvc             Capability Access Manager Service\n",
      "Running  cbdhsvc_16c2f534   Clipboard User Service_16c2f534\n",
      "Running  CDPSvc             Connected Devices Platform Service\n",
      "Running  CDPUserSvc_16c2... Connected Devices Platform User Ser...\n",
      "Running  ClickToRunSvc      Microsoft Office Click-to-Run Service\n",
      "Running  CoreMessagingRe... CoreMessaging\n",
      "Running  cplspcon           Intel(R) Content Protection HDCP Se...\n",
      "Running  CryptSvc           Cryptographic Services\n",
      "Running  DcomLaunch         DCOM Server Process Launcher\n",
      "Running  DDVCollectorSvcApi Dell Data Vault Service API\n",
      "Running  DDVDataCollector   Dell Data Vault Collector\n",
      "Running  DDVRulesProcessor  Dell Data Vault Processor\n",
      "Running  Dell Digital De... Dell Digital Delivery Services\n",
      "Running  Dell SupportAss... Dell SupportAssist Remediation\n",
      "Running  DellClientManag... Dell Client Management Service\n",
      "Running  DellPairService    Dell Pair Service\n",
      "Running  DellTechHub        Dell TechHub\n",
      "Running  DeviceAssociati... Device Association Service\n",
      "Running  DevicesFlowUser... DevicesFlow_16c2f534\n",
      "Running  DevQueryBroker     DevQuery Background Discovery Broker\n",
      "Running  Dhcp               DHCP Client\n",
      "Running  DiagTrack          Connected User Experiences and Tele...\n",
      "Running  DispBrokerDeskt... Display Policy Service\n",
      "Running  DisplayEnhancem... Display Enhancement Service\n",
      "Running  Dnscache           DNS Client\n",
      "Running  DoSvc              Delivery Optimization\n",
      "Running  DPS                Diagnostic Policy Service\n",
      "Running  dptftcs            Intel(R) Dynamic Tuning Technology ...\n",
      "Running  DsSvc              Data Sharing Service\n",
      "Running  DusmSvc            Data Usage\n",
      "Running  EFS                Encrypting File System (EFS)\n",
      "Running  EventLog           Windows Event Log\n",
      "Running  EventSystem        COM+ Event System\n",
      "Running  FileSyncHelper     FileSyncHelper\n",
      "Running  FontCache          Windows Font Cache Service\n",
      "Running  Grafana            Grafana\n",
      "Running  hidserv            Human Interface Device Service\n",
      "Running  hns                Host Network Service\n",
      "Running  HvHost             HV Host Service\n",
      "Running  icssvc             Windows Mobile Hotspot Service\n",
      "Running  IDBWM              Intel Dynamic Bandwidth Management\n",
      "Running  igccservice        Intel(R) Graphics Command Center Se...\n",
      "Running  InstallService     Microsoft Store Install Service\n",
      "Running  Intel Connectiv... Intel Connectivity Network Service\n",
      "Running  IntelAudioService  Intel(R) Audio Service\n",
      "Running  IntelConnectSer... IntelConnect Service\n",
      "Running  ipfsvc             Intel(R) Innovation Platform Framew...\n",
      "Running  iphlpsvc           IP Helper\n",
      "Running  jhi_service        Intel(R) Dynamic Application Loader...\n",
      "Running  KeyIso             CNG Key Isolation\n",
      "Running  LanmanServer       Server\n",
      "Running  LanmanWorkstation  Workstation\n",
      "Running  lfsvc              Geolocation Service\n",
      "Running  LicenseManager     Windows License Manager Service\n",
      "Running  lmhosts            TCP/IP NetBIOS Helper\n",
      "Running  LSM                Local Session Manager\n",
      "Running  McAfee WebAdvisor  McAfee WebAdvisor\n",
      "Running  mc-fw-host         McAfee Framework Host\n",
      "Running  mpssvc             Windows Defender Firewall\n",
      "Running  MSDTC              Distributed Transaction Coordinator\n",
      "Running  NcbService         Network Connection Broker\n",
      "Running  Netman             Network Connections\n",
      "Running  netprofm           Network List Service\n",
      "Running  NetSetupSvc        Network Setup Service\n",
      "Running  NPSMSvc_16c2f534   NPSMSvc_16c2f534\n",
      "Running  nsi                Network Store Interface Service\n",
      "Running  nvagent            Network Virtualization Service\n",
      "Running  OneSyncSvc_16c2... Sync Host_16c2f534\n",
      "Running  PcaSvc             Program Compatibility Assistant Ser...\n",
      "Running  PimIndexMainten... Contact Data_16c2f534\n",
      "Running  PlugPlay           Plug and Play\n",
      "Running  Power              Power\n",
      "Running  PrintWorkflowUs... PrintWorkflow_16c2f534\n",
      "Running  ProfSvc            User Profile Service\n",
      "Running  QWAVE              Quality Windows Audio Video Experience\n",
      "Running  RasMan             Remote Access Connection Manager\n",
      "Running  RmSvc              Radio Management Service\n",
      "Running  RpcEptMapper       RPC Endpoint Mapper\n",
      "Running  RpcSs              Remote Procedure Call (RPC)\n",
      "Running  RstMwService       Intel(R) Storage Middleware Service\n",
      "Running  RtkAudioUnivers... Realtek Audio Universal Service\n",
      "Running  SamSs              Security Accounts Manager\n",
      "Running  Schedule           Task Scheduler\n",
      "Running  SecurityHealthS... Windows Security Service\n",
      "Running  SENS               System Event Notification Service\n",
      "Running  SharedAccess       Internet Connection Sharing (ICS)\n",
      "Running  ShellHWDetection   Shell Hardware Detection\n",
      "Running  smphost            Microsoft Storage Spaces SMP\n",
      "Running  Spooler            Print Spooler\n",
      "Running  SSDPSRV            SSDP Discovery\n",
      "Running  SstpSvc            Secure Socket Tunneling Protocol Se...\n",
      "Running  StateRepository    State Repository Service\n",
      "Running  StiSvc             Windows Image Acquisition (WIA)\n",
      "Running  StorSvc            Storage Service\n",
      "Running  SupportAssistAgent Dell SupportAssist\n",
      "Running  SysMain            SysMain\n",
      "Running  SystemEventsBroker System Events Broker\n",
      "Running  TextInputManage... Text Input Management Service\n",
      "Running  Themes             Themes\n",
      "Running  TimeBrokerSvc      Time Broker\n",
      "Running  TokenBroker        Web Account Manager\n",
      "Running  TrkWks             Distributed Link Tracking Client\n",
      "Running  UdkUserSvc_16c2... Udk User Service_16c2f534\n",
      "Running  UnistoreSvc_16c... User Data Storage_16c2f534\n",
      "Running  UserDataSvc_16c... User Data Access_16c2f534\n",
      "Running  UserManager        User Manager\n",
      "Running  UsoSvc             Update Orchestrator Service\n",
      "Running  VaultSvc           Credential Manager\n",
      "Running  VBoxSDS            VirtualBox system service\n",
      "Running  W32Time            Windows Time\n",
      "Running  WavesAudioService  Waves Audio Universal Services\n",
      "Running  WavesSysSvc        Waves Audio Services\n",
      "Running  Wcmsvc             Windows Connection Manager\n",
      "Running  WebClient          WebClient\n",
      "Running  webthreatdefuse... Web Threat Defense User Service_16c...\n",
      "Running  WinHttpAutoProx... WinHTTP Web Proxy Auto-Discovery Se...\n",
      "Running  Winmgmt            Windows Management Instrumentation\n",
      "Running  WlanSvc            WLAN AutoConfig\n",
      "Running  WMIRegistration... Intel(R) Management Engine WMI Prov...\n",
      "Running  WpnService         Windows Push Notifications System S...\n",
      "Running  WpnUserService_... Windows Push Notifications User Ser...\n",
      "Running  wscsvc             Security Center\n",
      "Running  WSearch            Windows Search\n"
     ]
    }
   ],
   "source": [
    "for v in os.popen(\"powershell get-service\"):\n",
    "    if re.search(\"^Running\",v):\n",
    "        print(v.strip())"
   ]
  },
  {
   "cell_type": "code",
   "execution_count": 76,
   "id": "a4aabece-e1c1-47aa-96a6-1c4fdc23031f",
   "metadata": {},
   "outputs": [
    {
     "name": "stdout",
     "output_type": "stream",
     "text": [
      "Running  hns                Host Network Service\n",
      "Running  Intel Connectiv... Intel Connectivity Network Service\n",
      "Running  lmhosts            TCP/IP NetBIOS Helper\n",
      "Running  NcbService         Network Connection Broker\n",
      "Running  Netman             Network Connections\n",
      "Running  netprofm           Network List Service\n",
      "Running  NetSetupSvc        Network Setup Service\n",
      "Running  nsi                Network Store Interface Service\n",
      "Running  nvagent            Network Virtualization Service\n",
      "Running  SharedAccess       Internet Connection Sharing (ICS)\n"
     ]
    }
   ],
   "source": [
    "for v in os.popen(\"powershell get-service\"):  \n",
    "    if re.search(\"^Running.*net\",v,re.I):\n",
    "        print(v.strip())"
   ]
  },
  {
   "cell_type": "code",
   "execution_count": 78,
   "id": "31bc7da6-bbc1-4abf-8836-b36f5f7345f4",
   "metadata": {},
   "outputs": [
    {
     "name": "stdout",
     "output_type": "stream",
     "text": [
      "Running  <SERVICE>                Host Network Service\n",
      "Running  Intel Connectiv... Intel Connectivity Network Service\n",
      "Running  <SERVICE>            TCP/IP NetBIOS Helper\n",
      "Running  NcbService         Network Connection Broker\n",
      "Running  Netman             Network Connections\n",
      "Running  netprofm           Network List Service\n",
      "Running  NetSetupSvc        Network Setup Service\n",
      "Running  <SERVICE>                Network Store Interface Service\n",
      "Running  nvagent            Network Virtualization Service\n",
      "Running  SharedAccess       Internet Connection Sharing (ICS)\n"
     ]
    }
   ],
   "source": [
    "for v in os.popen(\"powershell get-service\"):  \n",
    "    if re.search(\"^Running.*net\",v,re.I):\n",
    "        print(re.sub(\"nsi|lmhosts|hns\", \"<SERVICE>\", v.strip()))"
   ]
  },
  {
   "cell_type": "code",
   "execution_count": 80,
   "id": "062dc6fa-18a1-4af5-b6cc-fdf8fb922d47",
   "metadata": {},
   "outputs": [
    {
     "name": "stdout",
     "output_type": "stream",
     "text": [
      "Total Size :990\n"
     ]
    }
   ],
   "source": [
    "size=['150GB', '100GB', '500kb', '240GB']\n",
    "#calculate size\n",
    "\n",
    "t=0\n",
    "for v in size:\n",
    "    v=re.sub(\"[A-Za-z]\", \"\", v)\n",
    "    t=int(v)+t\n",
    "else:\n",
    "    print(\"Total Size :{}\".format(t))"
   ]
  },
  {
   "cell_type": "code",
   "execution_count": 84,
   "id": "553951cc-29bb-402a-9a9e-ea0b35cbb185",
   "metadata": {},
   "outputs": [
    {
     "data": {
      "text/plain": [
       "['root', 'x', 'bin', 'bash']"
      ]
     },
     "execution_count": 84,
     "metadata": {},
     "output_type": "execute_result"
    }
   ],
   "source": [
    "s=\"root:x:bin:bash\"\n",
    "s.split(\":\")  # single str--> [list of str]"
   ]
  },
  {
   "cell_type": "code",
   "execution_count": 86,
   "id": "92435a5e-2140-4adc-a206-12f53e62b171",
   "metadata": {},
   "outputs": [
    {
     "data": {
      "text/plain": [
       "['root', 'x', 'bin', 'bash']"
      ]
     },
     "execution_count": 86,
     "metadata": {},
     "output_type": "execute_result"
    }
   ],
   "source": [
    "re.split(\":\",s)"
   ]
  },
  {
   "cell_type": "code",
   "execution_count": 96,
   "id": "cc356e57-6931-4383-8f6a-47673bc4b0fc",
   "metadata": {},
   "outputs": [
    {
     "data": {
      "text/plain": [
       "['root', 'x', 'bin', 'bash']"
      ]
     },
     "execution_count": 96,
     "metadata": {},
     "output_type": "execute_result"
    }
   ],
   "source": [
    "re.split(\"[^\\\\w\\\\s]\",s)"
   ]
  },
  {
   "cell_type": "code",
   "execution_count": 102,
   "id": "f23d602b-c244-4b3f-8cfd-0f3b937e8ee7",
   "metadata": {},
   "outputs": [],
   "source": [
    "#paramiko \n",
    "#import paramiko \n",
    "from paramiko import SSHClient\n",
    "\n",
    "obj=SSHClient()\n",
    "obj.load_system_host_keys()\n",
    "obj.load_host_keys(\"/home/userA/.ssh/known_hosts\")\n",
    "obj.set_missing_host_key_policy_key_policy(AutoAddPolicy())\n",
    "obj.connect(hostname=<>,username=<>, password=<>) \n",
    "#(or) obj.connect(hostname=<>,username=<>,password=<>,key_filename='sshkey.pem',..)\n",
    "tuple_result = obj.exec_command('os-command')\n"
   ]
  },
  {
   "cell_type": "code",
   "execution_count": null,
   "id": "0eb463d2-c976-4256-8148-869fbff42b2a",
   "metadata": {},
   "outputs": [],
   "source": [
    "Python DB connection\n",
    "===================\n",
    "\n",
    "    Python ---------------------------DBI---------------------------DB (SQl)\n",
    "    (DS + function)                                             select * from table\n",
    "\n",
    "    \"select * from table\"                                         |\n",
    "    --------------------\n",
    "    str - value\n",
    "    ---------------------------------------------------------------|\n",
    "\n",
    "\n",
    "    python --------------> cursor.execute(\"..\")------DB\n",
    "       \"select * from table\"                                             | iterator\n",
    "                                                  .............\n",
    "                                fetchone()   fetchall()      fetchmany(rows=2)\n",
    "                                   ()       [(),()...()]          [(), ()]"
   ]
  },
  {
   "cell_type": "code",
   "execution_count": null,
   "id": "516f376d-cf18-4acb-8f71-1a66ef270250",
   "metadata": {},
   "outputs": [],
   "source": [
    ">>>\n",
    ">>> import sqlite3\n",
    ">>>\n",
    ">>> sqlite3.connect\n",
    "<built-in function connect>\n",
    ">>> sqlite3.connect()\n",
    "Traceback (most recent call last):\n",
    "  File \"<python-input-4>\", line 1, in <module>\n",
    "    sqlite3.connect()\n",
    "    ~~~~~~~~~~~~~~~^^\n",
    "TypeError: Connection() missing required argument 'database' (pos 1)\n",
    ">>> sqlite3.connect(\"test1.db\")\n",
    "<sqlite3.Connection object at 0x0000022E39493100>\n",
    ">>> db=sqlite3.connect(\"test1.db\")\n",
    ">>> db.cursor()\n",
    "<sqlite3.Cursor object at 0x0000022E3954B1C0>\n",
    ">>> cursor=db.cursor()\n",
    ">>> sc=db.cursor()\n",
    ">>>\n",
    ">>> sc.execute(\"create table emp(eid INT, name TEXT, dept TEXT, cost INT)\")\n",
    "<sqlite3.Cursor object at 0x0000022E3954AE40>\n",
    ">>>\n",
    ">>> sc.execute(\"insert into emp values(101,\"Harish\", \"Sales\", 1000)\")\n",
    "  File \"<python-input-13>\", line 1\n",
    "    sc.execute(\"insert into emp values(101,\"Harish\", \"Sales\", 1000)\")\n",
    "               ^^^^^^^^^^^^^^^^^^^^^^^^^^^^^^^^^^^\n",
    "SyntaxError: invalid syntax. Perhaps you forgot a comma?\n",
    ">>> sc.execute(\"insert into emp values(101,\"Harish\",\"Sales\",1000)\")\n",
    "  File \"<python-input-14>\", line 1\n",
    "    sc.execute(\"insert into emp values(101,\"Harish\",\"Sales\",1000)\")\n",
    "               ^^^^^^^^^^^^^^^^^^^^^^^^^^^^^^^^^^^\n",
    "SyntaxError: invalid syntax. Perhaps you forgot a comma?\n",
    ">>> sc.execute(\"insert into emp values(101,'Harish','Sales',1000)\")\n",
    "<sqlite3.Cursor object at 0x0000022E3954AE40>\n",
    ">>> sc.execute(\"insert into emp values(102,'Suresh','HR',2000)\")\n",
    "<sqlite3.Cursor object at 0x0000022E3954AE40>\n",
    ">>> sc.execute(\"insert into emp values(102,'Hema','Prod',3000)\")\n",
    "<sqlite3.Cursor object at 0x0000022E3954AE40>\n",
    ">>>\n",
    ">>> sc.execute(\"select *from emp\")\n",
    "<sqlite3.Cursor object at 0x0000022E3954AE40>\n",
    ">>> sc.fetchone()\n",
    "(101, 'Harish', 'Sales', 1000)\n",
    ">>> sc.fetchall()\n",
    "[(102, 'Suresh', 'HR', 2000), (102, 'Hema', 'Prod', 3000)]\n",
    ">>> sc.execute(\"select *from emp\")\n",
    "<sqlite3.Cursor object at 0x0000022E3954AE40>\n",
    ">>> sc.fetchall()\n",
    "[(101, 'Harish', 'Sales', 1000), (102, 'Suresh', 'HR', 2000), (102, 'Hema', 'Prod', 3000)]\n",
    ">>> sc.execute(\"select *from emp\")\n",
    "<sqlite3.Cursor object at 0x0000022E3954AE40>\n",
    ">>>\n",
    ">>> for i in sc:\n",
    "...     print(i)\n",
    "...\n",
    "(101, 'Harish', 'Sales', 1000)\n",
    "(102, 'Suresh', 'HR', 2000)\n",
    "(102, 'Hema', 'Prod', 3000)\n",
    ">>> sc.execute(\"select *from emp\")\n",
    "<sqlite3.Cursor object at 0x0000022E3954AE40>\n",
    ">>> next(sc)\n",
    "(101, 'Harish', 'Sales', 1000)\n",
    ">>> next(sc)\n",
    "(102, 'Suresh', 'HR', 2000)\n",
    ">>> next(sc)\n",
    "(102, 'Hema', 'Prod', 3000)\n",
    ">>> next(sc)\n",
    "Traceback (most recent call last):\n",
    "  File \"<python-input-31>\", line 1, in <module>\n",
    "    next(sc)\n",
    "    ~~~~^^^^\n",
    "StopIteration\n",
    ">>> sc.execute(\"select *from emp\")\n",
    "<sqlite3.Cursor object at 0x0000022E3954AE40>\n",
    ">>> L=sc.fetchall()\n",
    ">>> L\n",
    "[(101, 'Harish', 'Sales', 1000), (102, 'Suresh', 'HR', 2000), (102, 'Hema', 'Prod', 3000)]"
   ]
  },
  {
   "cell_type": "code",
   "execution_count": 118,
   "id": "6bfe257a-a569-4c03-8e67-d6e3be829c23",
   "metadata": {},
   "outputs": [
    {
     "data": {
      "text/plain": [
       "<sqlite3.Cursor at 0x119499649c0>"
      ]
     },
     "execution_count": 118,
     "metadata": {},
     "output_type": "execute_result"
    }
   ],
   "source": [
    "import sqlite3\n",
    "con=sqlite3.connect(\"employee.db\")\n",
    "sc=con.cursor()\n",
    "sc.execute(\"create table e1(eid INT,ename TEXT,edept TEXT,ecity TEXT,ecost INT)\")\n"
   ]
  },
  {
   "cell_type": "code",
   "execution_count": 126,
   "id": "8b329962-0c93-4121-a1f2-74c68c2893f1",
   "metadata": {},
   "outputs": [],
   "source": [
    "\n",
    "FH=open(\"C:\\\\Users\\\\Theeba\\\\emp.csv\")\n",
    "for i in FH.readlines():\n",
    "    eid,ename,edept,ecity,ecost=i.strip().split(\",\")\n",
    "   # print(eid,ename,edept,ecity,ecost)\n",
    "    sc.execute(\"insert into e1 (eid,ename,edept,ecity,ecost) values (:eid,:ename,:edept,:ecity,:ecost)\",{\"eid\":eid,\"ename\":ename,\"edept\":edept,\"ecity\":ecity,\"ecost\":ecost})  "
   ]
  },
  {
   "cell_type": "code",
   "execution_count": 130,
   "id": "af49993b-e0d1-48ec-bbdb-11a03a6a2560",
   "metadata": {},
   "outputs": [
    {
     "data": {
      "text/plain": [
       "<sqlite3.Cursor at 0x119499649c0>"
      ]
     },
     "execution_count": 130,
     "metadata": {},
     "output_type": "execute_result"
    }
   ],
   "source": [
    "sc.execute(\"select *from e1\")"
   ]
  },
  {
   "cell_type": "code",
   "execution_count": 132,
   "id": "7518673b-9bb8-478e-9276-ae05e83cbc2b",
   "metadata": {},
   "outputs": [
    {
     "name": "stdout",
     "output_type": "stream",
     "text": [
      "(101, 'ram', 'sales', 'pune', 1000)\n",
      "(102, 'leo', 'prod', 'bglore', 2000)\n",
      "(103, 'anu', 'HR', 'hyd', 3000)\n",
      "(104, 'paul', 'sales', 'bglore', 3200)\n",
      "(423, 'zio', 'sales', 'pune', 3420)\n",
      "(142, 'anu', 'prod', 'chennai', 4300)\n",
      "(949, 'karthik', 'sales', 'bglore', 3100)\n",
      "(848, 'tom', 'hr', 'chennai', 3940)\n",
      "(931, 'vijay', 'prod', 'chennai', 3411)\n"
     ]
    }
   ],
   "source": [
    "for i in sc:\n",
    "    print(i)"
   ]
  },
  {
   "cell_type": "code",
   "execution_count": null,
   "id": "ec0a89d9-7f05-4e95-a1bb-d550d6862733",
   "metadata": {},
   "outputs": [],
   "source": [
    "<html>..............\n",
    "eid,ename,edept\n",
    "</html>---------------//webpage (tag+ data)  webscrabing\n",
    "\n",
    "Api--------json data"
   ]
  },
  {
   "cell_type": "code",
   "execution_count": 134,
   "id": "47ad2b1f-1cf6-4395-b696-49be1a4f2b75",
   "metadata": {},
   "outputs": [
    {
     "name": "stdout",
     "output_type": "stream",
     "text": [
      "<class 'dict'>\n"
     ]
    }
   ],
   "source": [
    "import json\n",
    "\n",
    "d={\"csv\":\"test1.csv\", \"port\":1234, \"pfile\":\"filename\", \"interface\":\"eth0\"}\n",
    "\n",
    "print(type(d))"
   ]
  },
  {
   "cell_type": "code",
   "execution_count": 136,
   "id": "c806652f-b280-4ee6-8ab5-cd0ccfa93005",
   "metadata": {},
   "outputs": [
    {
     "data": {
      "text/plain": [
       "'{\"csv\": \"test1.csv\", \"port\": 1234, \"pfile\": \"filename\", \"interface\": \"eth0\"}'"
      ]
     },
     "execution_count": 136,
     "metadata": {},
     "output_type": "execute_result"
    }
   ],
   "source": [
    "json.dumps(d) # convert to json"
   ]
  },
  {
   "cell_type": "code",
   "execution_count": 138,
   "id": "a412ea30-4035-4407-a2c5-ac0d767f72d0",
   "metadata": {},
   "outputs": [
    {
     "data": {
      "text/plain": [
       "{'csv': 'test1.csv', 'port': 1234, 'pfile': 'filename', 'interface': 'eth0'}"
      ]
     },
     "execution_count": 138,
     "metadata": {},
     "output_type": "execute_result"
    }
   ],
   "source": [
    "jd= json.dumps(d)\n",
    "\n",
    "json.loads(jd)   # from json to python "
   ]
  },
  {
   "cell_type": "code",
   "execution_count": 170,
   "id": "d748f1bd-2287-4ba3-b333-354c67b2e2ad",
   "metadata": {},
   "outputs": [],
   "source": [
    "import os\n",
    "L=os.popen(\"powershell get-process zoom\").readlines()\n",
    "L=[L[-4],L[-3]]\n",
    "jArray=json.dumps(L)  # python List to json Array"
   ]
  },
  {
   "cell_type": "code",
   "execution_count": 176,
   "id": "dd921f68-7121-4243-97d5-3e5e6427742d",
   "metadata": {},
   "outputs": [
    {
     "name": "stdout",
     "output_type": "stream",
     "text": [
      "('[\"   2570     219   843380     431336   1,196.88  10252   3 '\n",
      " 'Zoom                                                         \\\\n\", \"    '\n",
      " '843     131  9811464    2808480     252.47  17132   3 '\n",
      " 'Zoom                                                         \\\\n\"]')\n"
     ]
    }
   ],
   "source": [
    "import pprint\n",
    "pprint.pprint(jArray)"
   ]
  },
  {
   "cell_type": "code",
   "execution_count": null,
   "id": "fc094257-3808-4745-a0a4-ba782ac40c4b",
   "metadata": {},
   "outputs": [],
   "source": [
    "2 responds\n",
    "|------------------tag + data   // webpage\n",
    "|----------------- data only   // json data  - import json - loads, load, dumps ,dump   "
   ]
  },
  {
   "cell_type": "code",
   "execution_count": 178,
   "id": "16c13479-139c-4333-9873-c2331a75b264",
   "metadata": {},
   "outputs": [
    {
     "data": {
      "text/plain": [
       "<Response [200]>"
      ]
     },
     "execution_count": 178,
     "metadata": {},
     "output_type": "execute_result"
    }
   ],
   "source": [
    "import requests  \n",
    "requests.get(\"http://www.python.org\")  # requests"
   ]
  },
  {
   "cell_type": "code",
   "execution_count": 180,
   "id": "6cc3bfe2-419a-443b-b55a-56375a8a565d",
   "metadata": {},
   "outputs": [
    {
     "data": {
      "text/plain": [
       "200"
      ]
     },
     "execution_count": 180,
     "metadata": {},
     "output_type": "execute_result"
    }
   ],
   "source": [
    "rcode=requests.get(\"http://www.python.org\")\n",
    "rcode.status_code"
   ]
  },
  {
   "cell_type": "code",
   "execution_count": 182,
   "id": "141bcb6f-ee59-43ac-8a91-60336e338b02",
   "metadata": {},
   "outputs": [
    {
     "data": {
      "text/plain": [
       "{'Connection': 'keep-alive', 'Content-Length': '11841', 'x-frame-options': 'SAMEORIGIN', 'via': '1.1 varnish, 1.1 varnish, 1.1 varnish', 'content-encoding': 'gzip', 'content-type': 'text/html; charset=utf-8', 'Accept-Ranges': 'bytes', 'Date': 'Thu, 30 Jan 2025 08:40:43 GMT', 'Age': '469', 'X-Served-By': 'cache-iad-kiad7000081-IAD, cache-iad-kiad7000081-IAD, cache-maa10228-MAA', 'X-Cache': 'MISS, HIT, HIT', 'X-Cache-Hits': '0, 35, 4', 'X-Timer': 'S1738226444.893163,VS0,VE0', 'Vary': 'Cookie', 'Strict-Transport-Security': 'max-age=63072000; includeSubDomains; preload'}"
      ]
     },
     "execution_count": 182,
     "metadata": {},
     "output_type": "execute_result"
    }
   ],
   "source": [
    "rcode.headers"
   ]
  },
  {
   "cell_type": "code",
   "execution_count": 188,
   "id": "545b1d13-c2e6-4512-926c-fc11ed25af03",
   "metadata": {},
   "outputs": [
    {
     "data": {
      "text/plain": [
       "'text/html; charset=utf-8'"
      ]
     },
     "execution_count": 188,
     "metadata": {},
     "output_type": "execute_result"
    }
   ],
   "source": [
    "rcode.headers['Content-Type']"
   ]
  },
  {
   "cell_type": "code",
   "execution_count": 190,
   "id": "3bc56a28-4ed9-4cd0-9b9f-7291bca3f2b7",
   "metadata": {},
   "outputs": [
    {
     "name": "stdout",
     "output_type": "stream",
     "text": [
      "<class 'str'> 50818\n"
     ]
    }
   ],
   "source": [
    "page=rcode.text\n",
    "print(type(page),len(page))"
   ]
  },
  {
   "cell_type": "code",
   "execution_count": 192,
   "id": "638b8f61-9ae1-44d7-bab4-6128e25644e4",
   "metadata": {},
   "outputs": [],
   "source": [
    "with open(\"C:\\\\Users\\\\Theeba\\\\mypythonportal.html\",\"w\") as WH:\n",
    "    WH.write(page+\"\\n\")"
   ]
  },
  {
   "cell_type": "code",
   "execution_count": 194,
   "id": "1e1262d8-bfcf-4469-8bff-952cab94c064",
   "metadata": {},
   "outputs": [
    {
     "data": {
      "text/plain": [
       "200"
      ]
     },
     "execution_count": 194,
     "metadata": {},
     "output_type": "execute_result"
    }
   ],
   "source": [
    "rc=requests.get('http://api.github.com/users/hadley/orgs')\n",
    "rc.status_code"
   ]
  },
  {
   "cell_type": "code",
   "execution_count": 198,
   "id": "b3d8fef8-6726-49dd-83fd-2a88545cc45c",
   "metadata": {},
   "outputs": [
    {
     "data": {
      "text/plain": [
       "'application/json; charset=utf-8'"
      ]
     },
     "execution_count": 198,
     "metadata": {},
     "output_type": "execute_result"
    }
   ],
   "source": [
    "rc.headers['Content-Type']"
   ]
  },
  {
   "cell_type": "code",
   "execution_count": null,
   "id": "c998d04b-8c53-4962-97f6-ab4312725331",
   "metadata": {},
   "outputs": [],
   "source": [
    "Task\n",
    "=====\n",
    "requests.get()\n",
    "|\n",
    "check status_code   ---not 200 ---- Webpage Download Failed\n",
    "    |\n",
    "    200\n",
    "    |\n",
    "    check headers['Content-Type'] -----> text/html -----> write the webpage content to file\n",
    "                      |\n",
    "                    json/application--- convert json to python --update---> convert to json data\n",
    "        "
   ]
  },
  {
   "cell_type": "code",
   "execution_count": 200,
   "id": "1e771d74-b463-4437-b3fa-0555a4dd226a",
   "metadata": {},
   "outputs": [
    {
     "data": {
      "text/plain": [
       "'[{\"login\":\"ggobi\",\"id\":423638,\"node_id\":\"MDEyOk9yZ2FuaXphdGlvbjQyMzYzOA==\",\"url\":\"https://api.github.com/orgs/ggobi\",\"repos_url\":\"https://api.github.com/orgs/ggobi/repos\",\"events_url\":\"https://api.github.com/orgs/ggobi/events\",\"hooks_url\":\"https://api.github.com/orgs/ggobi/hooks\",\"issues_url\":\"https://api.github.com/orgs/ggobi/issues\",\"members_url\":\"https://api.github.com/orgs/ggobi/members{/member}\",\"public_members_url\":\"https://api.github.com/orgs/ggobi/public_members{/member}\",\"avatar_url\":\"https://avatars.githubusercontent.com/u/423638?v=4\",\"description\":\"\"},{\"login\":\"rstudio\",\"id\":513560,\"node_id\":\"MDEyOk9yZ2FuaXphdGlvbjUxMzU2MA==\",\"url\":\"https://api.github.com/orgs/rstudio\",\"repos_url\":\"https://api.github.com/orgs/rstudio/repos\",\"events_url\":\"https://api.github.com/orgs/rstudio/events\",\"hooks_url\":\"https://api.github.com/orgs/rstudio/hooks\",\"issues_url\":\"https://api.github.com/orgs/rstudio/issues\",\"members_url\":\"https://api.github.com/orgs/rstudio/members{/member}\",\"public_members_url\":\"https://api.github.com/orgs/rstudio/public_members{/member}\",\"avatar_url\":\"https://avatars.githubusercontent.com/u/513560?v=4\",\"description\":\"\"},{\"login\":\"rstats\",\"id\":722735,\"node_id\":\"MDEyOk9yZ2FuaXphdGlvbjcyMjczNQ==\",\"url\":\"https://api.github.com/orgs/rstats\",\"repos_url\":\"https://api.github.com/orgs/rstats/repos\",\"events_url\":\"https://api.github.com/orgs/rstats/events\",\"hooks_url\":\"https://api.github.com/orgs/rstats/hooks\",\"issues_url\":\"https://api.github.com/orgs/rstats/issues\",\"members_url\":\"https://api.github.com/orgs/rstats/members{/member}\",\"public_members_url\":\"https://api.github.com/orgs/rstats/public_members{/member}\",\"avatar_url\":\"https://avatars.githubusercontent.com/u/722735?v=4\",\"description\":null},{\"login\":\"ropensci\",\"id\":1200269,\"node_id\":\"MDEyOk9yZ2FuaXphdGlvbjEyMDAyNjk=\",\"url\":\"https://api.github.com/orgs/ropensci\",\"repos_url\":\"https://api.github.com/orgs/ropensci/repos\",\"events_url\":\"https://api.github.com/orgs/ropensci/events\",\"hooks_url\":\"https://api.github.com/orgs/ropensci/hooks\",\"issues_url\":\"https://api.github.com/orgs/ropensci/issues\",\"members_url\":\"https://api.github.com/orgs/ropensci/members{/member}\",\"public_members_url\":\"https://api.github.com/orgs/ropensci/public_members{/member}\",\"avatar_url\":\"https://avatars.githubusercontent.com/u/1200269?v=4\",\"description\":\"Tools and R Packages for Open Science\"},{\"login\":\"rjournal\",\"id\":3330561,\"node_id\":\"MDEyOk9yZ2FuaXphdGlvbjMzMzA1NjE=\",\"url\":\"https://api.github.com/orgs/rjournal\",\"repos_url\":\"https://api.github.com/orgs/rjournal/repos\",\"events_url\":\"https://api.github.com/orgs/rjournal/events\",\"hooks_url\":\"https://api.github.com/orgs/rjournal/hooks\",\"issues_url\":\"https://api.github.com/orgs/rjournal/issues\",\"members_url\":\"https://api.github.com/orgs/rjournal/members{/member}\",\"public_members_url\":\"https://api.github.com/orgs/rjournal/public_members{/member}\",\"avatar_url\":\"https://avatars.githubusercontent.com/u/3330561?v=4\",\"description\":null},{\"login\":\"r-dbi\",\"id\":5695665,\"node_id\":\"MDEyOk9yZ2FuaXphdGlvbjU2OTU2NjU=\",\"url\":\"https://api.github.com/orgs/r-dbi\",\"repos_url\":\"https://api.github.com/orgs/r-dbi/repos\",\"events_url\":\"https://api.github.com/orgs/r-dbi/events\",\"hooks_url\":\"https://api.github.com/orgs/r-dbi/hooks\",\"issues_url\":\"https://api.github.com/orgs/r-dbi/issues\",\"members_url\":\"https://api.github.com/orgs/r-dbi/members{/member}\",\"public_members_url\":\"https://api.github.com/orgs/r-dbi/public_members{/member}\",\"avatar_url\":\"https://avatars.githubusercontent.com/u/5695665?v=4\",\"description\":\"R + databases\"},{\"login\":\"RConsortium\",\"id\":15366137,\"node_id\":\"MDEyOk9yZ2FuaXphdGlvbjE1MzY2MTM3\",\"url\":\"https://api.github.com/orgs/RConsortium\",\"repos_url\":\"https://api.github.com/orgs/RConsortium/repos\",\"events_url\":\"https://api.github.com/orgs/RConsortium/events\",\"hooks_url\":\"https://api.github.com/orgs/RConsortium/hooks\",\"issues_url\":\"https://api.github.com/orgs/RConsortium/issues\",\"members_url\":\"https://api.github.com/orgs/RConsortium/members{/member}\",\"public_members_url\":\"https://api.github.com/orgs/RConsortium/public_members{/member}\",\"avatar_url\":\"https://avatars.githubusercontent.com/u/15366137?v=4\",\"description\":\"The R Consortium, Inc was established to provide support to the R Foundation and R Community, using maintaining and distributing R software.\"},{\"login\":\"tidyverse\",\"id\":22032646,\"node_id\":\"MDEyOk9yZ2FuaXphdGlvbjIyMDMyNjQ2\",\"url\":\"https://api.github.com/orgs/tidyverse\",\"repos_url\":\"https://api.github.com/orgs/tidyverse/repos\",\"events_url\":\"https://api.github.com/orgs/tidyverse/events\",\"hooks_url\":\"https://api.github.com/orgs/tidyverse/hooks\",\"issues_url\":\"https://api.github.com/orgs/tidyverse/issues\",\"members_url\":\"https://api.github.com/orgs/tidyverse/members{/member}\",\"public_members_url\":\"https://api.github.com/orgs/tidyverse/public_members{/member}\",\"avatar_url\":\"https://avatars.githubusercontent.com/u/22032646?v=4\",\"description\":\"The tidyverse is a collection of R packages that share common principles and are designed to work together seamlessly\"},{\"login\":\"r-lib\",\"id\":22618716,\"node_id\":\"MDEyOk9yZ2FuaXphdGlvbjIyNjE4NzE2\",\"url\":\"https://api.github.com/orgs/r-lib\",\"repos_url\":\"https://api.github.com/orgs/r-lib/repos\",\"events_url\":\"https://api.github.com/orgs/r-lib/events\",\"hooks_url\":\"https://api.github.com/orgs/r-lib/hooks\",\"issues_url\":\"https://api.github.com/orgs/r-lib/issues\",\"members_url\":\"https://api.github.com/orgs/r-lib/members{/member}\",\"public_members_url\":\"https://api.github.com/orgs/r-lib/public_members{/member}\",\"avatar_url\":\"https://avatars.githubusercontent.com/u/22618716?v=4\",\"description\":\"\"},{\"login\":\"rstudio-education\",\"id\":34165516,\"node_id\":\"MDEyOk9yZ2FuaXphdGlvbjM0MTY1NTE2\",\"url\":\"https://api.github.com/orgs/rstudio-education\",\"repos_url\":\"https://api.github.com/orgs/rstudio-education/repos\",\"events_url\":\"https://api.github.com/orgs/rstudio-education/events\",\"hooks_url\":\"https://api.github.com/orgs/rstudio-education/hooks\",\"issues_url\":\"https://api.github.com/orgs/rstudio-education/issues\",\"members_url\":\"https://api.github.com/orgs/rstudio-education/members{/member}\",\"public_members_url\":\"https://api.github.com/orgs/rstudio-education/public_members{/member}\",\"avatar_url\":\"https://avatars.githubusercontent.com/u/34165516?v=4\",\"description\":\"\"}]'"
      ]
     },
     "execution_count": 200,
     "metadata": {},
     "output_type": "execute_result"
    }
   ],
   "source": [
    "rc.text"
   ]
  },
  {
   "cell_type": "code",
   "execution_count": 216,
   "id": "eec1b383-d0df-4772-88fc-6cc72a623c17",
   "metadata": {},
   "outputs": [],
   "source": [
    "import requests\n",
    "import json\n",
    "rc=requests.get('http://api.github.com/users/harley/orgs')\n",
    "if rc.status_code == 200:\n",
    "    print(\"Webpage Download Done!!\")\n",
    "    if \"text/html\" in rc.headers['Content-Type']:\n",
    "        with open(\"C:\\\\Users\\\\Theeba\\\\mypythonportal.html\",\"w\") as WH:\n",
    "            WH.write(rc.text+\"\\n\")\n",
    "    else:\n",
    "        pd=json.loads(rc.text)\n",
    "        pd[0]['login']=\"UPDATED_LOGIN\"\n",
    "        jd=json.dumps(pd)\n",
    "        with open(\"C:\\\\Users\\\\Theeba\\\\myjson.json\",\"w\") as WH:\n",
    "            WH.write(jd+\"\\n\")\n",
    "else:\n",
    "    print(\"Webpage Download Failed!!\")"
   ]
  },
  {
   "cell_type": "code",
   "execution_count": 218,
   "id": "abf1f766-6e79-41ae-a8a4-3e36e8f30ae1",
   "metadata": {},
   "outputs": [
    {
     "name": "stdout",
     "output_type": "stream",
     "text": [
      "[{\"login\": \"UPDATED_LOGIN\", \"id\": 9202359, \"node_id\": \"MDEyOk9yZ2FuaXphdGlvbjkyMDIzNTk=\", \"url\": \"https://api.github.com/orgs/rightside-shirts\", \"repos_url\": \"https://api.github.com/orgs/rightside-shirts/repos\", \"events_url\": \"https://api.github.com/orgs/rightside-shirts/events\", \"hooks_url\": \"https://api.github.com/orgs/rightside-shirts/hooks\", \"issues_url\": \"https://api.github.com/orgs/rightside-shirts/issues\", \"members_url\": \"https://api.github.com/orgs/rightside-shirts/members{/member}\", \"public_members_url\": \"https://api.github.com/orgs/rightside-shirts/public_members{/member}\", \"avatar_url\": \"https://avatars.githubusercontent.com/u/9202359?v=4\", \"description\": \"Spread Creativity\"}, {\"login\": \"coderschool\", \"id\": 15827360, \"node_id\": \"MDEyOk9yZ2FuaXphdGlvbjE1ODI3MzYw\", \"url\": \"https://api.github.com/orgs/coderschool\", \"repos_url\": \"https://api.github.com/orgs/coderschool/repos\", \"events_url\": \"https://api.github.com/orgs/coderschool/events\", \"hooks_url\": \"https://api.github.com/orgs/coderschool/hooks\", \"issues_url\": \"https://api.github.com/orgs/coderschool/issues\", \"members_url\": \"https://api.github.com/orgs/coderschool/members{/member}\", \"public_members_url\": \"https://api.github.com/orgs/coderschool/public_members{/member}\", \"avatar_url\": \"https://avatars.githubusercontent.com/u/15827360?v=4\", \"description\": \"Developing Developers\"}, {\"login\": \"iOS-Saigon\", \"id\": 17242521, \"node_id\": \"MDEyOk9yZ2FuaXphdGlvbjE3MjQyNTIx\", \"url\": \"https://api.github.com/orgs/iOS-Saigon\", \"repos_url\": \"https://api.github.com/orgs/iOS-Saigon/repos\", \"events_url\": \"https://api.github.com/orgs/iOS-Saigon/events\", \"hooks_url\": \"https://api.github.com/orgs/iOS-Saigon/hooks\", \"issues_url\": \"https://api.github.com/orgs/iOS-Saigon/issues\", \"members_url\": \"https://api.github.com/orgs/iOS-Saigon/members{/member}\", \"public_members_url\": \"https://api.github.com/orgs/iOS-Saigon/public_members{/member}\", \"avatar_url\": \"https://avatars.githubusercontent.com/u/17242521?v=4\", \"description\": \"\"}, {\"login\": \"blueskyacademy\", \"id\": 22578291, \"node_id\": \"MDEyOk9yZ2FuaXphdGlvbjIyNTc4Mjkx\", \"url\": \"https://api.github.com/orgs/blueskyacademy\", \"repos_url\": \"https://api.github.com/orgs/blueskyacademy/repos\", \"events_url\": \"https://api.github.com/orgs/blueskyacademy/events\", \"hooks_url\": \"https://api.github.com/orgs/blueskyacademy/hooks\", \"issues_url\": \"https://api.github.com/orgs/blueskyacademy/issues\", \"members_url\": \"https://api.github.com/orgs/blueskyacademy/members{/member}\", \"public_members_url\": \"https://api.github.com/orgs/blueskyacademy/public_members{/member}\", \"avatar_url\": \"https://avatars.githubusercontent.com/u/22578291?v=4\", \"description\": \"A bilingual K-12 school that combines local Eastern strengths with Montessori and Cambridge teaching practices.\"}]\n",
      "\n"
     ]
    }
   ],
   "source": [
    "with open(\"C:\\\\Users\\\\Theeba\\\\myjson.json\") as FH:\n",
    "    print(FH.read())"
   ]
  },
  {
   "cell_type": "code",
   "execution_count": 206,
   "id": "23ccf04a-ab96-407b-b9d9-84196e95adec",
   "metadata": {},
   "outputs": [],
   "source": [
    "pd=json.loads(rc.text)"
   ]
  },
  {
   "cell_type": "code",
   "execution_count": 208,
   "id": "72f72c53-b634-42e4-901b-71e34f4e8e2b",
   "metadata": {},
   "outputs": [
    {
     "data": {
      "text/plain": [
       "'ggobi'"
      ]
     },
     "execution_count": 208,
     "metadata": {},
     "output_type": "execute_result"
    }
   ],
   "source": [
    "pd[0]['login']"
   ]
  },
  {
   "cell_type": "code",
   "execution_count": 210,
   "id": "ab5a3083-066c-40d3-8666-05a499fdd304",
   "metadata": {},
   "outputs": [],
   "source": [
    "pd[0]['login']=\"UPDATED_LOGIN\""
   ]
  },
  {
   "cell_type": "code",
   "execution_count": 212,
   "id": "7f3344fe-99ed-4d60-b5de-9ca0ba9337a4",
   "metadata": {},
   "outputs": [
    {
     "name": "stdout",
     "output_type": "stream",
     "text": [
      "[{'avatar_url': 'https://avatars.githubusercontent.com/u/423638?v=4',\n",
      "  'description': '',\n",
      "  'events_url': 'https://api.github.com/orgs/ggobi/events',\n",
      "  'hooks_url': 'https://api.github.com/orgs/ggobi/hooks',\n",
      "  'id': 423638,\n",
      "  'issues_url': 'https://api.github.com/orgs/ggobi/issues',\n",
      "  'login': 'UPDATED_LOGIN',\n",
      "  'members_url': 'https://api.github.com/orgs/ggobi/members{/member}',\n",
      "  'node_id': 'MDEyOk9yZ2FuaXphdGlvbjQyMzYzOA==',\n",
      "  'public_members_url': 'https://api.github.com/orgs/ggobi/public_members{/member}',\n",
      "  'repos_url': 'https://api.github.com/orgs/ggobi/repos',\n",
      "  'url': 'https://api.github.com/orgs/ggobi'},\n",
      " {'avatar_url': 'https://avatars.githubusercontent.com/u/513560?v=4',\n",
      "  'description': '',\n",
      "  'events_url': 'https://api.github.com/orgs/rstudio/events',\n",
      "  'hooks_url': 'https://api.github.com/orgs/rstudio/hooks',\n",
      "  'id': 513560,\n",
      "  'issues_url': 'https://api.github.com/orgs/rstudio/issues',\n",
      "  'login': 'rstudio',\n",
      "  'members_url': 'https://api.github.com/orgs/rstudio/members{/member}',\n",
      "  'node_id': 'MDEyOk9yZ2FuaXphdGlvbjUxMzU2MA==',\n",
      "  'public_members_url': 'https://api.github.com/orgs/rstudio/public_members{/member}',\n",
      "  'repos_url': 'https://api.github.com/orgs/rstudio/repos',\n",
      "  'url': 'https://api.github.com/orgs/rstudio'},\n",
      " {'avatar_url': 'https://avatars.githubusercontent.com/u/722735?v=4',\n",
      "  'description': None,\n",
      "  'events_url': 'https://api.github.com/orgs/rstats/events',\n",
      "  'hooks_url': 'https://api.github.com/orgs/rstats/hooks',\n",
      "  'id': 722735,\n",
      "  'issues_url': 'https://api.github.com/orgs/rstats/issues',\n",
      "  'login': 'rstats',\n",
      "  'members_url': 'https://api.github.com/orgs/rstats/members{/member}',\n",
      "  'node_id': 'MDEyOk9yZ2FuaXphdGlvbjcyMjczNQ==',\n",
      "  'public_members_url': 'https://api.github.com/orgs/rstats/public_members{/member}',\n",
      "  'repos_url': 'https://api.github.com/orgs/rstats/repos',\n",
      "  'url': 'https://api.github.com/orgs/rstats'},\n",
      " {'avatar_url': 'https://avatars.githubusercontent.com/u/1200269?v=4',\n",
      "  'description': 'Tools and R Packages for Open Science',\n",
      "  'events_url': 'https://api.github.com/orgs/ropensci/events',\n",
      "  'hooks_url': 'https://api.github.com/orgs/ropensci/hooks',\n",
      "  'id': 1200269,\n",
      "  'issues_url': 'https://api.github.com/orgs/ropensci/issues',\n",
      "  'login': 'ropensci',\n",
      "  'members_url': 'https://api.github.com/orgs/ropensci/members{/member}',\n",
      "  'node_id': 'MDEyOk9yZ2FuaXphdGlvbjEyMDAyNjk=',\n",
      "  'public_members_url': 'https://api.github.com/orgs/ropensci/public_members{/member}',\n",
      "  'repos_url': 'https://api.github.com/orgs/ropensci/repos',\n",
      "  'url': 'https://api.github.com/orgs/ropensci'},\n",
      " {'avatar_url': 'https://avatars.githubusercontent.com/u/3330561?v=4',\n",
      "  'description': None,\n",
      "  'events_url': 'https://api.github.com/orgs/rjournal/events',\n",
      "  'hooks_url': 'https://api.github.com/orgs/rjournal/hooks',\n",
      "  'id': 3330561,\n",
      "  'issues_url': 'https://api.github.com/orgs/rjournal/issues',\n",
      "  'login': 'rjournal',\n",
      "  'members_url': 'https://api.github.com/orgs/rjournal/members{/member}',\n",
      "  'node_id': 'MDEyOk9yZ2FuaXphdGlvbjMzMzA1NjE=',\n",
      "  'public_members_url': 'https://api.github.com/orgs/rjournal/public_members{/member}',\n",
      "  'repos_url': 'https://api.github.com/orgs/rjournal/repos',\n",
      "  'url': 'https://api.github.com/orgs/rjournal'},\n",
      " {'avatar_url': 'https://avatars.githubusercontent.com/u/5695665?v=4',\n",
      "  'description': 'R + databases',\n",
      "  'events_url': 'https://api.github.com/orgs/r-dbi/events',\n",
      "  'hooks_url': 'https://api.github.com/orgs/r-dbi/hooks',\n",
      "  'id': 5695665,\n",
      "  'issues_url': 'https://api.github.com/orgs/r-dbi/issues',\n",
      "  'login': 'r-dbi',\n",
      "  'members_url': 'https://api.github.com/orgs/r-dbi/members{/member}',\n",
      "  'node_id': 'MDEyOk9yZ2FuaXphdGlvbjU2OTU2NjU=',\n",
      "  'public_members_url': 'https://api.github.com/orgs/r-dbi/public_members{/member}',\n",
      "  'repos_url': 'https://api.github.com/orgs/r-dbi/repos',\n",
      "  'url': 'https://api.github.com/orgs/r-dbi'},\n",
      " {'avatar_url': 'https://avatars.githubusercontent.com/u/15366137?v=4',\n",
      "  'description': 'The R Consortium, Inc was established to provide support to '\n",
      "                 'the R Foundation and R Community, using maintaining and '\n",
      "                 'distributing R software.',\n",
      "  'events_url': 'https://api.github.com/orgs/RConsortium/events',\n",
      "  'hooks_url': 'https://api.github.com/orgs/RConsortium/hooks',\n",
      "  'id': 15366137,\n",
      "  'issues_url': 'https://api.github.com/orgs/RConsortium/issues',\n",
      "  'login': 'RConsortium',\n",
      "  'members_url': 'https://api.github.com/orgs/RConsortium/members{/member}',\n",
      "  'node_id': 'MDEyOk9yZ2FuaXphdGlvbjE1MzY2MTM3',\n",
      "  'public_members_url': 'https://api.github.com/orgs/RConsortium/public_members{/member}',\n",
      "  'repos_url': 'https://api.github.com/orgs/RConsortium/repos',\n",
      "  'url': 'https://api.github.com/orgs/RConsortium'},\n",
      " {'avatar_url': 'https://avatars.githubusercontent.com/u/22032646?v=4',\n",
      "  'description': 'The tidyverse is a collection of R packages that share '\n",
      "                 'common principles and are designed to work together '\n",
      "                 'seamlessly',\n",
      "  'events_url': 'https://api.github.com/orgs/tidyverse/events',\n",
      "  'hooks_url': 'https://api.github.com/orgs/tidyverse/hooks',\n",
      "  'id': 22032646,\n",
      "  'issues_url': 'https://api.github.com/orgs/tidyverse/issues',\n",
      "  'login': 'tidyverse',\n",
      "  'members_url': 'https://api.github.com/orgs/tidyverse/members{/member}',\n",
      "  'node_id': 'MDEyOk9yZ2FuaXphdGlvbjIyMDMyNjQ2',\n",
      "  'public_members_url': 'https://api.github.com/orgs/tidyverse/public_members{/member}',\n",
      "  'repos_url': 'https://api.github.com/orgs/tidyverse/repos',\n",
      "  'url': 'https://api.github.com/orgs/tidyverse'},\n",
      " {'avatar_url': 'https://avatars.githubusercontent.com/u/22618716?v=4',\n",
      "  'description': '',\n",
      "  'events_url': 'https://api.github.com/orgs/r-lib/events',\n",
      "  'hooks_url': 'https://api.github.com/orgs/r-lib/hooks',\n",
      "  'id': 22618716,\n",
      "  'issues_url': 'https://api.github.com/orgs/r-lib/issues',\n",
      "  'login': 'r-lib',\n",
      "  'members_url': 'https://api.github.com/orgs/r-lib/members{/member}',\n",
      "  'node_id': 'MDEyOk9yZ2FuaXphdGlvbjIyNjE4NzE2',\n",
      "  'public_members_url': 'https://api.github.com/orgs/r-lib/public_members{/member}',\n",
      "  'repos_url': 'https://api.github.com/orgs/r-lib/repos',\n",
      "  'url': 'https://api.github.com/orgs/r-lib'},\n",
      " {'avatar_url': 'https://avatars.githubusercontent.com/u/34165516?v=4',\n",
      "  'description': '',\n",
      "  'events_url': 'https://api.github.com/orgs/rstudio-education/events',\n",
      "  'hooks_url': 'https://api.github.com/orgs/rstudio-education/hooks',\n",
      "  'id': 34165516,\n",
      "  'issues_url': 'https://api.github.com/orgs/rstudio-education/issues',\n",
      "  'login': 'rstudio-education',\n",
      "  'members_url': 'https://api.github.com/orgs/rstudio-education/members{/member}',\n",
      "  'node_id': 'MDEyOk9yZ2FuaXphdGlvbjM0MTY1NTE2',\n",
      "  'public_members_url': 'https://api.github.com/orgs/rstudio-education/public_members{/member}',\n",
      "  'repos_url': 'https://api.github.com/orgs/rstudio-education/repos',\n",
      "  'url': 'https://api.github.com/orgs/rstudio-education'}]\n"
     ]
    }
   ],
   "source": [
    "jd = json.dumps(pd)\n",
    "import pprint\n",
    "pprint.pprint(pd)"
   ]
  },
  {
   "cell_type": "code",
   "execution_count": 214,
   "id": "4a560662-afc0-462b-860f-c52ca46f00d6",
   "metadata": {},
   "outputs": [
    {
     "name": "stdout",
     "output_type": "stream",
     "text": [
      "('[{\"login\": \"UPDATED_LOGIN\", \"id\": 423638, \"node_id\": '\n",
      " '\"MDEyOk9yZ2FuaXphdGlvbjQyMzYzOA==\", \"url\": '\n",
      " '\"https://api.github.com/orgs/ggobi\", \"repos_url\": '\n",
      " '\"https://api.github.com/orgs/ggobi/repos\", \"events_url\": '\n",
      " '\"https://api.github.com/orgs/ggobi/events\", \"hooks_url\": '\n",
      " '\"https://api.github.com/orgs/ggobi/hooks\", \"issues_url\": '\n",
      " '\"https://api.github.com/orgs/ggobi/issues\", \"members_url\": '\n",
      " '\"https://api.github.com/orgs/ggobi/members{/member}\", \"public_members_url\": '\n",
      " '\"https://api.github.com/orgs/ggobi/public_members{/member}\", \"avatar_url\": '\n",
      " '\"https://avatars.githubusercontent.com/u/423638?v=4\", \"description\": \"\"}, '\n",
      " '{\"login\": \"rstudio\", \"id\": 513560, \"node_id\": '\n",
      " '\"MDEyOk9yZ2FuaXphdGlvbjUxMzU2MA==\", \"url\": '\n",
      " '\"https://api.github.com/orgs/rstudio\", \"repos_url\": '\n",
      " '\"https://api.github.com/orgs/rstudio/repos\", \"events_url\": '\n",
      " '\"https://api.github.com/orgs/rstudio/events\", \"hooks_url\": '\n",
      " '\"https://api.github.com/orgs/rstudio/hooks\", \"issues_url\": '\n",
      " '\"https://api.github.com/orgs/rstudio/issues\", \"members_url\": '\n",
      " '\"https://api.github.com/orgs/rstudio/members{/member}\", '\n",
      " '\"public_members_url\": '\n",
      " '\"https://api.github.com/orgs/rstudio/public_members{/member}\", \"avatar_url\": '\n",
      " '\"https://avatars.githubusercontent.com/u/513560?v=4\", \"description\": \"\"}, '\n",
      " '{\"login\": \"rstats\", \"id\": 722735, \"node_id\": '\n",
      " '\"MDEyOk9yZ2FuaXphdGlvbjcyMjczNQ==\", \"url\": '\n",
      " '\"https://api.github.com/orgs/rstats\", \"repos_url\": '\n",
      " '\"https://api.github.com/orgs/rstats/repos\", \"events_url\": '\n",
      " '\"https://api.github.com/orgs/rstats/events\", \"hooks_url\": '\n",
      " '\"https://api.github.com/orgs/rstats/hooks\", \"issues_url\": '\n",
      " '\"https://api.github.com/orgs/rstats/issues\", \"members_url\": '\n",
      " '\"https://api.github.com/orgs/rstats/members{/member}\", \"public_members_url\": '\n",
      " '\"https://api.github.com/orgs/rstats/public_members{/member}\", \"avatar_url\": '\n",
      " '\"https://avatars.githubusercontent.com/u/722735?v=4\", \"description\": null}, '\n",
      " '{\"login\": \"ropensci\", \"id\": 1200269, \"node_id\": '\n",
      " '\"MDEyOk9yZ2FuaXphdGlvbjEyMDAyNjk=\", \"url\": '\n",
      " '\"https://api.github.com/orgs/ropensci\", \"repos_url\": '\n",
      " '\"https://api.github.com/orgs/ropensci/repos\", \"events_url\": '\n",
      " '\"https://api.github.com/orgs/ropensci/events\", \"hooks_url\": '\n",
      " '\"https://api.github.com/orgs/ropensci/hooks\", \"issues_url\": '\n",
      " '\"https://api.github.com/orgs/ropensci/issues\", \"members_url\": '\n",
      " '\"https://api.github.com/orgs/ropensci/members{/member}\", '\n",
      " '\"public_members_url\": '\n",
      " '\"https://api.github.com/orgs/ropensci/public_members{/member}\", '\n",
      " '\"avatar_url\": \"https://avatars.githubusercontent.com/u/1200269?v=4\", '\n",
      " '\"description\": \"Tools and R Packages for Open Science\"}, {\"login\": '\n",
      " '\"rjournal\", \"id\": 3330561, \"node_id\": \"MDEyOk9yZ2FuaXphdGlvbjMzMzA1NjE=\", '\n",
      " '\"url\": \"https://api.github.com/orgs/rjournal\", \"repos_url\": '\n",
      " '\"https://api.github.com/orgs/rjournal/repos\", \"events_url\": '\n",
      " '\"https://api.github.com/orgs/rjournal/events\", \"hooks_url\": '\n",
      " '\"https://api.github.com/orgs/rjournal/hooks\", \"issues_url\": '\n",
      " '\"https://api.github.com/orgs/rjournal/issues\", \"members_url\": '\n",
      " '\"https://api.github.com/orgs/rjournal/members{/member}\", '\n",
      " '\"public_members_url\": '\n",
      " '\"https://api.github.com/orgs/rjournal/public_members{/member}\", '\n",
      " '\"avatar_url\": \"https://avatars.githubusercontent.com/u/3330561?v=4\", '\n",
      " '\"description\": null}, {\"login\": \"r-dbi\", \"id\": 5695665, \"node_id\": '\n",
      " '\"MDEyOk9yZ2FuaXphdGlvbjU2OTU2NjU=\", \"url\": '\n",
      " '\"https://api.github.com/orgs/r-dbi\", \"repos_url\": '\n",
      " '\"https://api.github.com/orgs/r-dbi/repos\", \"events_url\": '\n",
      " '\"https://api.github.com/orgs/r-dbi/events\", \"hooks_url\": '\n",
      " '\"https://api.github.com/orgs/r-dbi/hooks\", \"issues_url\": '\n",
      " '\"https://api.github.com/orgs/r-dbi/issues\", \"members_url\": '\n",
      " '\"https://api.github.com/orgs/r-dbi/members{/member}\", \"public_members_url\": '\n",
      " '\"https://api.github.com/orgs/r-dbi/public_members{/member}\", \"avatar_url\": '\n",
      " '\"https://avatars.githubusercontent.com/u/5695665?v=4\", \"description\": \"R + '\n",
      " 'databases\"}, {\"login\": \"RConsortium\", \"id\": 15366137, \"node_id\": '\n",
      " '\"MDEyOk9yZ2FuaXphdGlvbjE1MzY2MTM3\", \"url\": '\n",
      " '\"https://api.github.com/orgs/RConsortium\", \"repos_url\": '\n",
      " '\"https://api.github.com/orgs/RConsortium/repos\", \"events_url\": '\n",
      " '\"https://api.github.com/orgs/RConsortium/events\", \"hooks_url\": '\n",
      " '\"https://api.github.com/orgs/RConsortium/hooks\", \"issues_url\": '\n",
      " '\"https://api.github.com/orgs/RConsortium/issues\", \"members_url\": '\n",
      " '\"https://api.github.com/orgs/RConsortium/members{/member}\", '\n",
      " '\"public_members_url\": '\n",
      " '\"https://api.github.com/orgs/RConsortium/public_members{/member}\", '\n",
      " '\"avatar_url\": \"https://avatars.githubusercontent.com/u/15366137?v=4\", '\n",
      " '\"description\": \"The R Consortium, Inc was established to provide support to '\n",
      " 'the R Foundation and R Community, using maintaining and distributing R '\n",
      " 'software.\"}, {\"login\": \"tidyverse\", \"id\": 22032646, \"node_id\": '\n",
      " '\"MDEyOk9yZ2FuaXphdGlvbjIyMDMyNjQ2\", \"url\": '\n",
      " '\"https://api.github.com/orgs/tidyverse\", \"repos_url\": '\n",
      " '\"https://api.github.com/orgs/tidyverse/repos\", \"events_url\": '\n",
      " '\"https://api.github.com/orgs/tidyverse/events\", \"hooks_url\": '\n",
      " '\"https://api.github.com/orgs/tidyverse/hooks\", \"issues_url\": '\n",
      " '\"https://api.github.com/orgs/tidyverse/issues\", \"members_url\": '\n",
      " '\"https://api.github.com/orgs/tidyverse/members{/member}\", '\n",
      " '\"public_members_url\": '\n",
      " '\"https://api.github.com/orgs/tidyverse/public_members{/member}\", '\n",
      " '\"avatar_url\": \"https://avatars.githubusercontent.com/u/22032646?v=4\", '\n",
      " '\"description\": \"The tidyverse is a collection of R packages that share '\n",
      " 'common principles and are designed to work together seamlessly\"}, {\"login\": '\n",
      " '\"r-lib\", \"id\": 22618716, \"node_id\": \"MDEyOk9yZ2FuaXphdGlvbjIyNjE4NzE2\", '\n",
      " '\"url\": \"https://api.github.com/orgs/r-lib\", \"repos_url\": '\n",
      " '\"https://api.github.com/orgs/r-lib/repos\", \"events_url\": '\n",
      " '\"https://api.github.com/orgs/r-lib/events\", \"hooks_url\": '\n",
      " '\"https://api.github.com/orgs/r-lib/hooks\", \"issues_url\": '\n",
      " '\"https://api.github.com/orgs/r-lib/issues\", \"members_url\": '\n",
      " '\"https://api.github.com/orgs/r-lib/members{/member}\", \"public_members_url\": '\n",
      " '\"https://api.github.com/orgs/r-lib/public_members{/member}\", \"avatar_url\": '\n",
      " '\"https://avatars.githubusercontent.com/u/22618716?v=4\", \"description\": \"\"}, '\n",
      " '{\"login\": \"rstudio-education\", \"id\": 34165516, \"node_id\": '\n",
      " '\"MDEyOk9yZ2FuaXphdGlvbjM0MTY1NTE2\", \"url\": '\n",
      " '\"https://api.github.com/orgs/rstudio-education\", \"repos_url\": '\n",
      " '\"https://api.github.com/orgs/rstudio-education/repos\", \"events_url\": '\n",
      " '\"https://api.github.com/orgs/rstudio-education/events\", \"hooks_url\": '\n",
      " '\"https://api.github.com/orgs/rstudio-education/hooks\", \"issues_url\": '\n",
      " '\"https://api.github.com/orgs/rstudio-education/issues\", \"members_url\": '\n",
      " '\"https://api.github.com/orgs/rstudio-education/members{/member}\", '\n",
      " '\"public_members_url\": '\n",
      " '\"https://api.github.com/orgs/rstudio-education/public_members{/member}\", '\n",
      " '\"avatar_url\": \"https://avatars.githubusercontent.com/u/34165516?v=4\", '\n",
      " '\"description\": \"\"}]')\n"
     ]
    }
   ],
   "source": [
    "pprint.pprint(jd)"
   ]
  },
  {
   "cell_type": "code",
   "execution_count": null,
   "id": "97f04df9-8cf8-4c3f-8dcf-6908b78a9f2e",
   "metadata": {},
   "outputs": [],
   "source": [
    "### handson - 3.00 to 3.20 IST ######  Regx, json, db, asyncio, paramiko"
   ]
  }
 ],
 "metadata": {
  "kernelspec": {
   "display_name": "Python 3 (ipykernel)",
   "language": "python",
   "name": "python3"
  },
  "language_info": {
   "codemirror_mode": {
    "name": "ipython",
    "version": 3
   },
   "file_extension": ".py",
   "mimetype": "text/x-python",
   "name": "python",
   "nbconvert_exporter": "python",
   "pygments_lexer": "ipython3",
   "version": "3.12.3"
  }
 },
 "nbformat": 4,
 "nbformat_minor": 5
}
