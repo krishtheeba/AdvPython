{
 "cells": [
  {
   "cell_type": "code",
   "execution_count": null,
   "id": "c4407159-9bd4-4130-a81e-0ef05ed69524",
   "metadata": {},
   "outputs": [],
   "source": [
    "1.procedural style- syntax,type,logic- direct approach\n",
    "2. functional style- inline\n",
    "3. object oriented - class-> object\n",
    "\n",
    "L=[]\n",
    "def fx(a):\n",
    "        return a*10\n",
    "for var in range(10):\n",
    "    r=fx(var)\n",
    "    L.append(r)\n",
    "print(L)"
   ]
  },
  {
   "cell_type": "code",
   "execution_count": null,
   "id": "ee508028-44b9-4db0-9ac2-fb857a6f3d2c",
   "metadata": {},
   "outputs": [],
   "source": [
    "list(map(lambda a:a+10, range(10)) # functional"
   ]
  },
  {
   "cell_type": "code",
   "execution_count": null,
   "id": "4089cbe5-721f-4aaa-9742-89a3163cd972",
   "metadata": {},
   "outputs": [],
   "source": [
    "class cname:\n",
    "    def ... "
   ]
  },
  {
   "cell_type": "markdown",
   "id": "4dc5ef75-05e6-4570-a834-024622fd0ff1",
   "metadata": {},
   "source": [
    "new to python\n",
    "=============\n",
    "    1. understand the topic (defn)\n",
    "    2. understand syntax\n",
    "    3. refer existing examples\n",
    "    4. exercise"
   ]
  },
  {
   "cell_type": "markdown",
   "id": "0f21c0cb-3124-41fa-b3d7-992dfd2cce10",
   "metadata": {},
   "source": [
    "variable\n",
    "\n",
    "variablename=value\n",
    "\n",
    "var=100\n",
    "Var=200\n",
    "VAR=4400\n",
    "-----//valid\n",
    "\n",
    "%var=33\n",
    "var ga=44\n",
    "5t=657\n",
    " ---//invalid\n",
    "\n",
    "\n",
    "object type\n",
    "Numbers        123  3.33   3+4j   \n",
    "String        \"spam\" '\\0xx'\n",
    "list        [1, [2,\"three\"],4]\n",
    "dictionary    {'food':'spam', 'taste':'yummy'}\n",
    "tuple   (1,3)\n",
    "files  myfile=open(\"filemname\",'r')\n",
    "set     set(a,c,v)    {'a','b','c'}\n",
    "core types    boolean, none, types\n",
    "program unit types    function, modules, class"
   ]
  },
  {
   "cell_type": "code",
   "execution_count": 1,
   "id": "870cf2e2-dee1-4546-b8a3-56219c611d35",
   "metadata": {},
   "outputs": [
    {
     "name": "stdout",
     "output_type": "stream",
     "text": [
      "<class 'int'>\n"
     ]
    }
   ],
   "source": [
    "print(type(-1))"
   ]
  },
  {
   "cell_type": "code",
   "execution_count": 3,
   "id": "b2a9db4c-4563-44e4-bfcd-a75841278d0a",
   "metadata": {},
   "outputs": [
    {
     "name": "stdout",
     "output_type": "stream",
     "text": [
      "<class 'int'>\n"
     ]
    }
   ],
   "source": [
    "print(type(536532538273))"
   ]
  },
  {
   "cell_type": "code",
   "execution_count": null,
   "id": "14271f25-606f-47cc-8b6b-12a30c19c628",
   "metadata": {},
   "outputs": [],
   "source": [
    "a=257  --> created only at this point\n",
    "b=254   (-256 to  256----> preallocated"
   ]
  },
  {
   "cell_type": "code",
   "execution_count": 5,
   "id": "7d40d5f9-b458-4123-894a-e5f1f966fe8d",
   "metadata": {},
   "outputs": [
    {
     "name": "stdout",
     "output_type": "stream",
     "text": [
      "17\n"
     ]
    }
   ],
   "source": [
    "print(int(10.45+6.99))"
   ]
  },
  {
   "cell_type": "code",
   "execution_count": null,
   "id": "33128f45-44ea-4c53-a626-7770f8fce2b3",
   "metadata": {},
   "outputs": [],
   "source": [
    "int(), str(), bool(),list(),tuple() - type conversion"
   ]
  },
  {
   "cell_type": "code",
   "execution_count": 7,
   "id": "a32064d2-4218-4b08-a870-b2dc20c28cf9",
   "metadata": {},
   "outputs": [
    {
     "name": "stdout",
     "output_type": "stream",
     "text": [
      "<class 'str'> <class 'str'>\n"
     ]
    }
   ],
   "source": [
    "#str- collection of chars - index\n",
    "s1=\"akhsjshj\"\n",
    "s2='hfjhgkj'\n",
    "print(type(s1), type(s2))"
   ]
  },
  {
   "cell_type": "code",
   "execution_count": 9,
   "id": "1a88f045-9261-47c9-8632-21b795a3badb",
   "metadata": {},
   "outputs": [
    {
     "name": "stdout",
     "output_type": "stream",
     "text": [
      "45.88\n"
     ]
    }
   ],
   "source": [
    "s3=\"45.88\"\n",
    "print(float(s3))"
   ]
  },
  {
   "cell_type": "code",
   "execution_count": 13,
   "id": "6910f7d9-cac3-4178-8cd7-7591e7c96371",
   "metadata": {},
   "outputs": [
    {
     "name": "stdout",
     "output_type": "stream",
     "text": [
      "False False False False False False False\n"
     ]
    }
   ],
   "source": [
    "print(bool(0),bool(0.0),bool(''),bool([]),bool(()),bool(None),bool({}))"
   ]
  },
  {
   "cell_type": "code",
   "execution_count": 15,
   "id": "8fd7ca72-3e31-4be6-ab3e-621fdde73bd0",
   "metadata": {},
   "outputs": [
    {
     "data": {
      "text/plain": [
       "<re.Match object; span=(7, 11), match='bash'>"
      ]
     },
     "execution_count": 15,
     "metadata": {},
     "output_type": "execute_result"
    }
   ],
   "source": [
    "import re\n",
    "re.search('bash','root:x:bash')"
   ]
  },
  {
   "cell_type": "code",
   "execution_count": 17,
   "id": "b47424dc-d57d-4fd6-a470-932370aafb3d",
   "metadata": {},
   "outputs": [],
   "source": [
    "re.search('perl','root:x:bash')"
   ]
  },
  {
   "cell_type": "code",
   "execution_count": 19,
   "id": "043ed61a-d70a-4a86-8721-274defc2b23a",
   "metadata": {},
   "outputs": [
    {
     "data": {
      "text/plain": [
       "True"
      ]
     },
     "execution_count": 19,
     "metadata": {},
     "output_type": "execute_result"
    }
   ],
   "source": [
    "bool(re.search('bash','root:x:bash'))"
   ]
  },
  {
   "cell_type": "code",
   "execution_count": 21,
   "id": "e8d75814-9a32-4192-a803-a4618c2d12d2",
   "metadata": {},
   "outputs": [
    {
     "data": {
      "text/plain": [
       "False"
      ]
     },
     "execution_count": 21,
     "metadata": {},
     "output_type": "execute_result"
    }
   ],
   "source": [
    "bool(re.search('perl','root:x:bash'))"
   ]
  },
  {
   "cell_type": "code",
   "execution_count": 23,
   "id": "31247227-6285-472a-bed3-3b655c6e8aff",
   "metadata": {},
   "outputs": [
    {
     "data": {
      "text/plain": [
       "list"
      ]
     },
     "execution_count": 23,
     "metadata": {},
     "output_type": "execute_result"
    }
   ],
   "source": [
    "L=[] #collection of values- mutable-ordered\n",
    "type([])"
   ]
  },
  {
   "cell_type": "code",
   "execution_count": 25,
   "id": "93b3a3b7-4936-4044-a78f-9d3ec86c58fb",
   "metadata": {},
   "outputs": [
    {
     "data": {
      "text/plain": [
       "7"
      ]
     },
     "execution_count": 25,
     "metadata": {},
     "output_type": "execute_result"
    }
   ],
   "source": [
    "L=[10,3.44,13+4j,True,'aaa',b'abc',None]\n",
    "len(L)"
   ]
  },
  {
   "cell_type": "markdown",
   "id": "2b52803c-1965-4a63-8dc0-6eacec8b19a3",
   "metadata": {},
   "source": [
    "help(List)  help([]) help(L)---> list doc\n",
    "\n",
    "L.append(value)\n",
    "L.insert(index,value)\n",
    "\n",
    "L.pop() -> remove last index item L.pop(index)--> remove at index pos\n",
    "\n",
    "#call by refernce - mutable"
   ]
  },
  {
   "cell_type": "code",
   "execution_count": 27,
   "id": "490d7aa8-c59f-48be-a4a3-3851fcd38641",
   "metadata": {},
   "outputs": [
    {
     "data": {
      "text/plain": [
       "6"
      ]
     },
     "execution_count": 27,
     "metadata": {},
     "output_type": "execute_result"
    }
   ],
   "source": [
    "tuplename=(10,20.22,2+2j,'sss',None,True)\n",
    "#immutable\n",
    "len(tuplename)\n",
    "\n",
    "# call by value-->"
   ]
  },
  {
   "cell_type": "code",
   "execution_count": null,
   "id": "c4132aff-fd1f-4a84-b584-fdbfc2282a0d",
   "metadata": {},
   "outputs": [],
   "source": [
    "list(input_tuple)--> output_list\n",
    "tuple(input_list)---> output_tuple"
   ]
  },
  {
   "cell_type": "code",
   "execution_count": null,
   "id": "4ae22e51-08c7-4855-bdcf-3c8dd2b65bc0",
   "metadata": {},
   "outputs": [],
   "source": [
    "#dictionary like hash  - key:value  - unordered\n",
    "                         ----------> item\n",
    "# webservice, webcontent,json object, large data---> dict\n",
    "\n",
    "dictionaryname={\"key\":\"value\"}\n",
    "                  |------------>immutable- int,float,str,complex,bytes...\n",
    "network_info={\"interface\":\"eth0\", \"prefix\":12, \"onboot\":\"yes\", \"bootproto\":\"dhcp\"}\n",
    "\n",
    "dictname[\"keyname\"]----->value /  keyError   (or)   dictname.get(keyname)---> value/ None\n"
   ]
  },
  {
   "cell_type": "code",
   "execution_count": 31,
   "id": "cd87e614-2b07-4a52-882e-fc26afa1d57e",
   "metadata": {},
   "outputs": [
    {
     "name": "stdout",
     "output_type": "stream",
     "text": [
      "one\n",
      "one\n",
      "None\n"
     ]
    },
    {
     "ename": "KeyError",
     "evalue": "10",
     "output_type": "error",
     "traceback": [
      "\u001b[1;31m---------------------------------------------------------------------------\u001b[0m",
      "\u001b[1;31mKeyError\u001b[0m                                  Traceback (most recent call last)",
      "Cell \u001b[1;32mIn[31], line 6\u001b[0m\n\u001b[0;32m      4\u001b[0m \u001b[38;5;28mprint\u001b[39m(d\u001b[38;5;241m.\u001b[39mget(\u001b[38;5;241m1\u001b[39m)) \u001b[38;5;66;03m# one\u001b[39;00m\n\u001b[0;32m      5\u001b[0m \u001b[38;5;28mprint\u001b[39m(d\u001b[38;5;241m.\u001b[39mget(\u001b[38;5;241m10\u001b[39m)) \u001b[38;5;66;03m#none\u001b[39;00m\n\u001b[1;32m----> 6\u001b[0m \u001b[38;5;28mprint\u001b[39m(d[\u001b[38;5;241m10\u001b[39m])\n",
      "\u001b[1;31mKeyError\u001b[0m: 10"
     ]
    }
   ],
   "source": [
    "d={1:\"one\",2:\"two\",3:\"three\"}\n",
    "\n",
    "print(d[1]) # one\n",
    "print(d.get(1)) # one\n",
    "print(d.get(10)) #none\n",
    "print(d[10]) # keyerror\n"
   ]
  },
  {
   "cell_type": "markdown",
   "id": "85fe8fb5-676a-4e42-a426-3882ec7c1012",
   "metadata": {},
   "source": [
    "d[\"old_key\"]=updatedvalue   (or)   d[\"new_key\"]=\"new_value\"  \n",
    "---------------------------       -------------------------\n",
    "modification                         adding new value\n",
    "\n",
    "\n",
    "d.pop(\"key\") // delete"
   ]
  },
  {
   "cell_type": "code",
   "execution_count": 33,
   "id": "d22b5b7b-d280-4718-84ba-3d442d8029d8",
   "metadata": {},
   "outputs": [],
   "source": [
    "network_info={\"interface\":\"eth0\", \"prefix\":12, \"onboot\":\"yes\", \"bootproto\":\"dhcp\"}"
   ]
  },
  {
   "cell_type": "code",
   "execution_count": null,
   "id": "7e0af78c-d9f0-4c16-9491-d68e6b41255a",
   "metadata": {},
   "outputs": [],
   "source": [
    "for variable in dictname:        vs       for variable in dictname.keys():\n",
    "        list of keys                              list of keys"
   ]
  },
  {
   "cell_type": "markdown",
   "id": "f3c39a4f-eb34-4269-af3d-d8b2965e1b5f",
   "metadata": {},
   "source": [
    "1.Condition style looping -- while - based on True/False\n",
    "2.Collection style looping   - for -- based on no. of elements in collection (str,bytes,list,tuple,dict,set)\n"
   ]
  },
  {
   "cell_type": "code",
   "execution_count": 35,
   "id": "47cf498f-0d2e-4387-abbb-7cd34d20461a",
   "metadata": {},
   "outputs": [
    {
     "name": "stdout",
     "output_type": "stream",
     "text": [
      "interface\n",
      "prefix\n",
      "onboot\n",
      "bootproto\n"
     ]
    }
   ],
   "source": [
    "network_info={\"interface\":\"eth0\", \"prefix\":12, \"onboot\":\"yes\", \"bootproto\":\"dhcp\"}\n",
    "for i in network_info:\n",
    "    print(i) # list of keys\n"
   ]
  },
  {
   "cell_type": "code",
   "execution_count": 39,
   "id": "7d40e108-b6c4-4d00-b968-2264796668a1",
   "metadata": {},
   "outputs": [
    {
     "name": "stdout",
     "output_type": "stream",
     "text": [
      "interface\n",
      "prefix\n",
      "onboot\n",
      "bootproto\n"
     ]
    }
   ],
   "source": [
    "for i in network_info.keys():\n",
    "    print(i) # list of keys"
   ]
  },
  {
   "cell_type": "code",
   "execution_count": 41,
   "id": "062abdc9-fba4-4b4b-b0c7-f03cb0129dc7",
   "metadata": {},
   "outputs": [
    {
     "name": "stdout",
     "output_type": "stream",
     "text": [
      "interface eth0\n",
      "prefix 12\n",
      "onboot yes\n",
      "bootproto dhcp\n"
     ]
    }
   ],
   "source": [
    "for i in network_info.keys():\n",
    "    print(i, network_info[i]) #  key,value"
   ]
  },
  {
   "cell_type": "code",
   "execution_count": 43,
   "id": "1c3f5518-3f49-4b09-a5a4-ec268af53ae6",
   "metadata": {},
   "outputs": [
    {
     "name": "stdout",
     "output_type": "stream",
     "text": [
      "tthghg\n",
      "ttytyg\n"
     ]
    }
   ],
   "source": [
    "print(\"tt\" \"hghg\")  # str concatenation\n",
    "print(\"tt\"+\"ytyg\")  #      \"\n"
   ]
  },
  {
   "cell_type": "code",
   "execution_count": null,
   "id": "1eca3f93-9934-44f3-b794-c38c14bb4b38",
   "metadata": {},
   "outputs": [],
   "source": [
    "dictname.items()--> key, value"
   ]
  },
  {
   "cell_type": "markdown",
   "id": "c176f323-b0ee-483d-8e7f-86a7cbae2f23",
   "metadata": {},
   "source": [
    "1.Condition style looping -- while - based on True/False\n",
    "while loop\n",
    "\n",
    "rule1: intialization      i=0      i=15\n",
    "rule2: define condition   i<5      i>10\n",
    "rule3: arithmetic operation  i=i+1    i=i-1   \n",
    "                            i+=1      i-=1\n",
    "\n",
    "python doesnot support ++ -- pre/post unary opr\n",
    "while True:\n",
    "        always active\n",
    "\n",
    "while 1:\n",
    "        always active"
   ]
  },
  {
   "cell_type": "markdown",
   "id": "36439bf5-1535-4db5-8311-3582566dd371",
   "metadata": {},
   "source": [
    "keyboard(STDIN)---input()----->python ---- print()-----> Monitor(stdout)\n"
   ]
  },
  {
   "cell_type": "markdown",
   "id": "f9cddfff-3c0b-4756-b491-ff9a24e38281",
   "metadata": {},
   "source": [
    "Task\n",
    "====\n",
    "Q1. Write a program\n",
    "\n",
    "step1: read a username from <STDIN>\n",
    "step2 : display the username in titlecase format and string length\n",
    "\n",
    "Note:- validate--> input is empty\n",
    "                --> input is not string\n",
    "\n",
    "Q2. Write a program\n",
    "\n",
    "step1: create an empty list\n",
    "step2: using while loop- 5 times\n",
    "step3: read hostname from <STDIN>\n",
    "step4: add input hostname to the existing list\n",
    "step5: using for loop- display host details in below format\n",
    "\n",
    "1.host01\n",
    "2.host02\n",
    "3.host03\n",
    "4.host04.example.com\n"
   ]
  },
  {
   "cell_type": "code",
   "execution_count": 1,
   "id": "14c7a283-a264-44ec-9c57-5b3f85c03755",
   "metadata": {},
   "outputs": [
    {
     "name": "stdin",
     "output_type": "stream",
     "text": [
      "Enter a username  \n"
     ]
    },
    {
     "name": "stdout",
     "output_type": "stream",
     "text": [
      "Invalid format\n",
      "Hello ... \n"
     ]
    }
   ],
   "source": [
    "'''\n",
    "Task\n",
    "====\n",
    "Q1. Write a program\n",
    "\n",
    "step1: read a username from <STDIN>\n",
    "step2 : display the username in titlecase format and string length\n",
    "\n",
    "Note:- validate--> input is empty\n",
    "                --> input is not string\n",
    "'''\n",
    "name= input(\"Enter a username\")\n",
    "if not (name):\n",
    "    print(\"Empty string\")\n",
    "    exit()\n",
    "if not (name.isalpha()):\n",
    "    print(\"Invalid format\")\n",
    "    exit()\n",
    "\n",
    "if name:\n",
    "    print(\"Hello ...{}\".format(name.title()))\n",
    "\n"
   ]
  },
  {
   "cell_type": "code",
   "execution_count": null,
   "id": "417b23ac-d7c9-4119-83fa-7393b23ec375",
   "metadata": {},
   "outputs": [],
   "source": [
    "conditional statement - execute code once based on condition\n",
    "1. if          ---> \n",
    "2. if..else     --->\n",
    "3. if..elif..else  --->"
   ]
  },
  {
   "cell_type": "code",
   "execution_count": null,
   "id": "f07ce523-d6ee-45cf-9eec-92610b560fb9",
   "metadata": {},
   "outputs": [],
   "source": [
    "exit()  quit()   break, continue - exit from a loop"
   ]
  },
  {
   "cell_type": "code",
   "execution_count": 1,
   "id": "ba9d8087-7f66-43d2-8cd9-f5d1fcf95c50",
   "metadata": {},
   "outputs": [
    {
     "name": "stdout",
     "output_type": "stream",
     "text": [
      "A.size:0\n"
     ]
    },
    {
     "name": "stdin",
     "output_type": "stream",
     "text": [
      "Enter a hostname: host01\n",
      "Enter a hostname: host02\n",
      "Enter a hostname: host03.example.com\n",
      "Enter a hostname: host04\n",
      "Enter a hostname: host05\n"
     ]
    },
    {
     "name": "stdout",
     "output_type": "stream",
     "text": [
      "B.size:5\n",
      "1.host01\n",
      "2.host02\n",
      "3.host03.example.com\n",
      "4.host04\n",
      "5.host05\n",
      "---------------\n",
      "Total no. of host :5\n",
      "---------------\n"
     ]
    }
   ],
   "source": [
    "'''\n",
    "Q2. Write a program\n",
    "\n",
    "step1: create an empty list\n",
    "step2: using while loop- 5 times\n",
    "step3: read hostname from <STDIN>\n",
    "step4: add input hostname to the existing list\n",
    "step5: using for loop- display host details in below format\n",
    "\n",
    "1.host01\n",
    "2.host02\n",
    "3.host03\n",
    "4.host04.example.com\n",
    "'''\n",
    "host=[]\n",
    "print(\"A.size:{}\".format(len(host)))\n",
    "\n",
    "c=0\n",
    "while c<5:\n",
    "    v= input(\"Enter a hostname:\")\n",
    "    host.append(v) # add new item to my existing list\n",
    "    c = c+1\n",
    "\n",
    "print(\"B.size:{}\".format(len(host)))\n",
    "\n",
    "i=0\n",
    "for var in host:\n",
    "    i=i+1\n",
    "    print(\"{}.{}\".format(i,var))     #   print(f\"{i}.{var}\".format())\n",
    "else:\n",
    "    print(\"-\"*15)\n",
    "    print(\"Total no. of host :{}\".format(i))\n",
    "    print(\"-\"*15)\n",
    "    "
   ]
  },
  {
   "cell_type": "code",
   "execution_count": 3,
   "id": "face29ea-f0e4-4a70-ab49-2ea17fd31018",
   "metadata": {},
   "outputs": [
    {
     "data": {
      "text/plain": [
       "['interface', 'etho']"
      ]
     },
     "execution_count": 3,
     "metadata": {},
     "output_type": "execute_result"
    }
   ],
   "source": [
    "d={}\n",
    "s=\"interface=etho\"\n",
    "L=s.split(\"=\") # single str to list of str\n",
    "K=L[0]\n",
    "V=L[1]\n",
    "d[K]=V   #  or dictname.setdefault(K,V)\n",
    "\n",
    "# (or)\n",
    "\n",
    "L=split(\"=\")\n",
    "d[L[0]]=L[1]\n",
    "\n",
    "#(or)\n",
    "\n",
    "k=s.split(\"=\")[0]\n",
    "v=s.split(\"=\")[1]\n",
    "d[k]=v\n",
    "\n",
    "#(or)\n",
    "k,v=s.split(\"=\") # multiple initialization\n",
    "d[k]=v"
   ]
  },
  {
   "cell_type": "code",
   "execution_count": null,
   "id": "f7cdf5a1-b621-416d-8e47-c92b33824d2f",
   "metadata": {},
   "outputs": [],
   "source": [
    "Q3. write a python program:\n",
    "\n",
    "step1: create an empty dict\n",
    "step2: using for loop with range() - 5 times\n",
    "read network parameters from <STDIN> \n",
    "split inputstring to multiple str based on delimeter (=)\n",
    "add splitted data to  existing dict (list--> 0th index as key  list--->1st index as value)\n",
    "\n",
    "step 3: display - dict details  ( key:value)\n",
    "step 4: update network param - display updated details\n"
   ]
  },
  {
   "cell_type": "code",
   "execution_count": 5,
   "id": "aa63c0cc-ee0d-40ce-8ab0-f0ccd3f224de",
   "metadata": {},
   "outputs": [
    {
     "name": "stdin",
     "output_type": "stream",
     "text": [
      "Enter a network parameter: interface=eth0\n",
      "Enter a network parameter: onboot=yes\n",
      "Enter a network parameter: bootproto=dhcp\n",
      "Enter a network parameter: prefix=24\n",
      "Enter a network parameter: dns1=13.11.11.2\n"
     ]
    }
   ],
   "source": [
    "d={} #empty dict creation\n",
    "for v in range(5):\n",
    "    var=input(\"Enter a network parameter:\")\n",
    "    K,V=var.split(\"=\") # split single value to multiple value\n",
    "    d[K]=V  # d.setdefault(K,V)     # add new item to an existing dict"
   ]
  },
  {
   "cell_type": "code",
   "execution_count": 7,
   "id": "66415db6-0965-4808-9afb-109a1984961a",
   "metadata": {},
   "outputs": [
    {
     "name": "stdout",
     "output_type": "stream",
     "text": [
      "interface-eth0\n",
      "onboot-yes\n",
      "bootproto-dhcp\n",
      "prefix-24\n",
      "dns1-13.11.11.2\n"
     ]
    }
   ],
   "source": [
    "for var in d:\n",
    "    print(f\"{var}-{d[var]}\".format())   # d.get(var)"
   ]
  },
  {
   "cell_type": "code",
   "execution_count": 9,
   "id": "a3f54f7b-63d0-4628-81df-bfd7f5ac4613",
   "metadata": {},
   "outputs": [],
   "source": [
    "d[\"bootproto\"]=\"None\"  # modification\n",
    "d[\"dns2\"]= \"145.23.2.23\"  # adding new data to an existing dict"
   ]
  },
  {
   "cell_type": "code",
   "execution_count": 11,
   "id": "aac52817-f746-4ec2-96c1-4572aecb4cf1",
   "metadata": {},
   "outputs": [
    {
     "name": "stdout",
     "output_type": "stream",
     "text": [
      "interface-eth0\n",
      "onboot-yes\n",
      "bootproto-None\n",
      "prefix-24\n",
      "dns1-13.11.11.2\n",
      "dns2-145.23.2.23\n"
     ]
    }
   ],
   "source": [
    "for var in d.keys():\n",
    "    print(\"{}-{}\".format(var,d.get(var)))"
   ]
  },
  {
   "cell_type": "raw",
   "id": "a86ba8d2-ec88-47b2-99b8-dfe136335f4d",
   "metadata": {},
   "source": [
    "range(5)-> returns list python 2.x\n",
    "range(5) -> rangeType in python 3.x\n",
    "\n"
   ]
  },
  {
   "cell_type": "code",
   "execution_count": 13,
   "id": "77d66f84-dc63-4e62-8bd0-8fadf03c4f7d",
   "metadata": {},
   "outputs": [
    {
     "data": {
      "text/plain": [
       "range(0, 5)"
      ]
     },
     "execution_count": 13,
     "metadata": {},
     "output_type": "execute_result"
    }
   ],
   "source": [
    "range(5)   # 0,1..4"
   ]
  },
  {
   "cell_type": "code",
   "execution_count": 15,
   "id": "87fc6494-5114-4015-bf6e-02e5d63749b7",
   "metadata": {},
   "outputs": [
    {
     "name": "stdout",
     "output_type": "stream",
     "text": [
      "range(0, 5)\n"
     ]
    }
   ],
   "source": [
    "print(range(5))  # iterator->"
   ]
  },
  {
   "cell_type": "code",
   "execution_count": null,
   "id": "4ce49464-6d51-446b-b880-3feeb3f1f6ba",
   "metadata": {},
   "outputs": [],
   "source": [
    "for i in [0,1,2,3,4]:  vs   for i in range(5):\n",
    "\n",
    "\n",
    "range(n)---> 0....(n-1)\n",
    "range(n,m) ---> n...(m-1)\n",
    "range(n,m,i) ---> n...(m-1) step of i"
   ]
  },
  {
   "cell_type": "code",
   "execution_count": 17,
   "id": "1c840257-bebb-40db-a5f8-9483bfd983ee",
   "metadata": {},
   "outputs": [
    {
     "data": {
      "text/plain": [
       "dict_keys(['interface', 'onboot', 'bootproto', 'prefix', 'dns1', 'dns2'])"
      ]
     },
     "execution_count": 17,
     "metadata": {},
     "output_type": "execute_result"
    }
   ],
   "source": [
    "d.keys()"
   ]
  },
  {
   "cell_type": "code",
   "execution_count": 19,
   "id": "6b29dab2-696e-47aa-9d51-3f599df16b32",
   "metadata": {},
   "outputs": [
    {
     "data": {
      "text/plain": [
       "dict_items([('interface', 'eth0'), ('onboot', 'yes'), ('bootproto', 'None'), ('prefix', '24'), ('dns1', '13.11.11.2'), ('dns2', '145.23.2.23')])"
      ]
     },
     "execution_count": 19,
     "metadata": {},
     "output_type": "execute_result"
    }
   ],
   "source": [
    "d.items()"
   ]
  },
  {
   "cell_type": "code",
   "execution_count": 35,
   "id": "529047f3-cf90-4c50-993d-12a861ba0689",
   "metadata": {},
   "outputs": [
    {
     "ename": "KeyboardInterrupt",
     "evalue": "",
     "output_type": "error",
     "traceback": [
      "\u001b[1;31m---------------------------------------------------------------------------\u001b[0m",
      "\u001b[1;31mKeyboardInterrupt\u001b[0m                         Traceback (most recent call last)",
      "Cell \u001b[1;32mIn[35], line 4\u001b[0m\n\u001b[0;32m      2\u001b[0m \u001b[38;5;28;01mfor\u001b[39;00m i \u001b[38;5;129;01min\u001b[39;00m words:   \n\u001b[0;32m      3\u001b[0m     \u001b[38;5;28;01mif\u001b[39;00m \u001b[38;5;28mlen\u001b[39m(i)\u001b[38;5;241m>\u001b[39m\u001b[38;5;241m5\u001b[39m:\n\u001b[1;32m----> 4\u001b[0m         words\u001b[38;5;241m.\u001b[39minsert(\u001b[38;5;241m0\u001b[39m,\u001b[38;5;124m\"\u001b[39m\u001b[38;5;124mstop\u001b[39m\u001b[38;5;124m\"\u001b[39m)\n",
      "\u001b[1;31mKeyboardInterrupt\u001b[0m: "
     ]
    }
   ],
   "source": [
    "# updation of mutable collection during iteration\n",
    "words=[\"nap\",\"mat\",\"cat\",\"tap\",\"absolute\"]\n",
    "for i in words:   \n",
    "    if len(i)>5:\n",
    "        words.insert(0,\"stop\")   # list.insert(index,value)\n",
    "        "
   ]
  },
  {
   "cell_type": "code",
   "execution_count": 37,
   "id": "cbe7a290-0267-4bc6-adcd-bf8e0f3289b8",
   "metadata": {},
   "outputs": [
    {
     "data": {
      "text/plain": [
       "['stop',\n",
       " 'stop',\n",
       " 'stop',\n",
       " 'stop',\n",
       " 'stop',\n",
       " 'stop',\n",
       " 'stop',\n",
       " 'stop',\n",
       " 'stop',\n",
       " 'stop',\n",
       " 'stop',\n",
       " 'stop',\n",
       " 'stop',\n",
       " 'stop',\n",
       " 'stop',\n",
       " 'stop',\n",
       " 'stop',\n",
       " 'stop',\n",
       " 'stop',\n",
       " 'stop',\n",
       " 'stop',\n",
       " 'stop',\n",
       " 'stop',\n",
       " 'stop',\n",
       " 'stop',\n",
       " 'stop',\n",
       " 'stop',\n",
       " 'stop',\n",
       " 'stop',\n",
       " 'stop',\n",
       " 'stop',\n",
       " 'stop',\n",
       " 'stop',\n",
       " 'stop',\n",
       " 'stop',\n",
       " 'stop',\n",
       " 'stop',\n",
       " 'stop',\n",
       " 'stop',\n",
       " 'stop',\n",
       " 'stop',\n",
       " 'stop',\n",
       " 'stop',\n",
       " 'stop',\n",
       " 'stop',\n",
       " 'stop',\n",
       " 'stop',\n",
       " 'stop',\n",
       " 'stop',\n",
       " 'stop',\n",
       " 'stop',\n",
       " 'stop',\n",
       " 'stop',\n",
       " 'stop',\n",
       " 'stop',\n",
       " 'stop',\n",
       " 'stop',\n",
       " 'stop',\n",
       " 'stop',\n",
       " 'stop',\n",
       " 'stop',\n",
       " 'stop',\n",
       " 'stop',\n",
       " 'stop',\n",
       " 'stop',\n",
       " 'stop',\n",
       " 'stop',\n",
       " 'stop',\n",
       " 'stop',\n",
       " 'stop',\n",
       " 'stop',\n",
       " 'stop',\n",
       " 'stop',\n",
       " 'stop',\n",
       " 'stop',\n",
       " 'stop',\n",
       " 'stop',\n",
       " 'stop',\n",
       " 'stop',\n",
       " 'stop',\n",
       " 'stop',\n",
       " 'stop',\n",
       " 'stop',\n",
       " 'stop',\n",
       " 'stop',\n",
       " 'stop',\n",
       " 'stop',\n",
       " 'stop',\n",
       " 'stop',\n",
       " 'stop',\n",
       " 'stop',\n",
       " 'stop',\n",
       " 'stop',\n",
       " 'stop',\n",
       " 'stop',\n",
       " 'stop',\n",
       " 'stop',\n",
       " 'stop',\n",
       " 'stop',\n",
       " 'stop',\n",
       " 'stop',\n",
       " 'stop',\n",
       " 'stop',\n",
       " 'stop',\n",
       " 'stop',\n",
       " 'stop',\n",
       " 'stop',\n",
       " 'stop',\n",
       " 'stop',\n",
       " 'stop',\n",
       " 'stop',\n",
       " 'stop',\n",
       " 'stop',\n",
       " 'stop',\n",
       " 'stop',\n",
       " 'stop',\n",
       " 'stop',\n",
       " 'stop',\n",
       " 'stop',\n",
       " 'stop',\n",
       " 'stop',\n",
       " 'stop',\n",
       " 'stop',\n",
       " 'stop',\n",
       " 'stop',\n",
       " 'stop',\n",
       " 'stop',\n",
       " 'stop',\n",
       " 'stop',\n",
       " 'stop',\n",
       " 'stop',\n",
       " 'stop',\n",
       " 'stop',\n",
       " 'stop',\n",
       " 'stop',\n",
       " 'stop',\n",
       " 'stop',\n",
       " 'stop',\n",
       " 'stop',\n",
       " 'stop',\n",
       " 'stop',\n",
       " 'stop',\n",
       " 'stop',\n",
       " 'stop',\n",
       " 'stop',\n",
       " 'stop',\n",
       " 'stop',\n",
       " 'stop',\n",
       " 'stop',\n",
       " 'stop',\n",
       " 'stop',\n",
       " 'stop',\n",
       " 'stop',\n",
       " 'stop',\n",
       " 'stop',\n",
       " 'stop',\n",
       " 'stop',\n",
       " 'stop',\n",
       " 'stop',\n",
       " 'stop',\n",
       " 'stop',\n",
       " 'stop',\n",
       " 'stop',\n",
       " 'stop',\n",
       " 'stop',\n",
       " 'stop',\n",
       " 'stop',\n",
       " 'stop',\n",
       " 'stop',\n",
       " 'stop',\n",
       " 'stop',\n",
       " 'stop',\n",
       " 'stop',\n",
       " 'stop',\n",
       " 'stop',\n",
       " 'stop',\n",
       " 'stop',\n",
       " 'stop',\n",
       " 'stop',\n",
       " 'stop',\n",
       " 'stop',\n",
       " 'stop',\n",
       " 'stop',\n",
       " 'stop',\n",
       " 'stop',\n",
       " 'stop',\n",
       " 'stop',\n",
       " 'stop',\n",
       " 'stop',\n",
       " 'stop',\n",
       " 'stop',\n",
       " 'stop',\n",
       " 'stop',\n",
       " 'stop',\n",
       " 'stop',\n",
       " 'stop',\n",
       " 'stop',\n",
       " 'stop',\n",
       " 'stop',\n",
       " 'stop',\n",
       " 'stop',\n",
       " 'stop',\n",
       " 'stop',\n",
       " 'stop',\n",
       " 'stop',\n",
       " 'stop',\n",
       " 'stop',\n",
       " 'stop',\n",
       " 'stop',\n",
       " 'stop',\n",
       " 'stop',\n",
       " 'stop',\n",
       " 'stop',\n",
       " 'stop',\n",
       " 'stop',\n",
       " 'stop',\n",
       " 'stop',\n",
       " 'stop',\n",
       " 'stop',\n",
       " 'stop',\n",
       " 'stop',\n",
       " 'stop',\n",
       " 'stop',\n",
       " 'stop',\n",
       " 'stop',\n",
       " 'stop',\n",
       " 'stop',\n",
       " 'stop',\n",
       " 'stop',\n",
       " 'stop',\n",
       " 'stop',\n",
       " 'stop',\n",
       " 'stop',\n",
       " 'stop',\n",
       " 'stop',\n",
       " 'stop',\n",
       " 'stop',\n",
       " 'stop',\n",
       " 'stop',\n",
       " 'stop',\n",
       " 'stop',\n",
       " 'stop',\n",
       " 'stop',\n",
       " 'stop',\n",
       " 'stop',\n",
       " 'stop',\n",
       " 'stop',\n",
       " 'stop',\n",
       " 'stop',\n",
       " 'stop',\n",
       " 'stop',\n",
       " 'stop',\n",
       " 'stop',\n",
       " 'stop',\n",
       " 'stop',\n",
       " 'stop',\n",
       " 'stop',\n",
       " 'stop',\n",
       " 'stop',\n",
       " 'stop',\n",
       " 'stop',\n",
       " 'stop',\n",
       " 'stop',\n",
       " 'stop',\n",
       " 'stop',\n",
       " 'stop',\n",
       " 'stop',\n",
       " 'stop',\n",
       " 'stop',\n",
       " 'stop',\n",
       " 'stop',\n",
       " 'stop',\n",
       " 'stop',\n",
       " 'stop',\n",
       " 'stop',\n",
       " 'stop',\n",
       " 'stop',\n",
       " 'stop',\n",
       " 'stop',\n",
       " 'stop',\n",
       " 'stop',\n",
       " 'stop',\n",
       " 'stop',\n",
       " 'stop',\n",
       " 'stop',\n",
       " 'stop',\n",
       " 'stop',\n",
       " 'stop',\n",
       " 'stop',\n",
       " 'stop',\n",
       " 'stop',\n",
       " 'stop',\n",
       " 'stop',\n",
       " 'stop',\n",
       " 'stop',\n",
       " 'stop',\n",
       " 'stop',\n",
       " 'stop',\n",
       " 'stop',\n",
       " 'stop',\n",
       " 'stop',\n",
       " 'stop',\n",
       " 'stop',\n",
       " 'stop',\n",
       " 'stop',\n",
       " 'stop',\n",
       " 'stop',\n",
       " 'stop',\n",
       " 'stop',\n",
       " 'stop',\n",
       " 'stop',\n",
       " 'stop',\n",
       " 'stop',\n",
       " 'stop',\n",
       " 'stop',\n",
       " 'stop',\n",
       " 'stop',\n",
       " 'stop',\n",
       " 'stop',\n",
       " 'stop',\n",
       " 'stop',\n",
       " 'stop',\n",
       " 'stop',\n",
       " 'stop',\n",
       " 'stop',\n",
       " 'stop',\n",
       " 'stop',\n",
       " 'stop',\n",
       " 'stop',\n",
       " 'stop',\n",
       " 'stop',\n",
       " 'stop',\n",
       " 'stop',\n",
       " 'stop',\n",
       " 'stop',\n",
       " 'stop',\n",
       " 'stop',\n",
       " 'stop',\n",
       " 'stop',\n",
       " 'stop',\n",
       " 'stop',\n",
       " 'stop',\n",
       " 'stop',\n",
       " 'stop',\n",
       " 'stop',\n",
       " 'stop',\n",
       " 'stop',\n",
       " 'stop',\n",
       " 'stop',\n",
       " 'stop',\n",
       " 'stop',\n",
       " 'stop',\n",
       " 'stop',\n",
       " 'stop',\n",
       " 'stop',\n",
       " 'stop',\n",
       " 'stop',\n",
       " 'stop',\n",
       " 'stop',\n",
       " 'stop',\n",
       " 'stop',\n",
       " 'stop',\n",
       " 'stop',\n",
       " 'stop',\n",
       " 'stop',\n",
       " 'stop',\n",
       " 'stop',\n",
       " 'stop',\n",
       " 'stop',\n",
       " 'stop',\n",
       " 'stop',\n",
       " 'stop',\n",
       " 'stop',\n",
       " 'stop',\n",
       " 'stop',\n",
       " 'stop',\n",
       " 'stop',\n",
       " 'stop',\n",
       " 'stop',\n",
       " 'stop',\n",
       " 'stop',\n",
       " 'stop',\n",
       " 'stop',\n",
       " 'stop',\n",
       " 'stop',\n",
       " 'stop',\n",
       " 'stop',\n",
       " 'stop',\n",
       " 'stop',\n",
       " 'stop',\n",
       " 'stop',\n",
       " 'stop',\n",
       " 'stop',\n",
       " 'stop',\n",
       " 'stop',\n",
       " 'stop',\n",
       " 'stop',\n",
       " 'stop',\n",
       " 'stop',\n",
       " 'stop',\n",
       " 'stop',\n",
       " 'stop',\n",
       " 'stop',\n",
       " 'stop',\n",
       " 'stop',\n",
       " 'stop',\n",
       " 'stop',\n",
       " 'stop',\n",
       " 'stop',\n",
       " 'stop',\n",
       " 'stop',\n",
       " 'stop',\n",
       " 'stop',\n",
       " 'stop',\n",
       " 'stop',\n",
       " 'stop',\n",
       " 'stop',\n",
       " 'stop',\n",
       " 'stop',\n",
       " 'stop',\n",
       " 'stop',\n",
       " 'stop',\n",
       " 'stop',\n",
       " 'stop',\n",
       " 'stop',\n",
       " 'stop',\n",
       " 'stop',\n",
       " 'stop',\n",
       " 'stop',\n",
       " 'stop',\n",
       " 'stop',\n",
       " 'stop',\n",
       " 'stop',\n",
       " 'stop',\n",
       " 'stop',\n",
       " 'stop',\n",
       " 'stop',\n",
       " 'stop',\n",
       " 'stop',\n",
       " 'stop',\n",
       " 'stop',\n",
       " 'stop',\n",
       " 'stop',\n",
       " 'stop',\n",
       " 'stop',\n",
       " 'stop',\n",
       " 'stop',\n",
       " 'stop',\n",
       " 'stop',\n",
       " 'stop',\n",
       " 'stop',\n",
       " 'stop',\n",
       " 'stop',\n",
       " 'stop',\n",
       " 'stop',\n",
       " 'stop',\n",
       " 'stop',\n",
       " 'stop',\n",
       " 'stop',\n",
       " 'stop',\n",
       " 'stop',\n",
       " 'stop',\n",
       " 'stop',\n",
       " 'stop',\n",
       " 'stop',\n",
       " 'stop',\n",
       " 'stop',\n",
       " 'stop',\n",
       " 'stop',\n",
       " 'stop',\n",
       " 'stop',\n",
       " 'stop',\n",
       " 'stop',\n",
       " 'stop',\n",
       " 'stop',\n",
       " 'stop',\n",
       " 'stop',\n",
       " 'stop',\n",
       " 'stop',\n",
       " 'stop',\n",
       " 'stop',\n",
       " 'stop',\n",
       " 'stop',\n",
       " 'stop',\n",
       " 'stop',\n",
       " 'stop',\n",
       " 'stop',\n",
       " 'stop',\n",
       " 'stop',\n",
       " 'stop',\n",
       " 'stop',\n",
       " 'stop',\n",
       " 'stop',\n",
       " 'stop',\n",
       " 'stop',\n",
       " 'stop',\n",
       " 'stop',\n",
       " 'stop',\n",
       " 'stop',\n",
       " 'stop',\n",
       " 'stop',\n",
       " 'stop',\n",
       " 'stop',\n",
       " 'stop',\n",
       " 'stop',\n",
       " 'stop',\n",
       " 'stop',\n",
       " 'stop',\n",
       " 'stop',\n",
       " 'stop',\n",
       " 'stop',\n",
       " 'stop',\n",
       " 'stop',\n",
       " 'stop',\n",
       " 'stop',\n",
       " 'stop',\n",
       " 'stop',\n",
       " 'stop',\n",
       " 'stop',\n",
       " 'stop',\n",
       " 'stop',\n",
       " 'stop',\n",
       " 'stop',\n",
       " 'stop',\n",
       " 'stop',\n",
       " 'stop',\n",
       " 'stop',\n",
       " 'stop',\n",
       " 'stop',\n",
       " 'stop',\n",
       " 'stop',\n",
       " 'stop',\n",
       " 'stop',\n",
       " 'stop',\n",
       " 'stop',\n",
       " 'stop',\n",
       " 'stop',\n",
       " 'stop',\n",
       " 'stop',\n",
       " 'stop',\n",
       " 'stop',\n",
       " 'stop',\n",
       " 'stop',\n",
       " 'stop',\n",
       " 'stop',\n",
       " 'stop',\n",
       " 'stop',\n",
       " 'stop',\n",
       " 'stop',\n",
       " 'stop',\n",
       " 'stop',\n",
       " 'stop',\n",
       " 'stop',\n",
       " 'stop',\n",
       " 'stop',\n",
       " 'stop',\n",
       " 'stop',\n",
       " 'stop',\n",
       " 'stop',\n",
       " 'stop',\n",
       " 'stop',\n",
       " 'stop',\n",
       " 'stop',\n",
       " 'stop',\n",
       " 'stop',\n",
       " 'stop',\n",
       " 'stop',\n",
       " 'stop',\n",
       " 'stop',\n",
       " 'stop',\n",
       " 'stop',\n",
       " 'stop',\n",
       " 'stop',\n",
       " 'stop',\n",
       " 'stop',\n",
       " 'stop',\n",
       " 'stop',\n",
       " 'stop',\n",
       " 'stop',\n",
       " 'stop',\n",
       " 'stop',\n",
       " 'stop',\n",
       " 'stop',\n",
       " 'stop',\n",
       " 'stop',\n",
       " 'stop',\n",
       " 'stop',\n",
       " 'stop',\n",
       " 'stop',\n",
       " 'stop',\n",
       " 'stop',\n",
       " 'stop',\n",
       " 'stop',\n",
       " 'stop',\n",
       " 'stop',\n",
       " 'stop',\n",
       " 'stop',\n",
       " 'stop',\n",
       " 'stop',\n",
       " 'stop',\n",
       " 'stop',\n",
       " 'stop',\n",
       " 'stop',\n",
       " 'stop',\n",
       " 'stop',\n",
       " 'stop',\n",
       " 'stop',\n",
       " 'stop',\n",
       " 'stop',\n",
       " 'stop',\n",
       " 'stop',\n",
       " 'stop',\n",
       " 'stop',\n",
       " 'stop',\n",
       " 'stop',\n",
       " 'stop',\n",
       " 'stop',\n",
       " 'stop',\n",
       " 'stop',\n",
       " 'stop',\n",
       " 'stop',\n",
       " 'stop',\n",
       " 'stop',\n",
       " 'stop',\n",
       " 'stop',\n",
       " 'stop',\n",
       " 'stop',\n",
       " 'stop',\n",
       " 'stop',\n",
       " 'stop',\n",
       " 'stop',\n",
       " 'stop',\n",
       " 'stop',\n",
       " 'stop',\n",
       " 'stop',\n",
       " 'stop',\n",
       " 'stop',\n",
       " 'stop',\n",
       " 'stop',\n",
       " 'stop',\n",
       " 'stop',\n",
       " 'stop',\n",
       " 'stop',\n",
       " 'stop',\n",
       " 'stop',\n",
       " 'stop',\n",
       " 'stop',\n",
       " 'stop',\n",
       " 'stop',\n",
       " 'stop',\n",
       " 'stop',\n",
       " 'stop',\n",
       " 'stop',\n",
       " 'stop',\n",
       " 'stop',\n",
       " 'stop',\n",
       " 'stop',\n",
       " 'stop',\n",
       " 'stop',\n",
       " 'stop',\n",
       " 'stop',\n",
       " 'stop',\n",
       " 'stop',\n",
       " 'stop',\n",
       " 'stop',\n",
       " 'stop',\n",
       " 'stop',\n",
       " 'stop',\n",
       " 'stop',\n",
       " 'stop',\n",
       " 'stop',\n",
       " 'stop',\n",
       " 'stop',\n",
       " 'stop',\n",
       " 'stop',\n",
       " 'stop',\n",
       " 'stop',\n",
       " 'stop',\n",
       " 'stop',\n",
       " 'stop',\n",
       " 'stop',\n",
       " 'stop',\n",
       " 'stop',\n",
       " 'stop',\n",
       " 'stop',\n",
       " 'stop',\n",
       " 'stop',\n",
       " 'stop',\n",
       " 'stop',\n",
       " 'stop',\n",
       " 'stop',\n",
       " 'stop',\n",
       " 'stop',\n",
       " 'stop',\n",
       " 'stop',\n",
       " 'stop',\n",
       " 'stop',\n",
       " 'stop',\n",
       " 'stop',\n",
       " 'stop',\n",
       " 'stop',\n",
       " 'stop',\n",
       " 'stop',\n",
       " 'stop',\n",
       " 'stop',\n",
       " 'stop',\n",
       " 'stop',\n",
       " 'stop',\n",
       " 'stop',\n",
       " 'stop',\n",
       " 'stop',\n",
       " 'stop',\n",
       " 'stop',\n",
       " 'stop',\n",
       " 'stop',\n",
       " 'stop',\n",
       " 'stop',\n",
       " 'stop',\n",
       " 'stop',\n",
       " 'stop',\n",
       " 'stop',\n",
       " 'stop',\n",
       " 'stop',\n",
       " 'stop',\n",
       " 'stop',\n",
       " 'stop',\n",
       " 'stop',\n",
       " 'stop',\n",
       " 'stop',\n",
       " 'stop',\n",
       " 'stop',\n",
       " 'stop',\n",
       " 'stop',\n",
       " 'stop',\n",
       " 'stop',\n",
       " 'stop',\n",
       " 'stop',\n",
       " 'stop',\n",
       " 'stop',\n",
       " 'stop',\n",
       " 'stop',\n",
       " 'stop',\n",
       " 'stop',\n",
       " 'stop',\n",
       " 'stop',\n",
       " 'stop',\n",
       " 'stop',\n",
       " 'stop',\n",
       " 'stop',\n",
       " 'stop',\n",
       " 'stop',\n",
       " 'stop',\n",
       " 'stop',\n",
       " 'stop',\n",
       " 'stop',\n",
       " 'stop',\n",
       " 'stop',\n",
       " 'stop',\n",
       " 'stop',\n",
       " 'stop',\n",
       " 'stop',\n",
       " 'stop',\n",
       " 'stop',\n",
       " 'stop',\n",
       " 'stop',\n",
       " 'stop',\n",
       " 'stop',\n",
       " 'stop',\n",
       " 'stop',\n",
       " 'stop',\n",
       " 'stop',\n",
       " 'stop',\n",
       " 'stop',\n",
       " 'stop',\n",
       " 'stop',\n",
       " 'stop',\n",
       " 'stop',\n",
       " 'stop',\n",
       " 'stop',\n",
       " 'stop',\n",
       " 'stop',\n",
       " 'stop',\n",
       " 'stop',\n",
       " 'stop',\n",
       " 'stop',\n",
       " 'stop',\n",
       " 'stop',\n",
       " 'stop',\n",
       " 'stop',\n",
       " 'stop',\n",
       " 'stop',\n",
       " 'stop',\n",
       " 'stop',\n",
       " 'stop',\n",
       " 'stop',\n",
       " 'stop',\n",
       " 'stop',\n",
       " 'stop',\n",
       " 'stop',\n",
       " 'stop',\n",
       " 'stop',\n",
       " 'stop',\n",
       " 'stop',\n",
       " 'stop',\n",
       " 'stop',\n",
       " 'stop',\n",
       " 'stop',\n",
       " 'stop',\n",
       " 'stop',\n",
       " 'stop',\n",
       " 'stop',\n",
       " 'stop',\n",
       " 'stop',\n",
       " 'stop',\n",
       " 'stop',\n",
       " 'stop',\n",
       " 'stop',\n",
       " 'stop',\n",
       " 'stop',\n",
       " 'stop',\n",
       " 'stop',\n",
       " 'stop',\n",
       " 'stop',\n",
       " 'stop',\n",
       " 'stop',\n",
       " 'stop',\n",
       " 'stop',\n",
       " 'stop',\n",
       " 'stop',\n",
       " 'stop',\n",
       " 'stop',\n",
       " 'stop',\n",
       " 'stop',\n",
       " 'stop',\n",
       " 'stop',\n",
       " 'stop',\n",
       " 'stop',\n",
       " 'stop',\n",
       " 'stop',\n",
       " 'stop',\n",
       " 'stop',\n",
       " 'stop',\n",
       " 'stop',\n",
       " 'stop',\n",
       " 'stop',\n",
       " 'stop',\n",
       " 'stop',\n",
       " 'stop',\n",
       " 'stop',\n",
       " 'stop',\n",
       " 'stop',\n",
       " 'stop',\n",
       " 'stop',\n",
       " 'stop',\n",
       " 'stop',\n",
       " 'stop',\n",
       " 'stop',\n",
       " 'stop',\n",
       " 'stop',\n",
       " 'stop',\n",
       " 'stop',\n",
       " 'stop',\n",
       " 'stop',\n",
       " 'stop',\n",
       " 'stop',\n",
       " 'stop',\n",
       " 'stop',\n",
       " 'stop',\n",
       " 'stop',\n",
       " 'stop',\n",
       " 'stop',\n",
       " 'stop',\n",
       " 'stop',\n",
       " 'stop',\n",
       " 'stop',\n",
       " 'stop',\n",
       " 'stop',\n",
       " 'stop',\n",
       " 'stop',\n",
       " 'stop',\n",
       " 'stop',\n",
       " 'stop',\n",
       " 'stop',\n",
       " 'stop',\n",
       " 'stop',\n",
       " 'stop',\n",
       " 'stop',\n",
       " 'stop',\n",
       " 'stop',\n",
       " 'stop',\n",
       " 'stop',\n",
       " 'stop',\n",
       " 'stop',\n",
       " 'stop',\n",
       " 'stop',\n",
       " 'stop',\n",
       " 'stop',\n",
       " 'stop',\n",
       " 'stop',\n",
       " 'stop',\n",
       " 'stop',\n",
       " 'stop',\n",
       " 'stop',\n",
       " 'stop',\n",
       " 'stop',\n",
       " 'stop',\n",
       " 'stop',\n",
       " 'stop',\n",
       " 'stop',\n",
       " 'stop',\n",
       " 'stop',\n",
       " 'stop',\n",
       " 'stop',\n",
       " 'stop',\n",
       " 'stop',\n",
       " 'stop',\n",
       " 'stop',\n",
       " 'stop',\n",
       " 'stop',\n",
       " 'stop',\n",
       " 'stop',\n",
       " 'stop',\n",
       " 'stop',\n",
       " 'stop',\n",
       " 'stop',\n",
       " 'stop',\n",
       " 'stop',\n",
       " 'stop',\n",
       " 'stop',\n",
       " 'stop',\n",
       " 'stop',\n",
       " 'stop',\n",
       " 'stop',\n",
       " 'stop',\n",
       " 'stop',\n",
       " 'stop',\n",
       " 'stop',\n",
       " 'stop',\n",
       " 'stop',\n",
       " 'stop',\n",
       " 'stop',\n",
       " 'stop',\n",
       " 'stop',\n",
       " 'stop',\n",
       " 'stop',\n",
       " 'stop',\n",
       " 'stop',\n",
       " 'stop',\n",
       " 'stop',\n",
       " 'stop',\n",
       " 'stop',\n",
       " 'stop',\n",
       " 'stop',\n",
       " 'stop',\n",
       " 'stop',\n",
       " 'stop',\n",
       " 'stop',\n",
       " 'stop',\n",
       " 'stop',\n",
       " 'stop',\n",
       " 'stop',\n",
       " 'stop',\n",
       " 'stop',\n",
       " 'stop',\n",
       " 'stop',\n",
       " 'stop',\n",
       " 'stop',\n",
       " 'stop',\n",
       " 'stop',\n",
       " 'stop',\n",
       " 'stop',\n",
       " 'stop',\n",
       " 'stop',\n",
       " 'stop',\n",
       " 'stop',\n",
       " 'stop',\n",
       " 'stop',\n",
       " 'stop',\n",
       " 'stop',\n",
       " 'stop',\n",
       " 'stop',\n",
       " 'stop',\n",
       " 'stop',\n",
       " 'stop',\n",
       " 'stop',\n",
       " 'stop',\n",
       " 'stop',\n",
       " 'stop',\n",
       " 'stop',\n",
       " 'stop',\n",
       " 'stop',\n",
       " 'stop',\n",
       " 'stop',\n",
       " 'stop',\n",
       " 'stop',\n",
       " 'stop',\n",
       " 'stop',\n",
       " 'stop',\n",
       " 'stop',\n",
       " 'stop',\n",
       " ...]"
      ]
     },
     "execution_count": 37,
     "metadata": {},
     "output_type": "execute_result"
    }
   ],
   "source": [
    "words"
   ]
  },
  {
   "cell_type": "code",
   "execution_count": 31,
   "id": "bba2550a-ffb7-43ba-bb6a-64a89ef24ac6",
   "metadata": {},
   "outputs": [],
   "source": [
    "words=[\"nap\",\"mat\",\"cat\",\"tap\",\"absolute\"]\n",
    "for i in words[:]:   \n",
    "    if len(i)>5:\n",
    "        words.insert(0,\"stop\")"
   ]
  },
  {
   "cell_type": "code",
   "execution_count": 33,
   "id": "a56c4a23-8a6e-4007-8060-76d34439a01f",
   "metadata": {},
   "outputs": [
    {
     "data": {
      "text/plain": [
       "['stop', 'nap', 'mat', 'cat', 'tap', 'absolute']"
      ]
     },
     "execution_count": 33,
     "metadata": {},
     "output_type": "execute_result"
    }
   ],
   "source": [
    "words"
   ]
  },
  {
   "cell_type": "code",
   "execution_count": 27,
   "id": "c04ffd86-0ffd-4533-bde0-4668c733776b",
   "metadata": {},
   "outputs": [
    {
     "data": {
      "text/plain": [
       "[2, 3]"
      ]
     },
     "execution_count": 27,
     "metadata": {},
     "output_type": "execute_result"
    }
   ],
   "source": [
    "l=[1,2,3,4,5]\n",
    "l[1:3]  # creating a new list n to (m-1)"
   ]
  },
  {
   "cell_type": "code",
   "execution_count": 29,
   "id": "9f012aba-d853-4f73-a938-01b9b8acbd08",
   "metadata": {},
   "outputs": [
    {
     "data": {
      "text/plain": [
       "[1, 2, 3, 4, 5]"
      ]
     },
     "execution_count": 29,
     "metadata": {},
     "output_type": "execute_result"
    }
   ],
   "source": [
    "l[:]   # copy of original list"
   ]
  },
  {
   "cell_type": "code",
   "execution_count": null,
   "id": "b88d7058-34d7-490c-9fc8-ff52ea33f458",
   "metadata": {},
   "outputs": [],
   "source": [
    "\n",
    "recap: list,tuple,dict - 1D\n",
    "ordered\n",
    "    list- mutable- index\n",
    "    tuple - immutable - index\n",
    "unordered\n",
    "dict - value is mutable whereas key is immutable - key:value\n",
    "-----------------------------------\n",
    "\n",
    "list of list/tuple/dict\n",
    "\n",
    "tuple of list/tuple/dict\n",
    "\n",
    "dict of list/tuple/dict\n",
    "\n",
    "===     ================\n",
    "|          |\n",
    "name     unnamed\n",
    "\n",
    "L=[[],(),{} ]\n",
    "    |  |  |--------L[2]\n",
    "  L[0] | \n",
    "       L[1]\n",
    "\n",
    "T=([],(),{})      # invalid -> T.append({})\n",
    "   T[0]=[3]  (or) T[0].append(3)   # valid\n",
    "\n",
    "d={key:value}  --> d={\"k1\":[],\"k2\":(), \"k3\":{}}\n",
    "                            |                |\n",
    "                        d[\"k1\"]             d[\"k3\"]\n"
   ]
  },
  {
   "cell_type": "code",
   "execution_count": 43,
   "id": "6ef25762-1f51-4025-a0fa-fd0b322b9fc6",
   "metadata": {},
   "outputs": [
    {
     "name": "stdout",
     "output_type": "stream",
     "text": [
      "[10, 1.33, ['Linux', 'aix', 'unix']]\n"
     ]
    }
   ],
   "source": [
    "L=[]\n",
    "L.append(10) # [10]\n",
    "L.append(1.33) # [10,1.33]\n",
    "\n",
    "L.append(['Linux','aix','unix'])   # [10,1.33,['Linux',aix,unix']]\n",
    "print(L)"
   ]
  },
  {
   "cell_type": "code",
   "execution_count": 45,
   "id": "d0dbda98-953c-4438-bd1d-85d3e9e0dadb",
   "metadata": {},
   "outputs": [
    {
     "data": {
      "text/plain": [
       "['Linux', 'aix', 'unix']"
      ]
     },
     "execution_count": 45,
     "metadata": {},
     "output_type": "execute_result"
    }
   ],
   "source": [
    "L[2] "
   ]
  },
  {
   "cell_type": "code",
   "execution_count": 47,
   "id": "fc37ef80-2b6a-4082-8bd6-5fa325a1a910",
   "metadata": {},
   "outputs": [
    {
     "data": {
      "text/plain": [
       "['Linux', 'aix', 'unix']"
      ]
     },
     "execution_count": 47,
     "metadata": {},
     "output_type": "execute_result"
    }
   ],
   "source": [
    "L[-1]"
   ]
  },
  {
   "cell_type": "code",
   "execution_count": 49,
   "id": "5592b535-97b8-4d17-aacc-5880a92172c1",
   "metadata": {},
   "outputs": [
    {
     "data": {
      "text/plain": [
       "[10, 1.33, ['Linux', 'aix', 'unix']]"
      ]
     },
     "execution_count": 49,
     "metadata": {},
     "output_type": "execute_result"
    }
   ],
   "source": [
    "L"
   ]
  },
  {
   "cell_type": "code",
   "execution_count": 51,
   "id": "e9a42cd2-d236-4116-97f0-e9604583bc66",
   "metadata": {},
   "outputs": [
    {
     "data": {
      "text/plain": [
       "['Linux', 'aix', 'unix']"
      ]
     },
     "execution_count": 51,
     "metadata": {},
     "output_type": "execute_result"
    }
   ],
   "source": [
    "L[2]"
   ]
  },
  {
   "cell_type": "code",
   "execution_count": 53,
   "id": "583d3a05-d423-4ae7-b67a-546c81e1aa36",
   "metadata": {},
   "outputs": [
    {
     "data": {
      "text/plain": [
       "'Linux'"
      ]
     },
     "execution_count": 53,
     "metadata": {},
     "output_type": "execute_result"
    }
   ],
   "source": [
    "L[2][0]"
   ]
  },
  {
   "cell_type": "code",
   "execution_count": 55,
   "id": "77d6a21e-96d0-4e7f-b951-75e8877812fa",
   "metadata": {},
   "outputs": [
    {
     "data": {
      "text/plain": [
       "['Linux', 'aix', 'unix']"
      ]
     },
     "execution_count": 55,
     "metadata": {},
     "output_type": "execute_result"
    }
   ],
   "source": [
    "L[-1]"
   ]
  },
  {
   "cell_type": "code",
   "execution_count": 57,
   "id": "8265d4f6-fe6b-42c7-a3e9-cc990ac06b6a",
   "metadata": {},
   "outputs": [
    {
     "data": {
      "text/plain": [
       "'Linux'"
      ]
     },
     "execution_count": 57,
     "metadata": {},
     "output_type": "execute_result"
    }
   ],
   "source": [
    "L[-1][-3]"
   ]
  },
  {
   "cell_type": "code",
   "execution_count": 59,
   "id": "8ab48512-5cc2-4df3-97f7-05cf0bbd8d57",
   "metadata": {},
   "outputs": [],
   "source": [
    "L=[]\n",
    "L.append(['d1','d2','d3'])\n",
    "L.append(('eth0','eth1','eth2'))\n",
    "L.append({'url1':'192.1.2.3', 'url2':'292.1.2.3','url3':'example.org'})\n"
   ]
  },
  {
   "cell_type": "code",
   "execution_count": 61,
   "id": "b4852ea1-99c4-40ec-b93e-4b012eb2e149",
   "metadata": {},
   "outputs": [
    {
     "data": {
      "text/plain": [
       "[['d1', 'd2', 'd3'],\n",
       " ('eth0', 'eth1', 'eth2'),\n",
       " {'url1': '192.1.2.3', 'url2': '292.1.2.3', 'url3': 'example.org'}]"
      ]
     },
     "execution_count": 61,
     "metadata": {},
     "output_type": "execute_result"
    }
   ],
   "source": [
    "L"
   ]
  },
  {
   "cell_type": "code",
   "execution_count": null,
   "id": "71c06f76-fea4-4eb1-b6cf-6e75e3baa3e3",
   "metadata": {},
   "outputs": [],
   "source": [
    "How to add new data Dx after -->d4  in list  ['d1','d2','d3','dx']"
   ]
  },
  {
   "cell_type": "code",
   "execution_count": 63,
   "id": "371fd717-2ad1-404e-a87f-d1bba84c7bb3",
   "metadata": {},
   "outputs": [
    {
     "data": {
      "text/plain": [
       "['d1', 'd2', 'd3']"
      ]
     },
     "execution_count": 63,
     "metadata": {},
     "output_type": "execute_result"
    }
   ],
   "source": [
    "L[0]"
   ]
  },
  {
   "cell_type": "code",
   "execution_count": 65,
   "id": "b1374fd6-fc21-4620-b81b-2d01f7796b21",
   "metadata": {},
   "outputs": [],
   "source": [
    "L[0].append('dx')"
   ]
  },
  {
   "cell_type": "code",
   "execution_count": 67,
   "id": "28fc4755-dc88-426d-8eef-490d2d1da60e",
   "metadata": {},
   "outputs": [
    {
     "data": {
      "text/plain": [
       "[['d1', 'd2', 'd3', 'dx'],\n",
       " ('eth0', 'eth1', 'eth2'),\n",
       " {'url1': '192.1.2.3', 'url2': '292.1.2.3', 'url3': 'example.org'}]"
      ]
     },
     "execution_count": 67,
     "metadata": {},
     "output_type": "execute_result"
    }
   ],
   "source": [
    "L"
   ]
  },
  {
   "cell_type": "code",
   "execution_count": null,
   "id": "434ac039-3134-41cf-b346-0e2de4b6077e",
   "metadata": {},
   "outputs": [],
   "source": [
    "How to fetch interface name eth1    -> L[1][1]\n",
    "How to modify url--> http://www.example.org   -> L[-1]['url3']=\"http://www.example.org\"\n",
    "How to delete 192.1.2.3 L[-1].pop('url1')\n",
    "\n",
    "display updated list"
   ]
  },
  {
   "cell_type": "code",
   "execution_count": 69,
   "id": "3b31a80d-6f4d-4641-8237-7c853903276c",
   "metadata": {},
   "outputs": [
    {
     "name": "stdout",
     "output_type": "stream",
     "text": [
      "3\n"
     ]
    }
   ],
   "source": [
    "#tuple of list/ tuple/dict\n",
    "\n",
    "t=([],(),{})\n",
    "print(len(t))"
   ]
  },
  {
   "cell_type": "code",
   "execution_count": 73,
   "id": "591743a8-f9d8-42aa-81fb-02a0f0f5a95b",
   "metadata": {},
   "outputs": [
    {
     "ename": "TypeError",
     "evalue": "'tuple' object does not support item assignment",
     "output_type": "error",
     "traceback": [
      "\u001b[1;31m---------------------------------------------------------------------------\u001b[0m",
      "\u001b[1;31mTypeError\u001b[0m                                 Traceback (most recent call last)",
      "Cell \u001b[1;32mIn[73], line 1\u001b[0m\n\u001b[1;32m----> 1\u001b[0m t[\u001b[38;5;241m1\u001b[39m]\u001b[38;5;241m=\u001b[39m\u001b[38;5;124m\"\u001b[39m\u001b[38;5;124mxa\u001b[39m\u001b[38;5;124m\"\u001b[39m\n",
      "\u001b[1;31mTypeError\u001b[0m: 'tuple' object does not support item assignment"
     ]
    }
   ],
   "source": [
    "t[1]=\"xa\""
   ]
  },
  {
   "cell_type": "code",
   "execution_count": 81,
   "id": "f7fc7257-bd51-449c-b8a8-e9a87bdf2b6a",
   "metadata": {},
   "outputs": [
    {
     "data": {
      "text/plain": [
       "[]"
      ]
     },
     "execution_count": 81,
     "metadata": {},
     "output_type": "execute_result"
    }
   ],
   "source": [
    "t[0]"
   ]
  },
  {
   "cell_type": "code",
   "execution_count": 83,
   "id": "e0fe9fb7-a7dc-4da2-9a7e-cf635d044ded",
   "metadata": {},
   "outputs": [],
   "source": [
    "t[0].append(10)"
   ]
  },
  {
   "cell_type": "code",
   "execution_count": 85,
   "id": "83784ede-c05a-4066-a0d0-ed291dcc9acb",
   "metadata": {},
   "outputs": [
    {
     "data": {
      "text/plain": [
       "([10], (), {})"
      ]
     },
     "execution_count": 85,
     "metadata": {},
     "output_type": "execute_result"
    }
   ],
   "source": [
    "t"
   ]
  },
  {
   "cell_type": "code",
   "execution_count": 87,
   "id": "4be2617f-2bce-40c3-9710-a369963ceb40",
   "metadata": {},
   "outputs": [],
   "source": [
    "t[-1]['url1']='www.example.org'"
   ]
  },
  {
   "cell_type": "code",
   "execution_count": 89,
   "id": "9a4dc9e9-38c2-4863-8745-e0af81d79ed0",
   "metadata": {},
   "outputs": [
    {
     "data": {
      "text/plain": [
       "([10], (), {'url1': 'www.example.org'})"
      ]
     },
     "execution_count": 89,
     "metadata": {},
     "output_type": "execute_result"
    }
   ],
   "source": [
    "t"
   ]
  },
  {
   "cell_type": "code",
   "execution_count": 91,
   "id": "392786af-337e-4215-851a-9cc04323b97a",
   "metadata": {},
   "outputs": [],
   "source": [
    "for v in range(50):\n",
    "    t[0].append(v+100)"
   ]
  },
  {
   "cell_type": "code",
   "execution_count": 93,
   "id": "fdbec2f3-9e64-4cc8-9bd4-1c06b96fe7ee",
   "metadata": {},
   "outputs": [
    {
     "data": {
      "text/plain": [
       "([10,\n",
       "  100,\n",
       "  101,\n",
       "  102,\n",
       "  103,\n",
       "  104,\n",
       "  105,\n",
       "  106,\n",
       "  107,\n",
       "  108,\n",
       "  109,\n",
       "  110,\n",
       "  111,\n",
       "  112,\n",
       "  113,\n",
       "  114,\n",
       "  115,\n",
       "  116,\n",
       "  117,\n",
       "  118,\n",
       "  119,\n",
       "  120,\n",
       "  121,\n",
       "  122,\n",
       "  123,\n",
       "  124,\n",
       "  125,\n",
       "  126,\n",
       "  127,\n",
       "  128,\n",
       "  129,\n",
       "  130,\n",
       "  131,\n",
       "  132,\n",
       "  133,\n",
       "  134,\n",
       "  135,\n",
       "  136,\n",
       "  137,\n",
       "  138,\n",
       "  139,\n",
       "  140,\n",
       "  141,\n",
       "  142,\n",
       "  143,\n",
       "  144,\n",
       "  145,\n",
       "  146,\n",
       "  147,\n",
       "  148,\n",
       "  149],\n",
       " (),\n",
       " {'url1': 'www.example.org'})"
      ]
     },
     "execution_count": 93,
     "metadata": {},
     "output_type": "execute_result"
    }
   ],
   "source": [
    "t"
   ]
  },
  {
   "cell_type": "code",
   "execution_count": null,
   "id": "c69d2770-f6b9-41f1-9ffb-67735bfe35a4",
   "metadata": {},
   "outputs": [],
   "source": [
    "d={\"key\":\"value\"}\n"
   ]
  },
  {
   "cell_type": "code",
   "execution_count": 95,
   "id": "c1be0b4b-01e3-45f4-a736-56d50b1c5cd8",
   "metadata": {},
   "outputs": [
    {
     "data": {
      "text/plain": [
       "{'eid': [],\n",
       " 'edept': ('sales', 'prod', 'DBA'),\n",
       " 'eplace': {'city1': 'bengaluru', 'city2': 'hyderabad'}}"
      ]
     },
     "execution_count": 95,
     "metadata": {},
     "output_type": "execute_result"
    }
   ],
   "source": [
    "emp={\"eid\":[],\"edept\":(\"sales\",\"prod\",\"DBA\"), \"eplace\":{\"city1\":\"bengaluru\",\"city2\":\"hyderabad\"}}\n",
    "emp"
   ]
  },
  {
   "cell_type": "code",
   "execution_count": 97,
   "id": "0bd30528-2eeb-44bb-87e4-227bfba841fd",
   "metadata": {},
   "outputs": [],
   "source": [
    "emp['eid'].append(123)\n",
    "emp['eid'].append(\"d121\")\n",
    "emp['eplace']['city3']='place3'"
   ]
  },
  {
   "cell_type": "code",
   "execution_count": 99,
   "id": "0fcb113e-1025-423d-b084-1036545f928a",
   "metadata": {},
   "outputs": [
    {
     "data": {
      "text/plain": [
       "{'eid': [123, 'd121'],\n",
       " 'edept': ('sales', 'prod', 'DBA'),\n",
       " 'eplace': {'city1': 'bengaluru', 'city2': 'hyderabad', 'city3': 'place3'}}"
      ]
     },
     "execution_count": 99,
     "metadata": {},
     "output_type": "execute_result"
    }
   ],
   "source": [
    "emp"
   ]
  },
  {
   "cell_type": "code",
   "execution_count": null,
   "id": "ddc3d64e-dffa-4272-98d5-5bfad93731a8",
   "metadata": {},
   "outputs": [],
   "source": [
    "emp['eid'][0]---> 123\n",
    "emp['edept'][0]---> sales"
   ]
  },
  {
   "cell_type": "code",
   "execution_count": 101,
   "id": "80ded172-a254-4039-b5c8-b46381953672",
   "metadata": {},
   "outputs": [
    {
     "name": "stdout",
     "output_type": "stream",
     "text": [
      "{'edept': ('sales', 'prod', 'DBA'),\n",
      " 'eid': [123, 'd121'],\n",
      " 'eplace': {'city1': 'bengaluru', 'city2': 'hyderabad', 'city3': 'place3'}}\n"
     ]
    }
   ],
   "source": [
    "import pprint\n",
    "pprint.pprint(emp)"
   ]
  },
  {
   "cell_type": "code",
   "execution_count": 103,
   "id": "8b034dbf-3cb1-4854-afec-e52bb2deaa31",
   "metadata": {},
   "outputs": [
    {
     "name": "stdout",
     "output_type": "stream",
     "text": [
      "([10,\n",
      "  100,\n",
      "  101,\n",
      "  102,\n",
      "  103,\n",
      "  104,\n",
      "  105,\n",
      "  106,\n",
      "  107,\n",
      "  108,\n",
      "  109,\n",
      "  110,\n",
      "  111,\n",
      "  112,\n",
      "  113,\n",
      "  114,\n",
      "  115,\n",
      "  116,\n",
      "  117,\n",
      "  118,\n",
      "  119,\n",
      "  120,\n",
      "  121,\n",
      "  122,\n",
      "  123,\n",
      "  124,\n",
      "  125,\n",
      "  126,\n",
      "  127,\n",
      "  128,\n",
      "  129,\n",
      "  130,\n",
      "  131,\n",
      "  132,\n",
      "  133,\n",
      "  134,\n",
      "  135,\n",
      "  136,\n",
      "  137,\n",
      "  138,\n",
      "  139,\n",
      "  140,\n",
      "  141,\n",
      "  142,\n",
      "  143,\n",
      "  144,\n",
      "  145,\n",
      "  146,\n",
      "  147,\n",
      "  148,\n",
      "  149],\n",
      " (),\n",
      " {'url1': 'www.example.org'})\n"
     ]
    }
   ],
   "source": [
    "pprint.pprint(t)"
   ]
  },
  {
   "cell_type": "code",
   "execution_count": 105,
   "id": "068c66ff-d832-48d3-a835-6ead8954e3ff",
   "metadata": {},
   "outputs": [],
   "source": [
    "d={\"net\":{\"interface\":['eth0','eth1','eth2'],\"dns\":['1.2.3.4','5.6.7.8']},'class':{'class':'param','itr':['v1','v2','v3']}}"
   ]
  },
  {
   "cell_type": "code",
   "execution_count": 107,
   "id": "a291b233-9be8-4534-bf67-76c47e399ad8",
   "metadata": {},
   "outputs": [
    {
     "name": "stdout",
     "output_type": "stream",
     "text": [
      "{'net': {'interface': ['eth0', 'eth1', 'eth2'], 'dns': ['1.2.3.4', '5.6.7.8']}, 'class': {'class': 'param', 'itr': ['v1', 'v2', 'v3']}}\n"
     ]
    }
   ],
   "source": [
    "print(d)"
   ]
  },
  {
   "cell_type": "code",
   "execution_count": 109,
   "id": "01884c74-daab-4008-bf3d-68f9f0de7c88",
   "metadata": {},
   "outputs": [
    {
     "name": "stdout",
     "output_type": "stream",
     "text": [
      "{'class': {'class': 'param', 'itr': ['v1', 'v2', 'v3']},\n",
      " 'net': {'dns': ['1.2.3.4', '5.6.7.8'], 'interface': ['eth0', 'eth1', 'eth2']}}\n"
     ]
    }
   ],
   "source": [
    "pprint.pprint(d)"
   ]
  },
  {
   "cell_type": "code",
   "execution_count": null,
   "id": "0628e4b8-5ba2-4cd5-897b-573291be3684",
   "metadata": {},
   "outputs": [],
   "source": [
    "#add new item---> 'csv'--> key\n",
    "                {'file1':'c:\\\\emp.csv\",...'filen':'c:\\\\12.csv'}--> value"
   ]
  },
  {
   "cell_type": "code",
   "execution_count": 111,
   "id": "22674e53-a289-4df9-a7ad-639f30f80d9a",
   "metadata": {},
   "outputs": [],
   "source": [
    "d['csv']={\"file1\":\"c:\\\\1.csv\", \"file2\":\"D:\\\\2.csv\", \"file3\":\"D:\\\\desktop\\\\4.csv\"}"
   ]
  },
  {
   "cell_type": "code",
   "execution_count": 113,
   "id": "4a1f827b-e65a-4d84-bbed-4cc5a9678541",
   "metadata": {},
   "outputs": [
    {
     "name": "stdout",
     "output_type": "stream",
     "text": [
      "{'class': {'class': 'param', 'itr': ['v1', 'v2', 'v3']},\n",
      " 'csv': {'file1': 'c:\\\\1.csv',\n",
      "         'file2': 'D:\\\\2.csv',\n",
      "         'file3': 'D:\\\\desktop\\\\4.csv'},\n",
      " 'net': {'dns': ['1.2.3.4', '5.6.7.8'], 'interface': ['eth0', 'eth1', 'eth2']}}\n"
     ]
    }
   ],
   "source": [
    "pprint.pprint(d)"
   ]
  },
  {
   "cell_type": "code",
   "execution_count": 115,
   "id": "c08505cd-1695-4fa4-9116-56e5978bc7fe",
   "metadata": {},
   "outputs": [
    {
     "name": "stdout",
     "output_type": "stream",
     "text": [
      "{'file1': 'c:\\\\1.csv', 'file2': 'D:\\\\2.csv', 'file3': 'D:\\\\desktop\\\\4.csv'}\n"
     ]
    }
   ],
   "source": [
    "pprint.pprint(d['csv'])"
   ]
  },
  {
   "cell_type": "code",
   "execution_count": null,
   "id": "978e5bc8-7db1-44bf-908d-40817fdd7c8d",
   "metadata": {},
   "outputs": [],
   "source": [
    "task\n",
    "----\n",
    "#filesystem meta details\n",
    "# filesystem type, device id, size, user,partition, mount point\n"
   ]
  },
  {
   "cell_type": "code",
   "execution_count": 119,
   "id": "02ab28a7-2260-4780-9f81-543c1ef47d58",
   "metadata": {},
   "outputs": [],
   "source": [
    "fsinfo={\"fstype\":[], 'partition':{\"part\":[]},\"mountpoints\":{\"fpart\":[]}}\n"
   ]
  },
  {
   "cell_type": "code",
   "execution_count": 123,
   "id": "47566a4b-b40d-496a-96d8-d458576a2b07",
   "metadata": {},
   "outputs": [],
   "source": [
    "fsinfo['fstype'].append('xfs')\n",
    "fsinfo['partition']['part'].append('/dev/xvda1')\n",
    "fsinfo['mountpoints']['fpart'].append(\"/D1\")"
   ]
  },
  {
   "cell_type": "code",
   "execution_count": 127,
   "id": "ee42165b-4a44-4ada-810d-32795270809a",
   "metadata": {},
   "outputs": [
    {
     "name": "stdout",
     "output_type": "stream",
     "text": [
      "{'fstype': ['xfs'],\n",
      " 'mountpoints': {'fpart': ['/D1']},\n",
      " 'partition': {'part': ['/dev/xvda1']}}\n"
     ]
    }
   ],
   "source": [
    "pprint.pprint(fsinfo)"
   ]
  },
  {
   "cell_type": "markdown",
   "id": "0f6eb81f-4fba-4b93-918d-6b7a329711cd",
   "metadata": {},
   "source": [
    "d={'k1':{'k2':[]}}      \n",
    "# how to add target mount point and resource name to k2 \n",
    "             {\"target\": 'm/c1'  ,  'resource' : 'R1' }"
   ]
  },
  {
   "cell_type": "code",
   "execution_count": 129,
   "id": "edafc29b-7aaf-4839-a19b-2d53f135dd15",
   "metadata": {},
   "outputs": [],
   "source": [
    "d={'k1':{'k2':[]}}    "
   ]
  },
  {
   "cell_type": "code",
   "execution_count": 131,
   "id": "493a5658-a9b5-4d34-aaec-0514464b3b0d",
   "metadata": {},
   "outputs": [
    {
     "data": {
      "text/plain": [
       "{'k1': {'k2': []}}"
      ]
     },
     "execution_count": 131,
     "metadata": {},
     "output_type": "execute_result"
    }
   ],
   "source": [
    "d"
   ]
  },
  {
   "cell_type": "code",
   "execution_count": 133,
   "id": "0dbdf01d-2d91-4503-9ffc-b39404ca99a8",
   "metadata": {},
   "outputs": [
    {
     "data": {
      "text/plain": [
       "{'k2': []}"
      ]
     },
     "execution_count": 133,
     "metadata": {},
     "output_type": "execute_result"
    }
   ],
   "source": [
    "d['k1']"
   ]
  },
  {
   "cell_type": "code",
   "execution_count": 137,
   "id": "e35b26f1-7ebc-4e79-8679-989102948219",
   "metadata": {},
   "outputs": [
    {
     "data": {
      "text/plain": [
       "[]"
      ]
     },
     "execution_count": 137,
     "metadata": {},
     "output_type": "execute_result"
    }
   ],
   "source": [
    "d['k1']['k2']"
   ]
  },
  {
   "cell_type": "code",
   "execution_count": 139,
   "id": "a1266760-b541-4e95-8a85-09857e32eccd",
   "metadata": {},
   "outputs": [
    {
     "name": "stdout",
     "output_type": "stream",
     "text": [
      "{'k1': {'k2': [{'resource': 'R1', 'target': 'm/c1'},\n",
      "               {'resource': 'R2', 'target': 'm/c2'},\n",
      "               {'resource': 'R3', 'target': 'm/c3'},\n",
      "               {'resource': 'R4', 'target': 'm/c4'}]}}\n"
     ]
    }
   ],
   "source": [
    "d['k1']['k2'].append( {\"target\": 'm/c1'  ,  'resource' : 'R1' })\n",
    "d['k1']['k2'].append( {\"target\": 'm/c2'  ,  'resource' : 'R2' })\n",
    "d['k1']['k2'].append( {\"target\": 'm/c3'  ,  'resource' : 'R3' })\n",
    "d['k1']['k2'].append( {\"target\": 'm/c4'  ,  'resource' : 'R4' })\n",
    "pprint.pprint(d)"
   ]
  },
  {
   "cell_type": "code",
   "execution_count": 141,
   "id": "36196f54-dd66-4594-8dba-813bb572017f",
   "metadata": {},
   "outputs": [
    {
     "data": {
      "text/plain": [
       "'R1'"
      ]
     },
     "execution_count": 141,
     "metadata": {},
     "output_type": "execute_result"
    }
   ],
   "source": [
    "d['k1']['k2'][0]['resource']"
   ]
  },
  {
   "cell_type": "code",
   "execution_count": 143,
   "id": "6b93e187-cd08-4b17-a70f-e26cf13793fe",
   "metadata": {},
   "outputs": [
    {
     "data": {
      "text/plain": [
       "'m/c2'"
      ]
     },
     "execution_count": 143,
     "metadata": {},
     "output_type": "execute_result"
    }
   ],
   "source": [
    "d['k1']['k2'][1]['target']"
   ]
  },
  {
   "cell_type": "code",
   "execution_count": null,
   "id": "2eae893c-e26f-479d-a7e6-0786a96bd490",
   "metadata": {},
   "outputs": [],
   "source": [
    "dict- collection of unordered item - {key:value}\n",
    "\n",
    "set - collection of unordered item - key only structure\n",
    "                                      |\n",
    "                                     unique elements\n",
    "{1,2,3,4} -> set\n",
    "{1:2,2:3,4:5} -> dict"
   ]
  },
  {
   "cell_type": "code",
   "execution_count": 145,
   "id": "21405a5a-190b-46a9-8382-1747ec88ea77",
   "metadata": {},
   "outputs": [
    {
     "name": "stdout",
     "output_type": "stream",
     "text": [
      "<class 'dict'> <class 'set'>\n"
     ]
    }
   ],
   "source": [
    "d={\"k1\":\"v1\"}\n",
    "s={\"k1\",\"v1\",\"k2\",\"v2\",10,20,10,20,\"k1\",\"k2\"}\n",
    "print(type(d),type(s))\n"
   ]
  },
  {
   "cell_type": "code",
   "execution_count": 147,
   "id": "cca4c723-ca57-4e39-9b97-a94c41c00d4f",
   "metadata": {},
   "outputs": [
    {
     "data": {
      "text/plain": [
       "{10, 20, 'k1', 'k2', 'v1', 'v2'}"
      ]
     },
     "execution_count": 147,
     "metadata": {},
     "output_type": "execute_result"
    }
   ],
   "source": [
    "s"
   ]
  },
  {
   "cell_type": "code",
   "execution_count": 149,
   "id": "0468e7dd-6306-4ab5-bc6c-fe68117af197",
   "metadata": {},
   "outputs": [
    {
     "name": "stdout",
     "output_type": "stream",
     "text": [
      "<class 'set'> 6\n"
     ]
    }
   ],
   "source": [
    "print(type(s),len(s))"
   ]
  },
  {
   "cell_type": "code",
   "execution_count": 151,
   "id": "867e11dc-101c-417b-8888-e74e880ae291",
   "metadata": {},
   "outputs": [
    {
     "data": {
      "text/plain": [
       "['d1', 'd2', 'd3', 'd1', 'd2']"
      ]
     },
     "execution_count": 151,
     "metadata": {},
     "output_type": "execute_result"
    }
   ],
   "source": [
    "L=['d1','d2','d3','d1','d2']\n",
    "L    # allows duplicates"
   ]
  },
  {
   "cell_type": "code",
   "execution_count": 155,
   "id": "87407d2c-42a5-4bb4-9f29-13e218514ac8",
   "metadata": {},
   "outputs": [],
   "source": [
    "L=list(set(L))"
   ]
  },
  {
   "cell_type": "code",
   "execution_count": 157,
   "id": "7c6a8843-6a1f-4d07-ad56-23149933854f",
   "metadata": {},
   "outputs": [
    {
     "data": {
      "text/plain": [
       "['d2', 'd3', 'd1']"
      ]
     },
     "execution_count": 157,
     "metadata": {},
     "output_type": "execute_result"
    }
   ],
   "source": [
    "L"
   ]
  },
  {
   "cell_type": "code",
   "execution_count": null,
   "id": "cf0ece32-c2e0-41a9-b48f-e17c4550bb4d",
   "metadata": {},
   "outputs": [],
   "source": [
    "L=[] # empty list\n",
    "T=() # empty tuple\n",
    "d={} # empty dict\n",
    "s=set() # empty set"
   ]
  },
  {
   "cell_type": "code",
   "execution_count": null,
   "id": "060f723a-da5e-48fd-943e-8200c768a0cf",
   "metadata": {},
   "outputs": [],
   "source": [
    "setname.add(single)\n",
    "             |-------------number,str,byte,bool\n",
    "setname.update(collection)\n",
    "                 |------------list,tuple,dict"
   ]
  },
  {
   "cell_type": "code",
   "execution_count": 159,
   "id": "b15b31f0-d800-4769-ad2c-cd2b99aeaa2c",
   "metadata": {},
   "outputs": [
    {
     "name": "stdout",
     "output_type": "stream",
     "text": [
      "{10, 20}\n"
     ]
    }
   ],
   "source": [
    "s=set()\n",
    "s.add(10)\n",
    "s.add(20)\n",
    "print(s)\n"
   ]
  },
  {
   "cell_type": "code",
   "execution_count": 161,
   "id": "caf1d54f-ee65-4b36-9949-af00bb4a1a22",
   "metadata": {},
   "outputs": [],
   "source": [
    "s.add(10)"
   ]
  },
  {
   "cell_type": "code",
   "execution_count": 163,
   "id": "dd64f0e1-28b8-4500-a968-8e499d241942",
   "metadata": {},
   "outputs": [
    {
     "name": "stdout",
     "output_type": "stream",
     "text": [
      "{10, 20}\n"
     ]
    }
   ],
   "source": [
    "print(s)"
   ]
  },
  {
   "cell_type": "code",
   "execution_count": 165,
   "id": "647ba9ea-6e29-47f8-a643-f4120dcaeee3",
   "metadata": {},
   "outputs": [
    {
     "name": "stdout",
     "output_type": "stream",
     "text": [
      "{10, 20, 30}\n"
     ]
    }
   ],
   "source": [
    "s.update([10,20,30])\n",
    "print(s)"
   ]
  },
  {
   "cell_type": "code",
   "execution_count": 167,
   "id": "8007a380-e503-4db8-8d64-14a2980d1989",
   "metadata": {},
   "outputs": [
    {
     "name": "stdout",
     "output_type": "stream",
     "text": [
      "{10, 20, 'k1', 30}\n"
     ]
    }
   ],
   "source": [
    "s.update({'k1':'v1'})\n",
    "print(s)"
   ]
  },
  {
   "cell_type": "code",
   "execution_count": null,
   "id": "3baac53b-6e54-4a30-b6e3-45309dc89599",
   "metadata": {},
   "outputs": [],
   "source": [
    "setname.remove(item)\n",
    "                |----keyError if item is not exist in set\n",
    "setname.discard(item)\n",
    "                |---None if item is not exist in set"
   ]
  },
  {
   "cell_type": "code",
   "execution_count": 169,
   "id": "329eaac7-7024-45f5-b572-65b6a96919c6",
   "metadata": {},
   "outputs": [
    {
     "data": {
      "text/plain": [
       "['$Recycle.Bin',\n",
       " 'Apps',\n",
       " 'appverifUI.dll',\n",
       " 'dell',\n",
       " 'dell.sdr',\n",
       " 'Documents and Settings',\n",
       " 'Drivers',\n",
       " 'DumpStack.log.tmp',\n",
       " 'e-logo',\n",
       " 'FIOD.manifest',\n",
       " 'hiberfil.sys',\n",
       " 'M1130MFP_M1210MFP_Full_Solution',\n",
       " 'OneDriveTemp',\n",
       " 'pagefile.sys',\n",
       " 'PerfLogs',\n",
       " 'Program Files',\n",
       " 'Program Files (x86)',\n",
       " 'ProgramData',\n",
       " 'Recovery',\n",
       " 'Spark',\n",
       " 'swapfile.sys',\n",
       " 'System Volume Information',\n",
       " 'Users',\n",
       " 'vfcompat.dll',\n",
       " 'Windows']"
      ]
     },
     "execution_count": 169,
     "metadata": {},
     "output_type": "execute_result"
    }
   ],
   "source": [
    "import os\n",
    "os.listdir(\"C:\\\\\")"
   ]
  },
  {
   "cell_type": "code",
   "execution_count": 171,
   "id": "4d679c59-d2da-4f45-9c46-e8cc35b24c7d",
   "metadata": {},
   "outputs": [
    {
     "data": {
      "text/plain": [
       "146"
      ]
     },
     "execution_count": 171,
     "metadata": {},
     "output_type": "execute_result"
    }
   ],
   "source": [
    "len(os.listdir(\".\"))"
   ]
  },
  {
   "cell_type": "code",
   "execution_count": 175,
   "id": "27833731-5941-44eb-965c-2492b37a858f",
   "metadata": {},
   "outputs": [
    {
     "data": {
      "text/plain": [
       "25"
      ]
     },
     "execution_count": 175,
     "metadata": {},
     "output_type": "execute_result"
    }
   ],
   "source": [
    "len(os.listdir(\"C:\\\\\"))"
   ]
  },
  {
   "cell_type": "code",
   "execution_count": 177,
   "id": "7648150c-0caa-4def-909d-83529d86652a",
   "metadata": {},
   "outputs": [
    {
     "data": {
      "text/plain": [
       "set()"
      ]
     },
     "execution_count": 177,
     "metadata": {},
     "output_type": "execute_result"
    }
   ],
   "source": [
    "set(os.listdir(\".\")) & set(os.listdir(\"C:\\\\\"))"
   ]
  },
  {
   "cell_type": "code",
   "execution_count": 227,
   "id": "dead07f3-dc14-4196-b76a-0228efab42a1",
   "metadata": {},
   "outputs": [
    {
     "name": "stdout",
     "output_type": "stream",
     "text": [
      "frozenset({1, 2, 3}) <class 'frozenset'>\n"
     ]
    }
   ],
   "source": [
    "s=frozenset([1,2,3])\n",
    "print(s,type(s))"
   ]
  },
  {
   "cell_type": "code",
   "execution_count": 229,
   "id": "c696c183-c64c-4bbc-8247-3b3a8040b1f1",
   "metadata": {},
   "outputs": [
    {
     "ename": "AttributeError",
     "evalue": "'frozenset' object has no attribute 'add'",
     "output_type": "error",
     "traceback": [
      "\u001b[1;31m---------------------------------------------------------------------------\u001b[0m",
      "\u001b[1;31mAttributeError\u001b[0m                            Traceback (most recent call last)",
      "Cell \u001b[1;32mIn[229], line 1\u001b[0m\n\u001b[1;32m----> 1\u001b[0m s\u001b[38;5;241m.\u001b[39madd(\u001b[38;5;241m200\u001b[39m)\n",
      "\u001b[1;31mAttributeError\u001b[0m: 'frozenset' object has no attribute 'add'"
     ]
    }
   ],
   "source": [
    "s.add(200) # Invalid"
   ]
  },
  {
   "cell_type": "raw",
   "id": "f72de284-3668-4694-8f61-d7a2b77a57af",
   "metadata": {},
   "source": [
    "Task\n",
    "=====\n",
    "1. Write a python program\n",
    "\n",
    "Given list:\n",
    "Emp=['101,Sanjay,Sales,bengaluru,1000', '102,Farah,Prod,Hyderabad,2000', '103,Paul,Sales,Pune,1000']\n",
    "\n",
    "display employee name (title name) and employee working dept (Uppercase)\n",
    "calculate sum of emp's cost\n",
    "display total cost at end\n",
    "\n",
    "\n",
    "expected result\n",
    "===============\n",
    "Emp name is : Sanjay   Working Dept : SALES\n",
    "Emp name is : Farah   Working Dept : PROD\n",
    "Emp name is : Paul   Working Dept : SALES\n",
    "----------------------------------------------\n",
    "    Total cost : 4000\n",
    "---------------------------------------------\n",
    "\n"
   ]
  },
  {
   "cell_type": "code",
   "execution_count": 183,
   "id": "358d8edd-822b-4e36-8764-843de348d48c",
   "metadata": {},
   "outputs": [
    {
     "name": "stdout",
     "output_type": "stream",
     "text": [
      "Emp name is : Sanjay   Working Dept : SALES\n",
      "Emp name is : Farah   Working Dept : PROD\n",
      "Emp name is : Paul   Working Dept : SALES\n",
      "----------------------------------------------------------------------\n",
      "\t Total cost : 4000\n",
      "----------------------------------------------------------------------\n"
     ]
    }
   ],
   "source": [
    "Emp=['101,Sanjay,Sales,bengaluru,1000', '102,Farah,Prod,Hyderabad,2000', '103,Paul,Sales,Pune,1000']\n",
    "total=0\n",
    "for var in Emp:\n",
    "    eid,ename,edept,ecity,ecost=var.split(\",\")\n",
    "    print(f\"Emp name is : {ename.title()}   Working Dept : {edept.upper()}\")\n",
    "    print(\"Emp name is : {}   Working Dept : {}\".format(ename.title(),edept.upper))\n",
    "    total+=int(ecost)\n",
    "else:\n",
    "    print(\"-\"*70)\n",
    "    print(\"\\t Total cost : {}\".format(total))\n",
    "    print(\"-\"*70)"
   ]
  },
  {
   "cell_type": "code",
   "execution_count": null,
   "id": "3539b542-0d99-4483-8126-8bf05ab9ad39",
   "metadata": {},
   "outputs": [],
   "source": [
    "2. Write a python program\n",
    "step1: Intialize a pin number ( ex: pin=1234)\n",
    "step2: using while loop ( maximum 3 attempts)\n",
    "step3: read a pin from <STDIN>\n",
    "         test  whether pin matches with existing pin\n",
    "        if both pin matches---> display Success message and pin  matched at count/attempt\n",
    "         |\n",
    "        doesnot match, display failed message\n",
    "\n",
    "step4: after 3 failed attempt, display pin blocked message."
   ]
  },
  {
   "cell_type": "code",
   "execution_count": 187,
   "id": "efc64412-1245-4acb-ba2a-c9473196f720",
   "metadata": {},
   "outputs": [
    {
     "name": "stdin",
     "output_type": "stream",
     "text": [
      "Enter the pin Number 111\n"
     ]
    },
    {
     "name": "stdout",
     "output_type": "stream",
     "text": [
      "Pin Match Failed\n"
     ]
    },
    {
     "name": "stdin",
     "output_type": "stream",
     "text": [
      "Enter the pin Number 222\n"
     ]
    },
    {
     "name": "stdout",
     "output_type": "stream",
     "text": [
      "Pin Match Failed\n"
     ]
    },
    {
     "name": "stdin",
     "output_type": "stream",
     "text": [
      "Enter the pin Number 333\n"
     ]
    },
    {
     "name": "stdout",
     "output_type": "stream",
     "text": [
      "Pin Match Failed\n",
      "Sorry- Pin Blocked\n"
     ]
    }
   ],
   "source": [
    "pin=1234\n",
    "c=0\n",
    "while c<3:\n",
    "    c+=1\n",
    "    PIN=int(input(\"Enter the pin Number\"))\n",
    "    if pin==PIN:\n",
    "        print(\"Success- pin matched at {}\".format(c))\n",
    "        break\n",
    "    else:\n",
    "        print(\"Pin Match Failed\")\n",
    "if pin != PIN:\n",
    "    print(\"Sorry- Pin Blocked\")\n",
    "    "
   ]
  },
  {
   "cell_type": "code",
   "execution_count": 189,
   "id": "3f03c915-2ab1-484c-bae1-1d3a4f04d962",
   "metadata": {},
   "outputs": [
    {
     "name": "stdin",
     "output_type": "stream",
     "text": [
      "Enter the pin Number 1211\n"
     ]
    },
    {
     "name": "stdout",
     "output_type": "stream",
     "text": [
      "Pin Match Failed\n"
     ]
    },
    {
     "name": "stdin",
     "output_type": "stream",
     "text": [
      "Enter the pin Number 1234\n"
     ]
    },
    {
     "name": "stdout",
     "output_type": "stream",
     "text": [
      "Success- pin matched at 2\n"
     ]
    }
   ],
   "source": [
    "pin=1234\n",
    "c=0\n",
    "while c<3:\n",
    "    c+=1\n",
    "    PIN=int(input(\"Enter the pin Number\"))\n",
    "    if pin==PIN:\n",
    "        print(\"Success- pin matched at {}\".format(c))\n",
    "        break\n",
    "    else:\n",
    "        print(\"Pin Match Failed\")\n",
    "if pin != PIN:\n",
    "    print(\"Sorry- Pin Blocked\")"
   ]
  },
  {
   "cell_type": "code",
   "execution_count": null,
   "id": "3723fe8b-4da0-41e9-b06a-d4e67e6852d3",
   "metadata": {},
   "outputs": [],
   "source": [
    "3. Modify the above program\n",
    "\n",
    "create an empty list\n",
    "append pin success message and failed message to existing list\n",
    "display pin log details"
   ]
  },
  {
   "cell_type": "code",
   "execution_count": 191,
   "id": "756945d1-c1cc-4dd0-af4c-43bdb56eb68f",
   "metadata": {},
   "outputs": [
    {
     "name": "stdin",
     "output_type": "stream",
     "text": [
      "Enter the pin Number 1234\n"
     ]
    },
    {
     "name": "stdout",
     "output_type": "stream",
     "text": [
      "Success- pin matched at 1\n"
     ]
    },
    {
     "name": "stdin",
     "output_type": "stream",
     "text": [
      "Wish to read pin history -> yes (or) Y : Y\n"
     ]
    },
    {
     "name": "stdout",
     "output_type": "stream",
     "text": [
      "SUCCESS-PIN matched at 1\n"
     ]
    }
   ],
   "source": [
    "pin=1234\n",
    "c=0\n",
    "PIN_HISTORY=[]\n",
    "while c<3:\n",
    "    c+=1\n",
    "    PIN=int(input(\"Enter the pin Number\"))\n",
    "    if pin==PIN:\n",
    "        print(\"Success- pin matched at {}\".format(c))\n",
    "        PIN_HISTORY.append(\"SUCCESS-PIN matched at {}\".format(c))\n",
    "        break\n",
    "    else:\n",
    "        print(\"Pin Match Failed\")\n",
    "        PIN_HISTORY.append(\"FAILED-PIN is not matched\")\n",
    "        \n",
    "if pin != PIN:\n",
    "    print(\"Sorry- Pin Blocked\")\n",
    "\n",
    "choice=input(\"Wish to read pin history -> yes (or) Y :\")\n",
    "\n",
    "if choice == \"yes\"  or choice ==\"Y\":\n",
    "    for var in PIN_HISTORY:\n",
    "        print(var)\n",
    "else:\n",
    "    print(\"Bye!!\")\n",
    "            "
   ]
  },
  {
   "cell_type": "code",
   "execution_count": 193,
   "id": "84fa1c9f-ac6e-4a01-a98c-a35c80490952",
   "metadata": {},
   "outputs": [
    {
     "name": "stdin",
     "output_type": "stream",
     "text": [
      "Enter the pin Number 1234\n"
     ]
    },
    {
     "name": "stdout",
     "output_type": "stream",
     "text": [
      "Success- pin matched at 1\n"
     ]
    },
    {
     "name": "stdin",
     "output_type": "stream",
     "text": [
      "Wish to read pin history -> yes (or) Y : No\n"
     ]
    },
    {
     "name": "stdout",
     "output_type": "stream",
     "text": [
      "Bye!!\n"
     ]
    }
   ],
   "source": [
    "pin=1234\n",
    "c=0\n",
    "PIN_HISTORY=[]\n",
    "while c<3:\n",
    "    c+=1\n",
    "    PIN=int(input(\"Enter the pin Number\"))\n",
    "    if pin==PIN:\n",
    "        print(\"Success- pin matched at {}\".format(c))\n",
    "        PIN_HISTORY.append(\"SUCCESS-PIN matched at {}\".format(c))\n",
    "        break\n",
    "    else:\n",
    "        print(\"Pin Match Failed\")\n",
    "        PIN_HISTORY.append(\"FAILED-PIN is not matched\")\n",
    "        \n",
    "if pin != PIN:\n",
    "    print(\"Sorry- Pin Blocked\")\n",
    "\n",
    "choice=input(\"Wish to read pin history -> yes (or) Y :\")\n",
    "\n",
    "if choice == \"yes\"  or choice ==\"Y\":\n",
    "    for var in PIN_HISTORY:\n",
    "        print(var)\n",
    "else:\n",
    "    print(\"Bye!!\")\n",
    "            "
   ]
  },
  {
   "cell_type": "code",
   "execution_count": 195,
   "id": "b2b24c8b-cebb-498c-b725-c33478cfead2",
   "metadata": {},
   "outputs": [
    {
     "name": "stdin",
     "output_type": "stream",
     "text": [
      "Enter the pin Number 1234\n"
     ]
    },
    {
     "name": "stdout",
     "output_type": "stream",
     "text": [
      "Success- pin matched at 1\n"
     ]
    },
    {
     "name": "stdin",
     "output_type": "stream",
     "text": [
      "Wish to read pin history -> yes (or) Y : Y\n"
     ]
    },
    {
     "name": "stdout",
     "output_type": "stream",
     "text": [
      "SUCCESS-PIN matched at 1\n",
      "Bye!!\n"
     ]
    }
   ],
   "source": [
    "pin=1234\n",
    "c=0\n",
    "PIN_HISTORY=[]\n",
    "while c<3:\n",
    "    c+=1\n",
    "    PIN=int(input(\"Enter the pin Number\"))\n",
    "    if pin==PIN:\n",
    "        print(\"Success- pin matched at {}\".format(c))\n",
    "        PIN_HISTORY.append(\"SUCCESS-PIN matched at {}\".format(c))\n",
    "        break\n",
    "    else:\n",
    "        print(\"Pin Match Failed\")\n",
    "        PIN_HISTORY.append(\"FAILED-PIN is not matched\")\n",
    "        \n",
    "if pin != PIN:\n",
    "    print(\"Sorry- Pin Blocked\")\n",
    "\n",
    "choice=input(\"Wish to read pin history -> yes (or) Y :\")\n",
    "\n",
    "if choice == \"yes\"  or choice ==\"Y\":\n",
    "    for var in PIN_HISTORY:\n",
    "        print(var)\n",
    "    else:\n",
    "        print(\"Bye!!\")\n",
    "            "
   ]
  },
  {
   "cell_type": "code",
   "execution_count": 197,
   "id": "d065e512-6e28-4bef-b3a3-eccfba9c46fd",
   "metadata": {},
   "outputs": [
    {
     "name": "stdin",
     "output_type": "stream",
     "text": [
      "Enter the pin Number 1234\n"
     ]
    },
    {
     "name": "stdout",
     "output_type": "stream",
     "text": [
      "Success- pin matched at 1\n"
     ]
    },
    {
     "name": "stdin",
     "output_type": "stream",
     "text": [
      "Wish to read pin history -> yes (or) Y : No\n"
     ]
    }
   ],
   "source": [
    "pin=1234\n",
    "c=0\n",
    "PIN_HISTORY=[]\n",
    "while c<3:\n",
    "    c+=1\n",
    "    PIN=int(input(\"Enter the pin Number\"))\n",
    "    if pin==PIN:\n",
    "        print(\"Success- pin matched at {}\".format(c))\n",
    "        PIN_HISTORY.append(\"SUCCESS-PIN matched at {}\".format(c))\n",
    "        break\n",
    "    else:\n",
    "        print(\"Pin Match Failed\")\n",
    "        PIN_HISTORY.append(\"FAILED-PIN is not matched\")\n",
    "        \n",
    "if pin != PIN:\n",
    "    print(\"Sorry- Pin Blocked\")\n",
    "\n",
    "choice=input(\"Wish to read pin history -> yes (or) Y :\")\n",
    "\n",
    "if choice == \"yes\"  or choice ==\"Y\":\n",
    "    for var in PIN_HISTORY:\n",
    "        print(var)\n",
    "    else:\n",
    "        print(\"Bye!!\")"
   ]
  },
  {
   "cell_type": "code",
   "execution_count": 201,
   "id": "fd6130f3-2755-407a-9118-d65bd5fc209d",
   "metadata": {},
   "outputs": [
    {
     "name": "stdout",
     "output_type": "stream",
     "text": [
      "2025-01-27 16:41:02.237687\n"
     ]
    }
   ],
   "source": [
    "import datetime\n",
    "print(datetime.datetime.now())"
   ]
  },
  {
   "cell_type": "code",
   "execution_count": 205,
   "id": "479c17c2-1053-459f-bda1-0d4e76f105d8",
   "metadata": {},
   "outputs": [
    {
     "name": "stdout",
     "output_type": "stream",
     "text": [
      "2025-01-27-> 16:42:19 hrs\n"
     ]
    }
   ],
   "source": [
    "print(datetime.datetime.now().strftime(\"%F-> %H:%M:%S hrs\"))"
   ]
  },
  {
   "cell_type": "code",
   "execution_count": 207,
   "id": "8398234f-2514-480b-819c-7c2598d8eb2c",
   "metadata": {},
   "outputs": [
    {
     "name": "stdin",
     "output_type": "stream",
     "text": [
      "Enter the pin Number 1234\n"
     ]
    },
    {
     "name": "stdout",
     "output_type": "stream",
     "text": [
      "Success- pin matched at 1\n"
     ]
    },
    {
     "name": "stdin",
     "output_type": "stream",
     "text": [
      "Wish to read pin history -> yes (or) Y : Y\n"
     ]
    },
    {
     "name": "stdout",
     "output_type": "stream",
     "text": [
      "SUCCESS-PIN matched at 1 \t entry time:2025-01-27->16:44:56\n"
     ]
    }
   ],
   "source": [
    "pin=1234\n",
    "c=0\n",
    "PIN_HISTORY=[]\n",
    "while c<3:\n",
    "    c+=1\n",
    "    PIN=int(input(\"Enter the pin Number\"))\n",
    "    if pin==PIN:\n",
    "        print(\"Success- pin matched at {}\".format(c))\n",
    "        PIN_HISTORY.append(\"SUCCESS-PIN matched at {} \\t entry time:{}\".format(c,datetime.datetime.now().strftime(\"%F->%H:%M:%S\")))\n",
    "        break\n",
    "    else:\n",
    "        print(\"Pin Match Failed\")\n",
    "        PIN_HISTORY.append(\"FAILED-PIN is not matched \\t entry time:{}\".format(c,datetime.datetime.now().strftime(\"%F->%H:%M:%S\")))\n",
    "        \n",
    "if pin != PIN:\n",
    "    print(\"Sorry- Pin Blocked\")\n",
    "\n",
    "choice=input(\"Wish to read pin history -> yes (or) Y :\")\n",
    "\n",
    "if choice == \"yes\"  or choice ==\"Y\":\n",
    "    for var in PIN_HISTORY:\n",
    "        print(var)\n",
    "else:\n",
    "        print(\"Bye!!\")"
   ]
  },
  {
   "cell_type": "code",
   "execution_count": null,
   "id": "802a8599-f460-42b7-a174-f48f20499e0c",
   "metadata": {},
   "outputs": [],
   "source": [
    "File Handling\n",
    "==============\n",
    "    keyboard <stdin>---read()---python------print()---Monitor <STDOUT>\n",
    "                                 |\n",
    "                                 |\n",
    "                               Storage (File)"
   ]
  },
  {
   "cell_type": "code",
   "execution_count": null,
   "id": "bd469624-27c1-4b37-9c2c-53a722eee096",
   "metadata": {},
   "outputs": [],
   "source": [
    "1. read a data from <STDIN> --python--create a new file- write data to file\n",
    "2. read a data from <File> --- python -- Display to Monitor <STdout> \n",
    "3. read a data from a <OneFile>--python---create/write to <AnotherFile>"
   ]
  },
  {
   "cell_type": "code",
   "execution_count": null,
   "id": "34cff895-a723-45d4-848f-f532ac2e893f",
   "metadata": {},
   "outputs": [],
   "source": [
    "read data from File---> open(filename,mode) -> r,w,a"
   ]
  },
  {
   "cell_type": "code",
   "execution_count": null,
   "id": "1989be55-204e-420c-810b-73ceebec7afb",
   "metadata": {},
   "outputs": [],
   "source": [
    "open()--->file object -> 0x123\n",
    "|\n",
    "===================\n",
    "systemcalls\n",
    "|\n",
    "Filesystem  --- [D1 D2... Dn] 0x123\n",
    "|\n",
    "dd\n",
    "|\n",
    "dc\n",
    "|\n",
    "=====================\n",
    "storage<file>"
   ]
  },
  {
   "cell_type": "code",
   "execution_count": null,
   "id": "20fe94cc-5a7b-494d-ad88-186ddde55282",
   "metadata": {},
   "outputs": [],
   "source": [
    "close()"
   ]
  },
  {
   "cell_type": "code",
   "execution_count": 211,
   "id": "63a29665-9d4e-4319-99de-32006873ad5f",
   "metadata": {},
   "outputs": [
    {
     "data": {
      "text/plain": [
       "<_io.TextIOWrapper name='C:\\\\Users\\\\theeba\\\\emp.csv' mode='r' encoding='cp1252'>"
      ]
     },
     "execution_count": 211,
     "metadata": {},
     "output_type": "execute_result"
    }
   ],
   "source": [
    "fobj=open(\"C:\\\\Users\\\\theeba\\\\emp.csv\",'r')"
   ]
  },
  {
   "cell_type": "code",
   "execution_count": null,
   "id": "ffd20633-9c82-4052-82fd-2f719685cae4",
   "metadata": {},
   "outputs": [],
   "source": [
    "fobj.read()-> single str\n",
    "fobj.readlines()--> list\n",
    "fobj.readline()-> single line content "
   ]
  },
  {
   "cell_type": "code",
   "execution_count": 213,
   "id": "ad776b3d-dbb6-4dee-9801-12b11a5a39c6",
   "metadata": {},
   "outputs": [
    {
     "data": {
      "text/plain": [
       "'101,ram,sales,pune,1000\\n102,leo,prod,bglore,2000\\n103,anu,HR,hyd,3000\\n104,paul,sales,bglore,3200\\n423,zio,sales,pune,3420\\n142,anu,prod,chennai,4300\\n949,karthik,sales,bglore,3100\\n848,tom,hr,chennai,3940\\n931,vijay,prod,chennai,3411'"
      ]
     },
     "execution_count": 213,
     "metadata": {},
     "output_type": "execute_result"
    }
   ],
   "source": [
    "fobj=open(\"C:\\\\Users\\\\theeba\\\\emp.csv\")\n",
    "fobj.read()"
   ]
  },
  {
   "cell_type": "code",
   "execution_count": 217,
   "id": "868c1cbb-71b3-4ac0-b38e-9f7aaa002201",
   "metadata": {},
   "outputs": [
    {
     "data": {
      "text/plain": [
       "['101,ram,sales,pune,1000\\n',\n",
       " '102,leo,prod,bglore,2000\\n',\n",
       " '103,anu,HR,hyd,3000\\n',\n",
       " '104,paul,sales,bglore,3200\\n',\n",
       " '423,zio,sales,pune,3420\\n',\n",
       " '142,anu,prod,chennai,4300\\n',\n",
       " '949,karthik,sales,bglore,3100\\n',\n",
       " '848,tom,hr,chennai,3940\\n',\n",
       " '931,vijay,prod,chennai,3411']"
      ]
     },
     "execution_count": 217,
     "metadata": {},
     "output_type": "execute_result"
    }
   ],
   "source": [
    "fobj=open(\"C:\\\\Users\\\\theeba\\\\emp.csv\")\n",
    "fobj.readlines()"
   ]
  },
  {
   "cell_type": "code",
   "execution_count": null,
   "id": "e0fb801c-9a12-4805-ba2c-95a17078fb0a",
   "metadata": {},
   "outputs": [],
   "source": [
    "In Linux\n",
    "head -n 5 filename      \n",
    "\n",
    "fobj=open(filename)\n",
    "L=fobj.readlines()\n",
    "L[:5] \n",
    "\n",
    "tail -n 5 filename\n",
    "L=fobj.readlines()\n",
    "L[-5:]\n"
   ]
  },
  {
   "cell_type": "code",
   "execution_count": null,
   "id": "b46f165c-6cf6-46d0-915f-4d06fcdbd36b",
   "metadata": {},
   "outputs": [],
   "source": [
    "create a newfile and write data to file- overwrite existing content\n",
    "open(filename,'w')\n",
    "\n",
    "open(filename,'a')\n",
    "\n",
    "fobj.write(\"singlestring\")\n",
    "\n",
    "fobj.write(323222)  # invalid\n",
    "fobj.write(\"hai\",\"hello\")   # invalid \n",
    "fobj.write(\"hai\" \"hello\") # valid\n",
    "fobj.write(\"hai\"+\"hello\") # valid\n",
    "\n",
    "cost=1545\n",
    "fobj.write(cost) # invalid\n",
    "fobj.write(\"cost\") - ordinary str\n",
    "fobj.write(str(cost)) # typecast to str"
   ]
  },
  {
   "cell_type": "code",
   "execution_count": 219,
   "id": "b84fcad0-547d-43f3-977a-ada42dc76c2b",
   "metadata": {},
   "outputs": [],
   "source": [
    "wobj=open(\"C:\\\\Users\\\\theeba\\\\r1.txt\",\"w\")\n",
    "\n",
    "for v in range(5):\n",
    "    wobj.write(\"Test Server :{}\\n\".format(v+1))\n",
    "\n",
    "wobj.close()\n",
    "\n",
    "                                    "
   ]
  },
  {
   "cell_type": "code",
   "execution_count": 221,
   "id": "e66c1a17-5e88-41ee-9d39-c5123aec5e8c",
   "metadata": {},
   "outputs": [
    {
     "data": {
      "text/plain": [
       "['Test Server :1\\n',\n",
       " 'Test Server :2\\n',\n",
       " 'Test Server :3\\n',\n",
       " 'Test Server :4\\n',\n",
       " 'Test Server :5\\n']"
      ]
     },
     "execution_count": 221,
     "metadata": {},
     "output_type": "execute_result"
    }
   ],
   "source": [
    "F=open(\"C:\\\\Users\\\\theeba\\\\r1.txt\",\"r\")\n",
    "F.readlines()"
   ]
  },
  {
   "cell_type": "code",
   "execution_count": null,
   "id": "206c4a58-3792-4d59-b05d-692d571a92bc",
   "metadata": {},
   "outputs": [],
   "source": [
    "Task\n",
    "====\n",
    "\n",
    "Modify pin example\n",
    "|\n",
    "create a newfile called pinhistory.log - append mode\n",
    "    |\n",
    "    keep adding pin entry (Success/Failed) "
   ]
  },
  {
   "cell_type": "code",
   "execution_count": null,
   "id": "34236857-3e3c-48dd-b2dc-56b9dc1a3af3",
   "metadata": {},
   "outputs": [],
   "source": [
    "Task\n",
    "===\n",
    "Demonstrate  file copy  - cp oldfile newfile\n",
    "read data from <oldfile> ---python--- create <anotherfile> - write"
   ]
  },
  {
   "cell_type": "code",
   "execution_count": null,
   "id": "fdb1f506-318f-4789-ac18-2cd32f5e2234",
   "metadata": {},
   "outputs": [],
   "source": [
    "Function---> function defn   \n",
    "          ---> function call\n",
    "def functionanme():\n",
    "    code block\n",
    "\n",
    "functioname()--> simple function call"
   ]
  },
  {
   "cell_type": "code",
   "execution_count": null,
   "id": "1a0ccfa9-8060-4a89-a165-20936015f725",
   "metadata": {},
   "outputs": [],
   "source": [
    "L.append() -->\n",
    "len()\n",
    "type()"
   ]
  },
  {
   "cell_type": "code",
   "execution_count": 223,
   "id": "3335fa51-a1b2-4f71-8bbc-ca8c08e8a3e5",
   "metadata": {},
   "outputs": [],
   "source": [
    "def fx(a1,a2,a3=0,a4=True):\n",
    "    print(a1,type(a1))\n",
    "    return a2+100\n",
    "\n",
    "\n"
   ]
  },
  {
   "cell_type": "code",
   "execution_count": 225,
   "id": "d2ea412f-0213-41b2-9da8-288b24f9983a",
   "metadata": {},
   "outputs": [
    {
     "name": "stdout",
     "output_type": "stream",
     "text": [
      "1 <class 'int'>\n"
     ]
    },
    {
     "data": {
      "text/plain": [
       "102"
      ]
     },
     "execution_count": 225,
     "metadata": {},
     "output_type": "execute_result"
    }
   ],
   "source": [
    "fx(1,2)"
   ]
  }
 ],
 "metadata": {
  "kernelspec": {
   "display_name": "Python 3 (ipykernel)",
   "language": "python",
   "name": "python3"
  },
  "language_info": {
   "codemirror_mode": {
    "name": "ipython",
    "version": 3
   },
   "file_extension": ".py",
   "mimetype": "text/x-python",
   "name": "python",
   "nbconvert_exporter": "python",
   "pygments_lexer": "ipython3",
   "version": "3.12.3"
  }
 },
 "nbformat": 4,
 "nbformat_minor": 5
}
